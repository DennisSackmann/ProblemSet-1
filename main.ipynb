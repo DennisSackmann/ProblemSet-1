{
 "cells": [
  {
   "cell_type": "code",
   "execution_count": 450,
   "id": "af24401f",
   "metadata": {},
   "outputs": [],
   "source": [
    "import yfinance\n",
    "import pandas as pd\n",
    "import numpy as np\n",
    "import matplotlib.pylab as plt\n",
    "import scipy.stats\n",
    "import scipy.optimize"
   ]
  },
  {
   "cell_type": "code",
   "execution_count": 451,
   "id": "9d3b3bcf",
   "metadata": {},
   "outputs": [
    {
     "data": {
      "text/html": [
       "<div>\n",
       "<style scoped>\n",
       "    .dataframe tbody tr th:only-of-type {\n",
       "        vertical-align: middle;\n",
       "    }\n",
       "\n",
       "    .dataframe tbody tr th {\n",
       "        vertical-align: top;\n",
       "    }\n",
       "\n",
       "    .dataframe thead th {\n",
       "        text-align: right;\n",
       "    }\n",
       "</style>\n",
       "<table border=\"1\" class=\"dataframe\">\n",
       "  <thead>\n",
       "    <tr style=\"text-align: right;\">\n",
       "      <th></th>\n",
       "      <th>ENEL.MI</th>\n",
       "      <th>IBE.MC</th>\n",
       "      <th>INRG.L</th>\n",
       "      <th>ORSTED.CO</th>\n",
       "      <th>RWE.DE</th>\n",
       "      <th>logreturn_ENEL.MI</th>\n",
       "      <th>logreturn_IBE.MC</th>\n",
       "      <th>logreturn_INRG.L</th>\n",
       "      <th>logreturn_ORSTED.CO</th>\n",
       "      <th>logreturn_RWE.DE</th>\n",
       "    </tr>\n",
       "    <tr>\n",
       "      <th>Date</th>\n",
       "      <th></th>\n",
       "      <th></th>\n",
       "      <th></th>\n",
       "      <th></th>\n",
       "      <th></th>\n",
       "      <th></th>\n",
       "      <th></th>\n",
       "      <th></th>\n",
       "      <th></th>\n",
       "      <th></th>\n",
       "    </tr>\n",
       "  </thead>\n",
       "  <tbody>\n",
       "    <tr>\n",
       "      <th>2016-07-01</th>\n",
       "      <td>2.562863</td>\n",
       "      <td>4.207121</td>\n",
       "      <td>398.191650</td>\n",
       "      <td>237.851883</td>\n",
       "      <td>12.512494</td>\n",
       "      <td>0.074700</td>\n",
       "      <td>0.009483</td>\n",
       "      <td>0.038088</td>\n",
       "      <td>0.120231</td>\n",
       "      <td>0.114096</td>\n",
       "    </tr>\n",
       "    <tr>\n",
       "      <th>2016-08-01</th>\n",
       "      <td>2.463286</td>\n",
       "      <td>4.143828</td>\n",
       "      <td>408.478516</td>\n",
       "      <td>232.322464</td>\n",
       "      <td>11.536983</td>\n",
       "      <td>-0.039629</td>\n",
       "      <td>-0.015159</td>\n",
       "      <td>0.025506</td>\n",
       "      <td>-0.023522</td>\n",
       "      <td>-0.081170</td>\n",
       "    </tr>\n",
       "    <tr>\n",
       "      <th>2016-09-01</th>\n",
       "      <td>2.469510</td>\n",
       "      <td>4.250585</td>\n",
       "      <td>407.979156</td>\n",
       "      <td>241.362610</td>\n",
       "      <td>12.064075</td>\n",
       "      <td>0.002523</td>\n",
       "      <td>0.025436</td>\n",
       "      <td>-0.001223</td>\n",
       "      <td>0.038174</td>\n",
       "      <td>0.044674</td>\n",
       "    </tr>\n",
       "    <tr>\n",
       "      <th>2016-10-01</th>\n",
       "      <td>2.439636</td>\n",
       "      <td>4.360852</td>\n",
       "      <td>421.711700</td>\n",
       "      <td>235.833221</td>\n",
       "      <td>11.375710</td>\n",
       "      <td>-0.012171</td>\n",
       "      <td>0.025611</td>\n",
       "      <td>0.033106</td>\n",
       "      <td>-0.023176</td>\n",
       "      <td>-0.058752</td>\n",
       "    </tr>\n",
       "    <tr>\n",
       "      <th>2016-11-01</th>\n",
       "      <td>2.373667</td>\n",
       "      <td>4.001112</td>\n",
       "      <td>369.927704</td>\n",
       "      <td>210.204865</td>\n",
       "      <td>9.330283</td>\n",
       "      <td>-0.027413</td>\n",
       "      <td>-0.086095</td>\n",
       "      <td>-0.131014</td>\n",
       "      <td>-0.115042</td>\n",
       "      <td>-0.198215</td>\n",
       "    </tr>\n",
       "  </tbody>\n",
       "</table>\n",
       "</div>"
      ],
      "text/plain": [
       "             ENEL.MI    IBE.MC      INRG.L   ORSTED.CO     RWE.DE  \\\n",
       "Date                                                                \n",
       "2016-07-01  2.562863  4.207121  398.191650  237.851883  12.512494   \n",
       "2016-08-01  2.463286  4.143828  408.478516  232.322464  11.536983   \n",
       "2016-09-01  2.469510  4.250585  407.979156  241.362610  12.064075   \n",
       "2016-10-01  2.439636  4.360852  421.711700  235.833221  11.375710   \n",
       "2016-11-01  2.373667  4.001112  369.927704  210.204865   9.330283   \n",
       "\n",
       "            logreturn_ENEL.MI  logreturn_IBE.MC  logreturn_INRG.L  \\\n",
       "Date                                                                \n",
       "2016-07-01           0.074700          0.009483          0.038088   \n",
       "2016-08-01          -0.039629         -0.015159          0.025506   \n",
       "2016-09-01           0.002523          0.025436         -0.001223   \n",
       "2016-10-01          -0.012171          0.025611          0.033106   \n",
       "2016-11-01          -0.027413         -0.086095         -0.131014   \n",
       "\n",
       "            logreturn_ORSTED.CO  logreturn_RWE.DE  \n",
       "Date                                               \n",
       "2016-07-01             0.120231          0.114096  \n",
       "2016-08-01            -0.023522         -0.081170  \n",
       "2016-09-01             0.038174          0.044674  \n",
       "2016-10-01            -0.023176         -0.058752  \n",
       "2016-11-01            -0.115042         -0.198215  "
      ]
     },
     "execution_count": 451,
     "metadata": {},
     "output_type": "execute_result"
    }
   ],
   "source": [
    "# load data from yfinance, format in CSV-File and prepare for usage\n",
    "\n",
    "#yfinance.download(['RWE.DE', 'IBE.MC', 'ORSTED.CO', 'ENEL.MI', 'INRG.L'], interval='1mo').to_csv('combined.csv')\n",
    "\n",
    "#pd.read_csv('combined.csv')[['Price', 'Close', 'Close.1', 'Close.2', 'Close.3', 'Close.4']].dropna().to_csv('data.csv', index=False)\n",
    "\n",
    "data = pd.read_csv('data.csv',index_col=['Date'],date_format=['Date'])\n",
    "\n",
    "ticker = ['ENEL.MI', 'IBE.MC', 'INRG.L', 'ORSTED.CO', 'RWE.DE']\n",
    "\n",
    "for i in range(len(ticker)):\n",
    "    data.loc[:, \"logreturn_\" + ticker[i]] = np.log(data[ticker[i]]) - np.log(data[ticker[i]].shift())\n",
    "\n",
    "data = data.dropna()\n",
    "\n",
    "data.head()\n"
   ]
  },
  {
   "cell_type": "markdown",
   "id": "287e7f8b",
   "metadata": {},
   "source": [
    "# Checking for normal distribution\n",
    "\n",
    "With an alpha of 0.05"
   ]
  },
  {
   "cell_type": "code",
   "execution_count": 452,
   "id": "82948970",
   "metadata": {},
   "outputs": [
    {
     "data": {
      "text/plain": [
       "array([3.98531342, 6.9008758 , 9.26127031, 5.37185235, 5.27292224])"
      ]
     },
     "execution_count": 452,
     "metadata": {},
     "output_type": "execute_result"
    }
   ],
   "source": [
    "JB = np.zeros((len(ticker)))\n",
    "\n",
    "\n",
    "\n",
    "for i in range(len(ticker)):\n",
    "    S = scipy.stats.skew(data[\"logreturn_\" + ticker[i]])\n",
    "    K = scipy.stats.kurtosis(data[\"logreturn_\" + ticker[i]], fisher=False)\n",
    "    N = data.shape[0]\n",
    "    JB[i] = (N / 6) * (S**2 + 0.25 * (K - 3)**2)\n",
    "\n",
    "\n",
    "JB\n",
    "    "
   ]
  },
  {
   "cell_type": "code",
   "execution_count": 453,
   "id": "39f9829a",
   "metadata": {},
   "outputs": [
    {
     "data": {
      "text/plain": [
       "array([0.86366725, 0.96826826, 0.99025143, 0.93184196, 0.92838574])"
      ]
     },
     "execution_count": 453,
     "metadata": {},
     "output_type": "execute_result"
    }
   ],
   "source": [
    "cdf = np.zeros((len(ticker)))\n",
    "\n",
    "for i in range(len(ticker)):\n",
    "    cdf[i] = scipy.stats.chi2.cdf(JB[i], 2)\n",
    "\n",
    "cdf\n"
   ]
  },
  {
   "cell_type": "code",
   "execution_count": 454,
   "id": "59e7819a",
   "metadata": {},
   "outputs": [
    {
     "name": "stdout",
     "output_type": "stream",
     "text": [
      "ENEL.MI: probably normal distributed\n",
      "IBE.MC: not normal distributen\n",
      "INRG.L: not normal distributen\n",
      "ORSTED.CO: probably normal distributed\n",
      "RWE.DE: probably normal distributed\n"
     ]
    },
    {
     "data": {
      "text/plain": [
       "array([0.13633275, 0.03173174, 0.00974857, 0.06815804, 0.07161426])"
      ]
     },
     "execution_count": 454,
     "metadata": {},
     "output_type": "execute_result"
    }
   ],
   "source": [
    "a = 0.05\n",
    "\n",
    "p = np.zeros((len(ticker)))\n",
    "\n",
    "for i in range(len(ticker)):\n",
    "    p[i] = 1 - cdf[i]\n",
    "    if p[i] > a:\n",
    "        print(ticker[i] + \": probably normal distributed\")\n",
    "    else: \n",
    "        print(ticker[i] + \": not normal distributen\")\n",
    "\n",
    "p"
   ]
  },
  {
   "cell_type": "markdown",
   "id": "2e861ab3",
   "metadata": {},
   "source": [
    "## Interpretation\n",
    "\n",
    "The analysis using the Jarque-Bera test indicates, that IBE.MC and INRG.L are not normal distributed. This deviation implies a higher likelihood of extreme return outcomes than predicted by the normal distribution assumption. As a result, mean-variance optimization — which relies on variance as a complete risk measure — may underestimate the true risk of these assets."
   ]
  },
  {
   "cell_type": "markdown",
   "id": "00c90a10",
   "metadata": {},
   "source": [
    "# Build the IOS"
   ]
  },
  {
   "cell_type": "code",
   "execution_count": 455,
   "id": "fc707752",
   "metadata": {},
   "outputs": [
    {
     "name": "stdout",
     "output_type": "stream",
     "text": [
      "[0.13218888 0.14508461 0.04186212 0.02225458 0.11922108]\n",
      "[[0.04606144 0.03198705 0.0162549  0.02258017 0.03524565]\n",
      " [0.03198705 0.03734094 0.0217247  0.02188248 0.03122188]\n",
      " [0.0162549  0.0217247  0.07364653 0.03415299 0.0370022 ]\n",
      " [0.02258017 0.02188248 0.03415299 0.09237534 0.03694778]\n",
      " [0.03524565 0.03122188 0.0370022  0.03694778 0.0853863 ]]\n"
     ]
    }
   ],
   "source": [
    "\n",
    "mu = np.zeros((len(ticker)))\n",
    "\n",
    "for i in range(len(ticker)):\n",
    "    mu[i] = np.mean(data[\"logreturn_\" + ticker[i]])*12\n",
    "\n",
    "Sigma = np.cov(data[['logreturn_ENEL.MI', 'logreturn_IBE.MC', 'logreturn_INRG.L', 'logreturn_ORSTED.CO', 'logreturn_RWE.DE']].T)*12\n",
    "\n",
    "print(mu)\n",
    "print(Sigma)\n"
   ]
  },
  {
   "cell_type": "markdown",
   "id": "dae638b6",
   "metadata": {},
   "source": [
    "# Building a Efficient Frontier\n",
    "\n",
    "## 1. unconstrained"
   ]
  },
  {
   "cell_type": "code",
   "execution_count": 456,
   "id": "41e311d9",
   "metadata": {},
   "outputs": [],
   "source": [
    "def portfolio_variance(w):\n",
    "    #input: w as  numpy column vector\n",
    "    #output: scalar\n",
    "    return (w.T@Sigma@w).item()\n",
    "\n",
    "def eq_portfolio_return(w):\n",
    "    #input: numpy portfolio column vector\n",
    "    #note: mu_i is a global variable; needs to be known before calling this function\n",
    "    #output: difference between w's expected return and the target return; scalar\n",
    "    \n",
    "    return (w.T@mu).item() - mu_i #constraint to meet target expected return mu_i\n",
    "\n",
    "\n",
    "def eq_weight_sum(w): \n",
    "    #content: full investment constraint: 100% is invested in risky assets\n",
    "    #input: numpy portfolio column vector\n",
    "    #output: difference between sum of portfolio holdings and 100%=1. \n",
    "    \n",
    "    return np.sum(w) - 1\n",
    "\n",
    "#starting values\n",
    "w0 = [0.2, 0.2, 0.2, 0.2, 0.2] #equal weight for each asset\n",
    "\n",
    "#bounds \n",
    "bounds = [(0, 1), (0, 1), (0, 1), (0, 1), (0, 1)]\n",
    "\n",
    "#constrains\n",
    "constraints = [{'type': 'eq', 'fun': eq_portfolio_return},\n",
    "               {'type': 'eq', 'fun': eq_weight_sum}\n",
    "               ] #target return and full investment constraint"
   ]
  },
  {
   "cell_type": "code",
   "execution_count": 457,
   "id": "5cbb1a57",
   "metadata": {},
   "outputs": [],
   "source": [
    "#loop through y-axis\n",
    "\n",
    "mu_min = 0.01\n",
    "mu_max = 1\n",
    "incr = 0.001"
   ]
  },
  {
   "cell_type": "code",
   "execution_count": 458,
   "id": "ea0cc5a3",
   "metadata": {},
   "outputs": [
    {
     "data": {
      "text/plain": [
       "991"
      ]
     },
     "execution_count": 458,
     "metadata": {},
     "output_type": "execute_result"
    }
   ],
   "source": [
    "#number of evaluations (i.e. number of optimizations)\n",
    "nr_evals = int( (mu_max - mu_min) / incr + 1)\n",
    "nr_evals #number of portfolios on the MV-frontier"
   ]
  },
  {
   "cell_type": "code",
   "execution_count": 459,
   "id": "000b437e",
   "metadata": {},
   "outputs": [],
   "source": [
    "# MV-Frontier\n",
    "\n",
    "w_MV = np.zeros((nr_evals, 5))\n",
    "mu_MV = np.zeros((nr_evals,))\n",
    "sigma_MV = np.zeros((nr_evals,))\n",
    "\n",
    "mu_i = mu_min\n",
    "for i in range(0,nr_evals):\n",
    "    w_opt = scipy.optimize.minimize(portfolio_variance, w0, constraints=constraints)\n",
    "    w_MV[i,:] = w_opt.x\n",
    "    mu_MV[i] = (w_opt.x.T@mu).item()  #MU: come back here.\n",
    "    sigma_MV[i] = (w_opt.x.T@Sigma@w_opt.x).item()**0.5\n",
    "    \n",
    "    mu_i = mu_i + incr"
   ]
  },
  {
   "cell_type": "code",
   "execution_count": 460,
   "id": "6d68474c",
   "metadata": {},
   "outputs": [
    {
     "name": "stderr",
     "output_type": "stream",
     "text": [
      "<>:12: SyntaxWarning: invalid escape sequence '\\s'\n",
      "<>:12: SyntaxWarning: invalid escape sequence '\\s'\n",
      "/var/folders/l7/q149vsq90bb6jd1b96qw2qyc0000gn/T/ipykernel_58142/852197012.py:12: SyntaxWarning: invalid escape sequence '\\s'\n",
      "  plt.xlabel('$\\sigma(r)$')\n"
     ]
    },
    {
     "data": {
      "image/png": "[encoded data removed]",
      "text/plain": [
       "<Figure size 1200x700 with 1 Axes>"
      ]
     },
     "metadata": {},
     "output_type": "display_data"
    }
   ],
   "source": [
    "# Plot MV-Frontier\n",
    "\n",
    "plt.figure(1, figsize=(12,7))\n",
    "\n",
    "#show the MV-frontier that obeys constraints and bounds\n",
    "plt.plot(sigma_MV, mu_MV, color='blue',label='Constrained MV-Frontier')\n",
    "\n",
    "# add single assets investment opportunities\n",
    "plt.scatter(np.diag(Sigma)**0.5, mu, s=20, color='black', label='Individual Assets')\n",
    "\n",
    "#descrive axis\n",
    "plt.xlabel('$\\sigma(r)$')\n",
    "plt.ylabel('$E[r]$')\n",
    "\n",
    "plt.legend()\n",
    "\n",
    "#add a title\n",
    "plt.title('Constrained Minimum Variance Frontier')\n",
    "plt.show()"
   ]
  },
  {
   "cell_type": "code",
   "execution_count": 461,
   "id": "f24f108b",
   "metadata": {},
   "outputs": [
    {
     "name": "stdout",
     "output_type": "stream",
     "text": [
      "1.0000000000465206\n",
      "[-1.65996515  8.80878555 -4.03068271 -3.74015012  1.62201243]\n",
      "0.9999999999999998\n",
      "99\n"
     ]
    }
   ],
   "source": [
    "p = 990\n",
    "\n",
    "print(mu_MV[p])\n",
    "print(w_MV[p])\n",
    "print(np.sum(w_MV[p]))\n",
    "\n",
    "print(np.argmin(sigma_MV))"
   ]
  },
  {
   "cell_type": "markdown",
   "id": "b30bcd92",
   "metadata": {},
   "source": [
    "## 2. Constrained\n",
    "To ensure realistic implementable portfolio weight, we allow no short-positions and no leverage."
   ]
  },
  {
   "cell_type": "code",
   "execution_count": 462,
   "id": "7c22db8b",
   "metadata": {},
   "outputs": [],
   "source": [
    "#loop through y-axis\n",
    "\n",
    "mu_min = 0.01\n",
    "mu_max = 0.2\n",
    "incr = 0.001"
   ]
  },
  {
   "cell_type": "code",
   "execution_count": 463,
   "id": "8c197e34",
   "metadata": {},
   "outputs": [
    {
     "data": {
      "text/plain": [
       "191"
      ]
     },
     "execution_count": 463,
     "metadata": {},
     "output_type": "execute_result"
    }
   ],
   "source": [
    "#number of evaluations (i.e. number of optimizations)\n",
    "nr_evals = int( (mu_max - mu_min) / incr + 1)\n",
    "nr_evals #number of portfolios on the MV-frontier"
   ]
  },
  {
   "cell_type": "code",
   "execution_count": 464,
   "id": "fcb41ce1",
   "metadata": {},
   "outputs": [],
   "source": [
    "# MV-Frontier\n",
    "\n",
    "w_MV = np.zeros((nr_evals, 5))\n",
    "mu_MV = np.zeros((nr_evals,))\n",
    "sigma_MV = np.zeros((nr_evals,))\n",
    "\n",
    "mu_i = mu_min\n",
    "for i in range(0,nr_evals):\n",
    "    w_opt = scipy.optimize.minimize(portfolio_variance, w0, bounds=bounds, constraints=constraints)\n",
    "    w_MV[i,:] = w_opt.x\n",
    "    mu_MV[i] = (w_opt.x.T@mu).item()  #MU: come back here.\n",
    "    sigma_MV[i] = (w_opt.x.T@Sigma@w_opt.x).item()**0.5\n",
    "    \n",
    "    mu_i = mu_i + incr"
   ]
  },
  {
   "cell_type": "markdown",
   "id": "314cc5c6",
   "metadata": {},
   "source": [
    "# Tangency Portfolio\n",
    " As the risk-free rate, we choose Germany's 10-Year Bund with a 2.7% return."
   ]
  },
  {
   "cell_type": "code",
   "execution_count": 465,
   "id": "2cac2168",
   "metadata": {},
   "outputs": [
    {
     "data": {
      "text/plain": [
       "134"
      ]
     },
     "execution_count": 465,
     "metadata": {},
     "output_type": "execute_result"
    }
   ],
   "source": [
    "rf = 0.027\n",
    "\n",
    "SR_MV = (mu_MV - rf) / sigma_MV\n",
    "\n",
    "TP_index = np.argmax(SR_MV)\n",
    "\n",
    "TP_index"
   ]
  },
  {
   "cell_type": "code",
   "execution_count": 466,
   "id": "3e8f6556",
   "metadata": {},
   "outputs": [
    {
     "data": {
      "text/plain": [
       "array([8.41061454e-02, 9.15893855e-01, 0.00000000e+00, 1.02695630e-15,\n",
       "       0.00000000e+00])"
      ]
     },
     "execution_count": 466,
     "metadata": {},
     "output_type": "execute_result"
    }
   ],
   "source": [
    "w_TP = w_MV[TP_index]\n",
    "w_TP"
   ]
  },
  {
   "cell_type": "code",
   "execution_count": 467,
   "id": "364909fb",
   "metadata": {},
   "outputs": [
    {
     "data": {
      "text/plain": [
       "0.1440000008883342"
      ]
     },
     "execution_count": 467,
     "metadata": {},
     "output_type": "execute_result"
    }
   ],
   "source": [
    "mu_TP = mu_MV[TP_index]\n",
    "mu_TP"
   ]
  },
  {
   "cell_type": "code",
   "execution_count": 468,
   "id": "6b57986b",
   "metadata": {},
   "outputs": [
    {
     "data": {
      "text/plain": [
       "0.19125319867191434"
      ]
     },
     "execution_count": 468,
     "metadata": {},
     "output_type": "execute_result"
    }
   ],
   "source": [
    "sigma_TP = sigma_MV[TP_index]\n",
    "sigma_TP"
   ]
  },
  {
   "cell_type": "code",
   "execution_count": 469,
   "id": "8ae09b47",
   "metadata": {},
   "outputs": [
    {
     "data": {
      "text/plain": [
       "0.6117544788834726"
      ]
     },
     "execution_count": 469,
     "metadata": {},
     "output_type": "execute_result"
    }
   ],
   "source": [
    "SR_TP = (mu_TP - rf) / sigma_TP\n",
    "SR_TP"
   ]
  },
  {
   "cell_type": "code",
   "execution_count": 470,
   "id": "bcee828a",
   "metadata": {},
   "outputs": [
    {
     "name": "stderr",
     "output_type": "stream",
     "text": [
      "<>:19: SyntaxWarning: invalid escape sequence '\\s'\n",
      "<>:19: SyntaxWarning: invalid escape sequence '\\s'\n",
      "/var/folders/l7/q149vsq90bb6jd1b96qw2qyc0000gn/T/ipykernel_58142/907976700.py:19: SyntaxWarning: invalid escape sequence '\\s'\n",
      "  plt.xlabel('$\\sigma(r)$')\n"
     ]
    },
    {
     "data": {
      "image/png": "[encoded data removed]",
      "text/plain": [
       "<Figure size 1200x700 with 1 Axes>"
      ]
     },
     "metadata": {},
     "output_type": "display_data"
    }
   ],
   "source": [
    "# Plot MV-Frontier\n",
    "\n",
    "plt.figure(1, figsize=(12,7))\n",
    "\n",
    "#show the MV-frontier that obeys constraints and bounds\n",
    "plt.plot(sigma_MV, mu_MV, color='blue',label='Constrained MV-Frontier')\n",
    "\n",
    "# add single assets investment opportunities and risk-free asset\n",
    "plt.scatter(np.diag(Sigma)**0.5, mu, s=20, color='black', label='Individual Assets')\n",
    "plt.scatter([0], [rf], s = 20, color='green', label='$r_f$')\n",
    "plt.scatter(sigma_TP, mu_TP, s = 20, color='red', label='TP Portfolio')\n",
    "\n",
    "# add capital market line\n",
    "x = np.linspace(0, np.max(sigma_MV))\n",
    "y = rf + SR_TP * x\n",
    "plt.plot(x, y, color='grey', label='Capital Market line')\n",
    "\n",
    "#descrive axis\n",
    "plt.xlabel('$\\sigma(r)$')\n",
    "plt.ylabel('$E[r]$')\n",
    "\n",
    "plt.legend()\n",
    "\n",
    "#add a title\n",
    "plt.title('Constrained Minimum Variance Frontier')\n",
    "plt.show()"
   ]
  },
  {
   "cell_type": "markdown",
   "id": "69287afb",
   "metadata": {},
   "source": [
    "# Optimal Complete Portfolio\n",
    "\n",
    "Ris Aversion = 3 (medium)"
   ]
  },
  {
   "cell_type": "code",
   "execution_count": 479,
   "id": "5ddeb87b",
   "metadata": {},
   "outputs": [
    {
     "data": {
      "text/plain": [
       "1.0662209105199645"
      ]
     },
     "execution_count": 479,
     "metadata": {},
     "output_type": "execute_result"
    }
   ],
   "source": [
    "A = 3\n",
    "\n",
    "y = (mu_TP - rf) / (A * (sigma_TP ** 2))\n",
    "\n",
    "y"
   ]
  },
  {
   "cell_type": "markdown",
   "id": "a549d4c9",
   "metadata": {},
   "source": [
    "# Decomposing expected portfolio performance (return and risk) using CAPM Model"
   ]
  },
  {
   "cell_type": "code",
   "execution_count": null,
   "id": "ee72bcce",
   "metadata": {},
   "outputs": [],
   "source": []
  }
 ],
 "metadata": {
  "kernelspec": {
   "display_name": "Python 3",
   "language": "python",
   "name": "python3"
  },
  "language_info": {
   "codemirror_mode": {
    "name": "ipython",
    "version": 3
   },
   "file_extension": ".py",
   "mimetype": "text/x-python",
   "name": "python",
   "nbconvert_exporter": "python",
   "pygments_lexer": "ipython3",
   "version": "3.12.2"
  }
 },
 "nbformat": 4,
 "nbformat_minor": 5
}
