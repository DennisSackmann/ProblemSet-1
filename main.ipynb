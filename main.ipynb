{
 "cells": [
  {
   "cell_type": "markdown",
   "id": "a51beea6",
   "metadata": {},
   "source": [
    "# Problem Set 1: \"Building a Strategic Portfolio\""
   ]
  },
  {
   "cell_type": "code",
   "execution_count": 176,
   "id": "144618e1",
   "metadata": {},
   "outputs": [],
   "source": [
    "# import packages\n",
    "import pandas as pd\n",
    "import numpy as np\n",
    "import yfinance\n",
    "import matplotlib.pylab as plt\n",
    "import scipy.stats\n",
    "import statsmodels.api as sm"
   ]
  },
  {
   "cell_type": "code",
   "execution_count": 177,
   "id": "c9a034ef",
   "metadata": {},
   "outputs": [
    {
     "data": {
      "text/html": [
       "<div>\n",
       "<style scoped>\n",
       "    .dataframe tbody tr th:only-of-type {\n",
       "        vertical-align: middle;\n",
       "    }\n",
       "\n",
       "    .dataframe tbody tr th {\n",
       "        vertical-align: top;\n",
       "    }\n",
       "\n",
       "    .dataframe thead th {\n",
       "        text-align: right;\n",
       "    }\n",
       "</style>\n",
       "<table border=\"1\" class=\"dataframe\">\n",
       "  <thead>\n",
       "    <tr style=\"text-align: right;\">\n",
       "      <th></th>\n",
       "      <th>AAPL</th>\n",
       "      <th>MSFT</th>\n",
       "      <th>ORSTED.CO</th>\n",
       "      <th>TSLA</th>\n",
       "      <th>V</th>\n",
       "      <th>^GSPC</th>\n",
       "    </tr>\n",
       "    <tr>\n",
       "      <th>Date</th>\n",
       "      <th></th>\n",
       "      <th></th>\n",
       "      <th></th>\n",
       "      <th></th>\n",
       "      <th></th>\n",
       "      <th></th>\n",
       "    </tr>\n",
       "  </thead>\n",
       "  <tbody>\n",
       "    <tr>\n",
       "      <th>2016-06-01</th>\n",
       "      <td>21.849648</td>\n",
       "      <td>45.602215</td>\n",
       "      <td>210.907013</td>\n",
       "      <td>14.152000</td>\n",
       "      <td>69.670120</td>\n",
       "      <td>2098.860107</td>\n",
       "    </tr>\n",
       "    <tr>\n",
       "      <th>2016-07-01</th>\n",
       "      <td>23.817484</td>\n",
       "      <td>50.512680</td>\n",
       "      <td>237.851852</td>\n",
       "      <td>15.652667</td>\n",
       "      <td>73.314705</td>\n",
       "      <td>2173.600098</td>\n",
       "    </tr>\n",
       "    <tr>\n",
       "      <th>2016-08-01</th>\n",
       "      <td>24.249447</td>\n",
       "      <td>51.207809</td>\n",
       "      <td>232.322479</td>\n",
       "      <td>14.134000</td>\n",
       "      <td>75.991806</td>\n",
       "      <td>2170.949951</td>\n",
       "    </tr>\n",
       "    <tr>\n",
       "      <th>2016-09-01</th>\n",
       "      <td>25.977856</td>\n",
       "      <td>51.652515</td>\n",
       "      <td>241.362595</td>\n",
       "      <td>13.602000</td>\n",
       "      <td>77.817375</td>\n",
       "      <td>2168.270020</td>\n",
       "    </tr>\n",
       "    <tr>\n",
       "      <th>2016-10-01</th>\n",
       "      <td>26.090462</td>\n",
       "      <td>53.732948</td>\n",
       "      <td>235.833191</td>\n",
       "      <td>13.182000</td>\n",
       "      <td>77.638618</td>\n",
       "      <td>2126.149902</td>\n",
       "    </tr>\n",
       "  </tbody>\n",
       "</table>\n",
       "</div>"
      ],
      "text/plain": [
       "                 AAPL       MSFT   ORSTED.CO       TSLA          V  \\\n",
       "Date                                                                 \n",
       "2016-06-01  21.849648  45.602215  210.907013  14.152000  69.670120   \n",
       "2016-07-01  23.817484  50.512680  237.851852  15.652667  73.314705   \n",
       "2016-08-01  24.249447  51.207809  232.322479  14.134000  75.991806   \n",
       "2016-09-01  25.977856  51.652515  241.362595  13.602000  77.817375   \n",
       "2016-10-01  26.090462  53.732948  235.833191  13.182000  77.638618   \n",
       "\n",
       "                  ^GSPC  \n",
       "Date                     \n",
       "2016-06-01  2098.860107  \n",
       "2016-07-01  2173.600098  \n",
       "2016-08-01  2170.949951  \n",
       "2016-09-01  2168.270020  \n",
       "2016-10-01  2126.149902  "
      ]
     },
     "execution_count": 177,
     "metadata": {},
     "output_type": "execute_result"
    }
   ],
   "source": [
    "#load data from yfinance\n",
    "\n",
    "#yfinance.download(['AAPL', 'MSFT', 'TSLA', 'ORSTED.CO', 'V', '^GSPC'], interval='1mo')['Close'].dropna().to_csv('data.csv')\n",
    "\n",
    "# load data from csv file\n",
    "\n",
    "data = pd.read_csv('data.csv', index_col=['Date'], date_format=['Date'])\n",
    "\n",
    "data.head()"
   ]
  },
  {
   "cell_type": "code",
   "execution_count": 178,
   "id": "5d806910",
   "metadata": {},
   "outputs": [
    {
     "data": {
      "text/html": [
       "<div>\n",
       "<style scoped>\n",
       "    .dataframe tbody tr th:only-of-type {\n",
       "        vertical-align: middle;\n",
       "    }\n",
       "\n",
       "    .dataframe tbody tr th {\n",
       "        vertical-align: top;\n",
       "    }\n",
       "\n",
       "    .dataframe thead th {\n",
       "        text-align: right;\n",
       "    }\n",
       "</style>\n",
       "<table border=\"1\" class=\"dataframe\">\n",
       "  <thead>\n",
       "    <tr style=\"text-align: right;\">\n",
       "      <th></th>\n",
       "      <th>AAPL</th>\n",
       "      <th>MSFT</th>\n",
       "      <th>ORSTED.CO</th>\n",
       "      <th>TSLA</th>\n",
       "      <th>V</th>\n",
       "      <th>^GSPC</th>\n",
       "      <th>logreturn_AAPL</th>\n",
       "      <th>logreturn_MSFT</th>\n",
       "      <th>logreturn_TSLA</th>\n",
       "      <th>logreturn_ORSTED.CO</th>\n",
       "      <th>logreturn_V</th>\n",
       "      <th>logreturn_^GSPC</th>\n",
       "    </tr>\n",
       "    <tr>\n",
       "      <th>Date</th>\n",
       "      <th></th>\n",
       "      <th></th>\n",
       "      <th></th>\n",
       "      <th></th>\n",
       "      <th></th>\n",
       "      <th></th>\n",
       "      <th></th>\n",
       "      <th></th>\n",
       "      <th></th>\n",
       "      <th></th>\n",
       "      <th></th>\n",
       "      <th></th>\n",
       "    </tr>\n",
       "  </thead>\n",
       "  <tbody>\n",
       "    <tr>\n",
       "      <th>2016-07-01</th>\n",
       "      <td>23.817484</td>\n",
       "      <td>50.512680</td>\n",
       "      <td>237.851852</td>\n",
       "      <td>15.652667</td>\n",
       "      <td>73.314705</td>\n",
       "      <td>2173.600098</td>\n",
       "      <td>0.086235</td>\n",
       "      <td>0.102268</td>\n",
       "      <td>0.100785</td>\n",
       "      <td>0.120231</td>\n",
       "      <td>0.050990</td>\n",
       "      <td>0.034990</td>\n",
       "    </tr>\n",
       "    <tr>\n",
       "      <th>2016-08-01</th>\n",
       "      <td>24.249447</td>\n",
       "      <td>51.207809</td>\n",
       "      <td>232.322479</td>\n",
       "      <td>14.134000</td>\n",
       "      <td>75.991806</td>\n",
       "      <td>2170.949951</td>\n",
       "      <td>0.017974</td>\n",
       "      <td>0.013668</td>\n",
       "      <td>-0.102058</td>\n",
       "      <td>-0.023522</td>\n",
       "      <td>0.035864</td>\n",
       "      <td>-0.001220</td>\n",
       "    </tr>\n",
       "    <tr>\n",
       "      <th>2016-09-01</th>\n",
       "      <td>25.977856</td>\n",
       "      <td>51.652515</td>\n",
       "      <td>241.362595</td>\n",
       "      <td>13.602000</td>\n",
       "      <td>77.817375</td>\n",
       "      <td>2168.270020</td>\n",
       "      <td>0.068851</td>\n",
       "      <td>0.008647</td>\n",
       "      <td>-0.038366</td>\n",
       "      <td>0.038174</td>\n",
       "      <td>0.023739</td>\n",
       "      <td>-0.001235</td>\n",
       "    </tr>\n",
       "    <tr>\n",
       "      <th>2016-10-01</th>\n",
       "      <td>26.090462</td>\n",
       "      <td>53.732948</td>\n",
       "      <td>235.833191</td>\n",
       "      <td>13.182000</td>\n",
       "      <td>77.638618</td>\n",
       "      <td>2126.149902</td>\n",
       "      <td>0.004325</td>\n",
       "      <td>0.039487</td>\n",
       "      <td>-0.031365</td>\n",
       "      <td>-0.023176</td>\n",
       "      <td>-0.002300</td>\n",
       "      <td>-0.019617</td>\n",
       "    </tr>\n",
       "    <tr>\n",
       "      <th>2016-11-01</th>\n",
       "      <td>25.396496</td>\n",
       "      <td>54.037853</td>\n",
       "      <td>210.204895</td>\n",
       "      <td>12.626667</td>\n",
       "      <td>72.755035</td>\n",
       "      <td>2198.810059</td>\n",
       "      <td>-0.026959</td>\n",
       "      <td>0.005658</td>\n",
       "      <td>-0.043041</td>\n",
       "      <td>-0.115042</td>\n",
       "      <td>-0.064967</td>\n",
       "      <td>0.033604</td>\n",
       "    </tr>\n",
       "  </tbody>\n",
       "</table>\n",
       "</div>"
      ],
      "text/plain": [
       "                 AAPL       MSFT   ORSTED.CO       TSLA          V  \\\n",
       "Date                                                                 \n",
       "2016-07-01  23.817484  50.512680  237.851852  15.652667  73.314705   \n",
       "2016-08-01  24.249447  51.207809  232.322479  14.134000  75.991806   \n",
       "2016-09-01  25.977856  51.652515  241.362595  13.602000  77.817375   \n",
       "2016-10-01  26.090462  53.732948  235.833191  13.182000  77.638618   \n",
       "2016-11-01  25.396496  54.037853  210.204895  12.626667  72.755035   \n",
       "\n",
       "                  ^GSPC  logreturn_AAPL  logreturn_MSFT  logreturn_TSLA  \\\n",
       "Date                                                                      \n",
       "2016-07-01  2173.600098        0.086235        0.102268        0.100785   \n",
       "2016-08-01  2170.949951        0.017974        0.013668       -0.102058   \n",
       "2016-09-01  2168.270020        0.068851        0.008647       -0.038366   \n",
       "2016-10-01  2126.149902        0.004325        0.039487       -0.031365   \n",
       "2016-11-01  2198.810059       -0.026959        0.005658       -0.043041   \n",
       "\n",
       "            logreturn_ORSTED.CO  logreturn_V  logreturn_^GSPC  \n",
       "Date                                                           \n",
       "2016-07-01             0.120231     0.050990         0.034990  \n",
       "2016-08-01            -0.023522     0.035864        -0.001220  \n",
       "2016-09-01             0.038174     0.023739        -0.001235  \n",
       "2016-10-01            -0.023176    -0.002300        -0.019617  \n",
       "2016-11-01            -0.115042    -0.064967         0.033604  "
      ]
     },
     "execution_count": 178,
     "metadata": {},
     "output_type": "execute_result"
    }
   ],
   "source": [
    "#get log-return\n",
    "\n",
    "ticker = ['AAPL', 'MSFT', 'TSLA', 'ORSTED.CO', 'V', '^GSPC']\n",
    "\n",
    "for i in range(len(ticker)):\n",
    "    data.loc[:, \"logreturn_\" + ticker[i]] = np.log(data[ticker[i]]) - np.log(data[ticker[i]].shift())\n",
    "\n",
    "data = data.dropna()\n",
    "\n",
    "data.head()"
   ]
  },
  {
   "cell_type": "markdown",
   "id": "fe6f2826",
   "metadata": {},
   "source": [
    "# Jarque-Bera test for normality"
   ]
  },
  {
   "cell_type": "code",
   "execution_count": 179,
   "id": "c8be5d8b",
   "metadata": {},
   "outputs": [
    {
     "data": {
      "text/plain": [
       "array([1.58036466, 0.19358789, 1.63753842, 4.99006413, 1.43771783])"
      ]
     },
     "execution_count": 179,
     "metadata": {},
     "output_type": "execute_result"
    }
   ],
   "source": [
    "#remove sp500 from ticker list\n",
    "ticker = ['AAPL', 'MSFT', 'TSLA', 'ORSTED.CO', 'V']\n",
    "\n",
    "JB = np.zeros((len(ticker)))\n",
    "\n",
    "for i in range(len(ticker)):\n",
    "    S = scipy.stats.skew(data[\"logreturn_\" + ticker[i]])\n",
    "    K = scipy.stats.kurtosis(data[\"logreturn_\" + ticker[i]], fisher=False)\n",
    "    N = data.shape[0]\n",
    "    JB[i] = (N / 6) * (S**2 + 0.25 * (K - 3)**2)\n",
    "\n",
    "\n",
    "JB"
   ]
  },
  {
   "cell_type": "code",
   "execution_count": 180,
   "id": "1280f735",
   "metadata": {},
   "outputs": [
    {
     "data": {
      "text/plain": [
       "array([0.54623795, 0.09225697, 0.55902593, 0.91750619, 0.512692  ])"
      ]
     },
     "execution_count": 180,
     "metadata": {},
     "output_type": "execute_result"
    }
   ],
   "source": [
    "cdf = np.zeros((len(ticker)))\n",
    "\n",
    "for i in range(len(ticker)):\n",
    "    cdf[i] = scipy.stats.chi2.cdf(JB[i], 2)\n",
    "\n",
    "cdf"
   ]
  },
  {
   "cell_type": "code",
   "execution_count": 181,
   "id": "5f443511",
   "metadata": {},
   "outputs": [
    {
     "name": "stdout",
     "output_type": "stream",
     "text": [
      "AAPL: probably normal distributed\n",
      "MSFT: probably normal distributed\n",
      "TSLA: probably normal distributed\n",
      "ORSTED.CO: probably normal distributed\n",
      "V: probably normal distributed\n"
     ]
    }
   ],
   "source": [
    "a = 0.05\n",
    "\n",
    "p = np.zeros((len(ticker)))\n",
    "\n",
    "for i in range(len(ticker)):\n",
    "    p[i] = 1 - cdf[i]\n",
    "    if p[i] > a:\n",
    "        print(ticker[i] + \": probably normal distributed\")\n",
    "    else: \n",
    "        print(ticker[i] + \": not normal distributen\")"
   ]
  },
  {
   "cell_type": "markdown",
   "id": "6a5a8863",
   "metadata": {},
   "source": [
    "# Build the IOS"
   ]
  },
  {
   "cell_type": "code",
   "execution_count": 182,
   "id": "7454afe9",
   "metadata": {},
   "outputs": [
    {
     "name": "stdout",
     "output_type": "stream",
     "text": [
      "[0.25313229 0.25893204 0.35722069 0.0172158  0.18662126]\n",
      "[[0.07366581 0.03216465 0.08849165 0.0227637  0.0271015 ]\n",
      " [0.03216465 0.03874774 0.05130279 0.01307901 0.01870842]\n",
      " [0.08849165 0.05130279 0.36635139 0.02233752 0.02861921]\n",
      " [0.0227637  0.01307901 0.02233752 0.09280093 0.00944393]\n",
      " [0.0271015  0.01870842 0.02861921 0.00944393 0.03955567]]\n"
     ]
    }
   ],
   "source": [
    "mu = np.zeros((len(ticker)))\n",
    "\n",
    "for i in range(len(ticker)):\n",
    "    mu[i] = np.mean(data[\"logreturn_\" + ticker[i]])*12\n",
    "\n",
    "Sigma = np.cov(data[['logreturn_AAPL', 'logreturn_MSFT', 'logreturn_TSLA', 'logreturn_ORSTED.CO', 'logreturn_V']].T)*12\n",
    "\n",
    "print(mu)\n",
    "print(Sigma)"
   ]
  },
  {
   "cell_type": "markdown",
   "id": "d2090b60",
   "metadata": {},
   "source": [
    "# Building the MV-Frontier\n",
    "\n",
    "## 1. Unconstrained"
   ]
  },
  {
   "cell_type": "code",
   "execution_count": 183,
   "id": "afa50bfc",
   "metadata": {},
   "outputs": [],
   "source": [
    "#SINGLE OPTIMIZATIONS: Objective Function, Constraint Function, Starting Values, Bounds\n",
    "\n",
    "def portfolio_variance(w):\n",
    "        #input: w as numpy column vector\n",
    "        #output: scalar\n",
    "    return (w.T@Sigma@w).item() #objective function to be minimized\n",
    "\n",
    "\n",
    "def eq_portfolio_return(w):\n",
    "    #input: numpy portfolio column vector\n",
    "    #note: mu_i is a global variable; needs to be known before calling this function\n",
    "    #output: difference between w's expected return and the target return; scalar\n",
    "    \n",
    "    return (w.T@mu).item() - mu_i #constraint to meet target expected return mu_i\n",
    "\n",
    "\n",
    "def eq_weight_sum(w): \n",
    "    #content: full investment constraint: 100% is invested in risky assets\n",
    "    #input: numpy portfolio column vector\n",
    "    #output: difference between sum of portfolio holdings and 100%=1. \n",
    "    \n",
    "    return np.sum(w) - 1\n",
    "\n",
    "\n",
    "# starting values\n",
    "w0 = [0.2, 0.2, 0.2, 0.2, 0.2]\n",
    "\n",
    "#no short-sale (bound) and minimum diversification bound\n",
    "bounds = [(0, 0.5), (0, 0.5), (0, 0.5), (0, 0.5), (0, 0.5)]\n",
    "\n",
    "\n",
    "constraints = [{'type': 'eq', 'fun': eq_portfolio_return},\n",
    "               {'type': 'eq', 'fun': eq_weight_sum}\n",
    "               ] #target return and full investment constraint"
   ]
  },
  {
   "cell_type": "code",
   "execution_count": 184,
   "id": "ec859003",
   "metadata": {},
   "outputs": [],
   "source": [
    "#Loop through y-axis (i.e. mu_i)\n",
    "\n",
    "mu_min = 0.01\n",
    "mu_max = 1\n",
    "incr = 0.001"
   ]
  },
  {
   "cell_type": "code",
   "execution_count": 185,
   "id": "7894de39",
   "metadata": {},
   "outputs": [
    {
     "data": {
      "text/plain": [
       "991"
      ]
     },
     "execution_count": 185,
     "metadata": {},
     "output_type": "execute_result"
    }
   ],
   "source": [
    "#number of evaluations\n",
    "nr_evals = int( (mu_max - mu_min) / incr + 1)\n",
    "nr_evals #number of portfolios on the MV-frontier"
   ]
  },
  {
   "cell_type": "code",
   "execution_count": 186,
   "id": "b1f7e0e0",
   "metadata": {},
   "outputs": [],
   "source": [
    "# MV-Frontier\n",
    "\n",
    "w_MV = np.zeros((nr_evals, 5))\n",
    "mu_MV = np.zeros((nr_evals,))\n",
    "sigma_MV = np.zeros((nr_evals,))\n",
    "\n",
    "mu_i = mu_min\n",
    "for i in range(0,nr_evals):\n",
    "    w_opt = scipy.optimize.minimize(portfolio_variance, w0, constraints=constraints)\n",
    "    w_MV[i,:] = w_opt.x\n",
    "    mu_MV[i] = (w_opt.x.T@mu).item() \n",
    "    sigma_MV[i] = (w_opt.x.T@Sigma@w_opt.x).item()**0.5\n",
    "    \n",
    "    mu_i = mu_i + incr"
   ]
  },
  {
   "cell_type": "code",
   "execution_count": 187,
   "id": "698880e6",
   "metadata": {},
   "outputs": [
    {
     "name": "stderr",
     "output_type": "stream",
     "text": [
      "<>:12: SyntaxWarning: invalid escape sequence '\\s'\n",
      "<>:12: SyntaxWarning: invalid escape sequence '\\s'\n",
      "/var/folders/l7/q149vsq90bb6jd1b96qw2qyc0000gn/T/ipykernel_95443/1086647150.py:12: SyntaxWarning: invalid escape sequence '\\s'\n",
      "  plt.xlabel('$\\sigma(r)$')\n"
     ]
    },
    {
     "data": {
      "image/png": "[encoded data removed]",
      "text/plain": [
       "<Figure size 1200x700 with 1 Axes>"
      ]
     },
     "metadata": {},
     "output_type": "display_data"
    }
   ],
   "source": [
    "# Plot MV-Frontier\n",
    "\n",
    "plt.figure(1, figsize=(12,7))\n",
    "\n",
    "#show the MV-frontier that obeys constraints and bounds\n",
    "plt.plot(sigma_MV, mu_MV, color='blue',label='Constrained MV-Frontier')\n",
    "\n",
    "# add single assets investment opportunities\n",
    "plt.scatter(np.diag(Sigma)**0.5, mu[:], s=20, color='black', label='Individual Assets')\n",
    "\n",
    "#descrive axis\n",
    "plt.xlabel('$\\sigma(r)$')\n",
    "plt.ylabel('$E[r]$')\n",
    "\n",
    "plt.legend()\n",
    "\n",
    "#add a title\n",
    "plt.title('Constrained Minimum Variance Frontier')\n",
    "plt.show()"
   ]
  },
  {
   "cell_type": "markdown",
   "id": "4f54e3cf",
   "metadata": {},
   "source": [
    "## Constrained"
   ]
  },
  {
   "cell_type": "code",
   "execution_count": 188,
   "id": "e09304dc",
   "metadata": {},
   "outputs": [],
   "source": [
    "#Loop through y-axis (i.e. mu_i)\n",
    "\n",
    "mu_min = 0.01\n",
    "mu_max = 1\n",
    "incr = 0.001"
   ]
  },
  {
   "cell_type": "code",
   "execution_count": 189,
   "id": "20900bd8",
   "metadata": {},
   "outputs": [
    {
     "data": {
      "text/plain": [
       "991"
      ]
     },
     "execution_count": 189,
     "metadata": {},
     "output_type": "execute_result"
    }
   ],
   "source": [
    "#number of evaluations\n",
    "nr_evals = int( (mu_max - mu_min) / incr + 1)\n",
    "nr_evals #number of portfolios on the MV-frontier"
   ]
  },
  {
   "cell_type": "code",
   "execution_count": 190,
   "id": "ad299521",
   "metadata": {},
   "outputs": [],
   "source": [
    "# MV-Frontier\n",
    "\n",
    "w_MV = np.zeros((nr_evals, 5))\n",
    "mu_MV = np.zeros((nr_evals,))\n",
    "sigma_MV = np.zeros((nr_evals,))\n",
    "\n",
    "mu_i = mu_min\n",
    "for i in range(0,nr_evals):\n",
    "    w_opt = scipy.optimize.minimize(portfolio_variance, w0, bounds=bounds, constraints=constraints)\n",
    "    w_MV[i,:] = w_opt.x\n",
    "    mu_MV[i] = (w_opt.x.T@mu).item()  #MU: come back here.\n",
    "    sigma_MV[i] = (w_opt.x.T@Sigma@w_opt.x).item()**0.5\n",
    "    \n",
    "    mu_i = mu_i + incr"
   ]
  },
  {
   "cell_type": "code",
   "execution_count": 191,
   "id": "e02056bc",
   "metadata": {},
   "outputs": [
    {
     "name": "stderr",
     "output_type": "stream",
     "text": [
      "<>:12: SyntaxWarning: invalid escape sequence '\\s'\n",
      "<>:12: SyntaxWarning: invalid escape sequence '\\s'\n",
      "/var/folders/l7/q149vsq90bb6jd1b96qw2qyc0000gn/T/ipykernel_95443/1086647150.py:12: SyntaxWarning: invalid escape sequence '\\s'\n",
      "  plt.xlabel('$\\sigma(r)$')\n"
     ]
    },
    {
     "data": {
      "image/png": "[encoded data removed]",
      "text/plain": [
       "<Figure size 1200x700 with 1 Axes>"
      ]
     },
     "metadata": {},
     "output_type": "display_data"
    }
   ],
   "source": [
    "# Plot MV-Frontier\n",
    "\n",
    "plt.figure(1, figsize=(12,7))\n",
    "\n",
    "#show the MV-frontier that obeys constraints and bounds\n",
    "plt.plot(sigma_MV, mu_MV, color='blue',label='Constrained MV-Frontier')\n",
    "\n",
    "# add single assets investment opportunities\n",
    "plt.scatter(np.diag(Sigma)**0.5, mu[:], s=20, color='black', label='Individual Assets')\n",
    "\n",
    "#descrive axis\n",
    "plt.xlabel('$\\sigma(r)$')\n",
    "plt.ylabel('$E[r]$')\n",
    "\n",
    "plt.legend()\n",
    "\n",
    "#add a title\n",
    "plt.title('Constrained Minimum Variance Frontier')\n",
    "plt.show()"
   ]
  },
  {
   "cell_type": "markdown",
   "id": "fc43ff20",
   "metadata": {},
   "source": [
    "# Tangency Portfolio"
   ]
  },
  {
   "cell_type": "code",
   "execution_count": 192,
   "id": "7dde2fc7",
   "metadata": {},
   "outputs": [
    {
     "data": {
      "text/plain": [
       "224"
      ]
     },
     "execution_count": 192,
     "metadata": {},
     "output_type": "execute_result"
    }
   ],
   "source": [
    "rf = 0.027\n",
    "\n",
    "SR_MV = (mu_MV - rf) / sigma_MV\n",
    "\n",
    "TP_index = np.argmax(SR_MV)\n",
    "\n",
    "TP_index"
   ]
  },
  {
   "cell_type": "code",
   "execution_count": 193,
   "id": "d3e4f32b",
   "metadata": {},
   "outputs": [
    {
     "data": {
      "text/plain": [
       "array([0.14213467, 0.5       , 0.01037417, 0.        , 0.34749116])"
      ]
     },
     "execution_count": 193,
     "metadata": {},
     "output_type": "execute_result"
    }
   ],
   "source": [
    "w_TP = w_MV[TP_index]\n",
    "w_TP"
   ]
  },
  {
   "cell_type": "code",
   "execution_count": 194,
   "id": "fcdde4de",
   "metadata": {},
   "outputs": [
    {
     "data": {
      "text/plain": [
       "0.23399999999098836"
      ]
     },
     "execution_count": 194,
     "metadata": {},
     "output_type": "execute_result"
    }
   ],
   "source": [
    "mu_TP = mu_MV[TP_index]\n",
    "mu_TP"
   ]
  },
  {
   "cell_type": "code",
   "execution_count": 195,
   "id": "b3ceabb4",
   "metadata": {},
   "outputs": [
    {
     "data": {
      "text/plain": [
       "0.17532911592130693"
      ]
     },
     "execution_count": 195,
     "metadata": {},
     "output_type": "execute_result"
    }
   ],
   "source": [
    "sigma_TP = sigma_MV[TP_index]\n",
    "sigma_TP"
   ]
  },
  {
   "cell_type": "code",
   "execution_count": 196,
   "id": "26323c7b",
   "metadata": {},
   "outputs": [
    {
     "data": {
      "text/plain": [
       "1.1806367636274189"
      ]
     },
     "execution_count": 196,
     "metadata": {},
     "output_type": "execute_result"
    }
   ],
   "source": [
    "SR_TP = (mu_TP - rf) / sigma_TP\n",
    "SR_TP"
   ]
  },
  {
   "cell_type": "markdown",
   "id": "d76d6337",
   "metadata": {},
   "source": [
    "# Optimal Complete Portfolio"
   ]
  },
  {
   "cell_type": "code",
   "execution_count": 197,
   "id": "c7a177f0",
   "metadata": {},
   "outputs": [
    {
     "data": {
      "text/plain": [
       "0.8417289659959593"
      ]
     },
     "execution_count": 197,
     "metadata": {},
     "output_type": "execute_result"
    }
   ],
   "source": [
    "A = 8\n",
    "\n",
    "y = (mu_TP - rf) / (A * (sigma_TP ** 2))\n",
    "\n",
    "y"
   ]
  },
  {
   "cell_type": "code",
   "execution_count": 198,
   "id": "ff528f4b",
   "metadata": {},
   "outputs": [],
   "source": [
    "mu_C = y*mu_TP+(1-y)*rf \n",
    "\n",
    "sigma_C = y*sigma_TP\n",
    "\n",
    "utility_C = mu_C - 0.5*A*(sigma_C**2)"
   ]
  },
  {
   "cell_type": "code",
   "execution_count": 206,
   "id": "04ea20bb",
   "metadata": {},
   "outputs": [
    {
     "name": "stderr",
     "output_type": "stream",
     "text": [
      "<>:25: SyntaxWarning: invalid escape sequence '\\s'\n",
      "<>:25: SyntaxWarning: invalid escape sequence '\\s'\n",
      "/var/folders/l7/q149vsq90bb6jd1b96qw2qyc0000gn/T/ipykernel_95443/2998864789.py:25: SyntaxWarning: invalid escape sequence '\\s'\n",
      "  plt.xlabel('$\\sigma(r)$')\n"
     ]
    },
    {
     "data": {
      "image/png": "[encoded data removed]",
      "text/plain": [
       "<Figure size 1200x700 with 1 Axes>"
      ]
     },
     "metadata": {},
     "output_type": "display_data"
    }
   ],
   "source": [
    "# Plot Tangency Portfolio\n",
    "\n",
    "plt.figure(1, figsize=(12,7))\n",
    "\n",
    "#show the MV-frontier that obeys constraints and bounds\n",
    "plt.plot(sigma_MV, mu_MV, color='blue',label='Constrained MV-Frontier')\n",
    "\n",
    "# add single assets investment opportunities and risk-free asset\n",
    "plt.scatter(np.diag(Sigma)**0.5, mu, s=20, color='black', label='Individual Assets')\n",
    "plt.scatter([0], [rf], s = 20, color='green', label='$r_f$')\n",
    "plt.scatter(sigma_TP, mu_TP, s = 20, color='red', label='TP Portfolio')\n",
    "plt.scatter(sigma_C, mu_C, s = 20, color='Blue', label='Optimal Complete Portfolio')\n",
    "\n",
    "# add capital market line\n",
    "x = np.linspace(0, np.max(sigma_MV))\n",
    "y = rf + SR_TP * x\n",
    "plt.plot(x, y, color='black', label='Capital Market line')\n",
    "\n",
    "# add utility function\n",
    "x = np.linspace(0, np.max(sigma_MV))\n",
    "y = utility_C + 0.5*A*(x**2)\n",
    "plt.plot(x, y, color='green', label='Utility Function')\n",
    "\n",
    "#descrive axis\n",
    "plt.xlabel('$\\sigma(r)$')\n",
    "plt.ylabel('$E[r]$')\n",
    "\n",
    "\n",
    "plt.legend()\n",
    "\n",
    "#add a title\n",
    "plt.title('Tangency Portfolio')\n",
    "plt.show()"
   ]
  },
  {
   "cell_type": "markdown",
   "id": "e0d1caff",
   "metadata": {},
   "source": [
    "# Decomposing expected portfolio performance (return and risk) into systematic ans idiosyncratic components"
   ]
  },
  {
   "cell_type": "code",
   "execution_count": 200,
   "id": "3a2834a6",
   "metadata": {},
   "outputs": [
    {
     "data": {
      "text/html": [
       "<div>\n",
       "<style scoped>\n",
       "    .dataframe tbody tr th:only-of-type {\n",
       "        vertical-align: middle;\n",
       "    }\n",
       "\n",
       "    .dataframe tbody tr th {\n",
       "        vertical-align: top;\n",
       "    }\n",
       "\n",
       "    .dataframe thead th {\n",
       "        text-align: right;\n",
       "    }\n",
       "</style>\n",
       "<table border=\"1\" class=\"dataframe\">\n",
       "  <thead>\n",
       "    <tr style=\"text-align: right;\">\n",
       "      <th></th>\n",
       "      <th>AAPL</th>\n",
       "      <th>MSFT</th>\n",
       "      <th>ORSTED.CO</th>\n",
       "      <th>TSLA</th>\n",
       "      <th>V</th>\n",
       "      <th>^GSPC</th>\n",
       "      <th>logreturn_AAPL</th>\n",
       "      <th>logreturn_MSFT</th>\n",
       "      <th>logreturn_TSLA</th>\n",
       "      <th>logreturn_ORSTED.CO</th>\n",
       "      <th>logreturn_V</th>\n",
       "      <th>logreturn_^GSPC</th>\n",
       "      <th>xr_AAPL</th>\n",
       "      <th>xr_MSFT</th>\n",
       "      <th>xr_TSLA</th>\n",
       "      <th>xr_ORSTED.CO</th>\n",
       "      <th>xr_V</th>\n",
       "      <th>xr_^GSPC</th>\n",
       "    </tr>\n",
       "    <tr>\n",
       "      <th>Date</th>\n",
       "      <th></th>\n",
       "      <th></th>\n",
       "      <th></th>\n",
       "      <th></th>\n",
       "      <th></th>\n",
       "      <th></th>\n",
       "      <th></th>\n",
       "      <th></th>\n",
       "      <th></th>\n",
       "      <th></th>\n",
       "      <th></th>\n",
       "      <th></th>\n",
       "      <th></th>\n",
       "      <th></th>\n",
       "      <th></th>\n",
       "      <th></th>\n",
       "      <th></th>\n",
       "      <th></th>\n",
       "    </tr>\n",
       "  </thead>\n",
       "  <tbody>\n",
       "    <tr>\n",
       "      <th>2016-07-01</th>\n",
       "      <td>23.817484</td>\n",
       "      <td>50.512680</td>\n",
       "      <td>237.851852</td>\n",
       "      <td>15.652667</td>\n",
       "      <td>73.314705</td>\n",
       "      <td>2173.600098</td>\n",
       "      <td>0.086235</td>\n",
       "      <td>0.102268</td>\n",
       "      <td>0.100785</td>\n",
       "      <td>0.120231</td>\n",
       "      <td>0.050990</td>\n",
       "      <td>0.034990</td>\n",
       "      <td>0.086235</td>\n",
       "      <td>0.102268</td>\n",
       "      <td>0.100785</td>\n",
       "      <td>0.120231</td>\n",
       "      <td>0.050990</td>\n",
       "      <td>0.034990</td>\n",
       "    </tr>\n",
       "    <tr>\n",
       "      <th>2016-08-01</th>\n",
       "      <td>24.249447</td>\n",
       "      <td>51.207809</td>\n",
       "      <td>232.322479</td>\n",
       "      <td>14.134000</td>\n",
       "      <td>75.991806</td>\n",
       "      <td>2170.949951</td>\n",
       "      <td>0.017974</td>\n",
       "      <td>0.013668</td>\n",
       "      <td>-0.102058</td>\n",
       "      <td>-0.023522</td>\n",
       "      <td>0.035864</td>\n",
       "      <td>-0.001220</td>\n",
       "      <td>0.017974</td>\n",
       "      <td>0.013668</td>\n",
       "      <td>-0.102058</td>\n",
       "      <td>-0.023522</td>\n",
       "      <td>0.035864</td>\n",
       "      <td>-0.001220</td>\n",
       "    </tr>\n",
       "    <tr>\n",
       "      <th>2016-09-01</th>\n",
       "      <td>25.977856</td>\n",
       "      <td>51.652515</td>\n",
       "      <td>241.362595</td>\n",
       "      <td>13.602000</td>\n",
       "      <td>77.817375</td>\n",
       "      <td>2168.270020</td>\n",
       "      <td>0.068851</td>\n",
       "      <td>0.008647</td>\n",
       "      <td>-0.038366</td>\n",
       "      <td>0.038174</td>\n",
       "      <td>0.023739</td>\n",
       "      <td>-0.001235</td>\n",
       "      <td>0.068851</td>\n",
       "      <td>0.008647</td>\n",
       "      <td>-0.038366</td>\n",
       "      <td>0.038174</td>\n",
       "      <td>0.023739</td>\n",
       "      <td>-0.001235</td>\n",
       "    </tr>\n",
       "    <tr>\n",
       "      <th>2016-10-01</th>\n",
       "      <td>26.090462</td>\n",
       "      <td>53.732948</td>\n",
       "      <td>235.833191</td>\n",
       "      <td>13.182000</td>\n",
       "      <td>77.638618</td>\n",
       "      <td>2126.149902</td>\n",
       "      <td>0.004325</td>\n",
       "      <td>0.039487</td>\n",
       "      <td>-0.031365</td>\n",
       "      <td>-0.023176</td>\n",
       "      <td>-0.002300</td>\n",
       "      <td>-0.019617</td>\n",
       "      <td>0.004325</td>\n",
       "      <td>0.039487</td>\n",
       "      <td>-0.031365</td>\n",
       "      <td>-0.023176</td>\n",
       "      <td>-0.002300</td>\n",
       "      <td>-0.019617</td>\n",
       "    </tr>\n",
       "    <tr>\n",
       "      <th>2016-11-01</th>\n",
       "      <td>25.396496</td>\n",
       "      <td>54.037853</td>\n",
       "      <td>210.204895</td>\n",
       "      <td>12.626667</td>\n",
       "      <td>72.755035</td>\n",
       "      <td>2198.810059</td>\n",
       "      <td>-0.026959</td>\n",
       "      <td>0.005658</td>\n",
       "      <td>-0.043041</td>\n",
       "      <td>-0.115042</td>\n",
       "      <td>-0.064967</td>\n",
       "      <td>0.033604</td>\n",
       "      <td>-0.026959</td>\n",
       "      <td>0.005658</td>\n",
       "      <td>-0.043041</td>\n",
       "      <td>-0.115042</td>\n",
       "      <td>-0.064967</td>\n",
       "      <td>0.033604</td>\n",
       "    </tr>\n",
       "  </tbody>\n",
       "</table>\n",
       "</div>"
      ],
      "text/plain": [
       "                 AAPL       MSFT   ORSTED.CO       TSLA          V  \\\n",
       "Date                                                                 \n",
       "2016-07-01  23.817484  50.512680  237.851852  15.652667  73.314705   \n",
       "2016-08-01  24.249447  51.207809  232.322479  14.134000  75.991806   \n",
       "2016-09-01  25.977856  51.652515  241.362595  13.602000  77.817375   \n",
       "2016-10-01  26.090462  53.732948  235.833191  13.182000  77.638618   \n",
       "2016-11-01  25.396496  54.037853  210.204895  12.626667  72.755035   \n",
       "\n",
       "                  ^GSPC  logreturn_AAPL  logreturn_MSFT  logreturn_TSLA  \\\n",
       "Date                                                                      \n",
       "2016-07-01  2173.600098        0.086235        0.102268        0.100785   \n",
       "2016-08-01  2170.949951        0.017974        0.013668       -0.102058   \n",
       "2016-09-01  2168.270020        0.068851        0.008647       -0.038366   \n",
       "2016-10-01  2126.149902        0.004325        0.039487       -0.031365   \n",
       "2016-11-01  2198.810059       -0.026959        0.005658       -0.043041   \n",
       "\n",
       "            logreturn_ORSTED.CO  logreturn_V  logreturn_^GSPC   xr_AAPL  \\\n",
       "Date                                                                      \n",
       "2016-07-01             0.120231     0.050990         0.034990  0.086235   \n",
       "2016-08-01            -0.023522     0.035864        -0.001220  0.017974   \n",
       "2016-09-01             0.038174     0.023739        -0.001235  0.068851   \n",
       "2016-10-01            -0.023176    -0.002300        -0.019617  0.004325   \n",
       "2016-11-01            -0.115042    -0.064967         0.033604 -0.026959   \n",
       "\n",
       "             xr_MSFT   xr_TSLA  xr_ORSTED.CO      xr_V  xr_^GSPC  \n",
       "Date                                                              \n",
       "2016-07-01  0.102268  0.100785      0.120231  0.050990  0.034990  \n",
       "2016-08-01  0.013668 -0.102058     -0.023522  0.035864 -0.001220  \n",
       "2016-09-01  0.008647 -0.038366      0.038174  0.023739 -0.001235  \n",
       "2016-10-01  0.039487 -0.031365     -0.023176 -0.002300 -0.019617  \n",
       "2016-11-01  0.005658 -0.043041     -0.115042 -0.064967  0.033604  "
      ]
     },
     "execution_count": 200,
     "metadata": {},
     "output_type": "execute_result"
    }
   ],
   "source": [
    "# add Sp500 to ticker list\n",
    "ticker = ['AAPL', 'MSFT', 'TSLA', 'ORSTED.CO', 'V', '^GSPC']\n",
    "\n",
    "# calc excess return\n",
    "for i in range(len(ticker)):\n",
    "    data[\"xr_\" + ticker[i]] = data[\"logreturn_\" + ticker[i]]\n",
    "\n",
    "\n",
    "data.head()"
   ]
  },
  {
   "cell_type": "code",
   "execution_count": 201,
   "id": "d950de67",
   "metadata": {},
   "outputs": [],
   "source": [
    "# drop nan\n",
    "data = data.dropna()"
   ]
  },
  {
   "cell_type": "code",
   "execution_count": 203,
   "id": "ddeb0cb7",
   "metadata": {},
   "outputs": [
    {
     "name": "stdout",
     "output_type": "stream",
     "text": [
      "                            OLS Regression Results                            \n",
      "==============================================================================\n",
      "Dep. Variable:                      y   R-squared:                       0.439\n",
      "Model:                            OLS   Adj. R-squared:                  0.434\n",
      "Method:                 Least Squares   F-statistic:                     82.16\n",
      "Date:                Tue, 20 May 2025   Prob (F-statistic):           7.69e-15\n",
      "Time:                        22:25:37   Log-Likelihood:                 152.08\n",
      "No. Observations:                 107   AIC:                            -300.2\n",
      "Df Residuals:                     105   BIC:                            -294.8\n",
      "Df Model:                           1                                         \n",
      "Covariance Type:            nonrobust                                         \n",
      "==============================================================================\n",
      "                 coef    std err          t      P>|t|      [0.025      0.975]\n",
      "------------------------------------------------------------------------------\n",
      "const          0.0099      0.006      1.703      0.092      -0.002       0.021\n",
      "x1             1.1438      0.126      9.064      0.000       0.894       1.394\n",
      "==============================================================================\n",
      "Omnibus:                        9.932   Durbin-Watson:                   1.926\n",
      "Prob(Omnibus):                  0.007   Jarque-Bera (JB):               11.756\n",
      "Skew:                          -0.530   Prob(JB):                      0.00280\n",
      "Kurtosis:                       4.230   Cond. No.                         22.1\n",
      "==============================================================================\n",
      "\n",
      "Notes:\n",
      "[1] Standard Errors assume that the covariance matrix of the errors is correctly specified.\n"
     ]
    }
   ],
   "source": [
    "# CAPM Regression\n",
    "\n",
    "y = data['xr_AAPL'].values\n",
    "X = data['xr_^GSPC'].values\n",
    "X = sm.add_constant(X)\n",
    "\n",
    "model = sm.OLS(y, X)\n",
    "model_fit = model.fit()\n",
    "\n",
    "print(model_fit.summary())"
   ]
  }
 ],
 "metadata": {
  "kernelspec": {
   "display_name": "Python 3",
   "language": "python",
   "name": "python3"
  },
  "language_info": {
   "codemirror_mode": {
    "name": "ipython",
    "version": 3
   },
   "file_extension": ".py",
   "mimetype": "text/x-python",
   "name": "python",
   "nbconvert_exporter": "python",
   "pygments_lexer": "ipython3",
   "version": "3.12.2"
  }
 },
 "nbformat": 4,
 "nbformat_minor": 5
}
