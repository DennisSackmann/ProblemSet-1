{
 "cells": [
  {
   "cell_type": "markdown",
   "id": "a51beea6",
   "metadata": {},
   "source": [
    "# Problem Set 1: \"Building a Strategic Portfolio\""
   ]
  },
  {
   "cell_type": "code",
   "execution_count": 216,
   "id": "144618e1",
   "metadata": {},
   "outputs": [],
   "source": [
    "# import packages\n",
    "import pandas as pd\n",
    "import numpy as np\n",
    "import yfinance\n",
    "import matplotlib.pylab as plt\n",
    "import scipy.stats\n",
    "import statsmodels.api as sm\n",
    "from datetime import date"
   ]
  },
  {
   "cell_type": "code",
   "execution_count": 217,
   "id": "c9a034ef",
   "metadata": {},
   "outputs": [
    {
     "data": {
      "text/html": [
       "<div>\n",
       "<style scoped>\n",
       "    .dataframe tbody tr th:only-of-type {\n",
       "        vertical-align: middle;\n",
       "    }\n",
       "\n",
       "    .dataframe tbody tr th {\n",
       "        vertical-align: top;\n",
       "    }\n",
       "\n",
       "    .dataframe thead th {\n",
       "        text-align: right;\n",
       "    }\n",
       "</style>\n",
       "<table border=\"1\" class=\"dataframe\">\n",
       "  <thead>\n",
       "    <tr style=\"text-align: right;\">\n",
       "      <th></th>\n",
       "      <th>AAPL</th>\n",
       "      <th>MSFT</th>\n",
       "      <th>ORSTED.CO</th>\n",
       "      <th>TSLA</th>\n",
       "      <th>V</th>\n",
       "      <th>^GSPC</th>\n",
       "    </tr>\n",
       "    <tr>\n",
       "      <th>Date</th>\n",
       "      <th></th>\n",
       "      <th></th>\n",
       "      <th></th>\n",
       "      <th></th>\n",
       "      <th></th>\n",
       "      <th></th>\n",
       "    </tr>\n",
       "  </thead>\n",
       "  <tbody>\n",
       "    <tr>\n",
       "      <th>2016-06-01</th>\n",
       "      <td>21.849644</td>\n",
       "      <td>45.602222</td>\n",
       "      <td>210.907013</td>\n",
       "      <td>14.152000</td>\n",
       "      <td>69.670090</td>\n",
       "      <td>2098.860107</td>\n",
       "    </tr>\n",
       "    <tr>\n",
       "      <th>2016-07-01</th>\n",
       "      <td>23.817486</td>\n",
       "      <td>50.512691</td>\n",
       "      <td>237.851868</td>\n",
       "      <td>15.652667</td>\n",
       "      <td>73.314697</td>\n",
       "      <td>2173.600098</td>\n",
       "    </tr>\n",
       "    <tr>\n",
       "      <th>2016-08-01</th>\n",
       "      <td>24.249449</td>\n",
       "      <td>51.207798</td>\n",
       "      <td>232.322479</td>\n",
       "      <td>14.134000</td>\n",
       "      <td>75.991798</td>\n",
       "      <td>2170.949951</td>\n",
       "    </tr>\n",
       "    <tr>\n",
       "      <th>2016-09-01</th>\n",
       "      <td>25.977863</td>\n",
       "      <td>51.652504</td>\n",
       "      <td>241.362579</td>\n",
       "      <td>13.602000</td>\n",
       "      <td>77.817398</td>\n",
       "      <td>2168.270020</td>\n",
       "    </tr>\n",
       "    <tr>\n",
       "      <th>2016-10-01</th>\n",
       "      <td>26.090454</td>\n",
       "      <td>53.732960</td>\n",
       "      <td>235.833191</td>\n",
       "      <td>13.182000</td>\n",
       "      <td>77.638626</td>\n",
       "      <td>2126.149902</td>\n",
       "    </tr>\n",
       "  </tbody>\n",
       "</table>\n",
       "</div>"
      ],
      "text/plain": [
       "                 AAPL       MSFT   ORSTED.CO       TSLA          V  \\\n",
       "Date                                                                 \n",
       "2016-06-01  21.849644  45.602222  210.907013  14.152000  69.670090   \n",
       "2016-07-01  23.817486  50.512691  237.851868  15.652667  73.314697   \n",
       "2016-08-01  24.249449  51.207798  232.322479  14.134000  75.991798   \n",
       "2016-09-01  25.977863  51.652504  241.362579  13.602000  77.817398   \n",
       "2016-10-01  26.090454  53.732960  235.833191  13.182000  77.638626   \n",
       "\n",
       "                  ^GSPC  \n",
       "Date                     \n",
       "2016-06-01  2098.860107  \n",
       "2016-07-01  2173.600098  \n",
       "2016-08-01  2170.949951  \n",
       "2016-09-01  2168.270020  \n",
       "2016-10-01  2126.149902  "
      ]
     },
     "execution_count": 217,
     "metadata": {},
     "output_type": "execute_result"
    }
   ],
   "source": [
    "#load data from yfinance\n",
    "\n",
    "#yfinance.download(['AAPL', 'MSFT', 'TSLA', 'ORSTED.CO', 'V', '^GSPC'], interval='1mo')['Close'].dropna().to_csv('data.csv')\n",
    "\n",
    "# load data from csv file\n",
    "\n",
    "data = pd.read_csv('data.csv', index_col=['Date'], date_format=['Date'])\n",
    "\n",
    "data.head()"
   ]
  },
  {
   "cell_type": "code",
   "execution_count": 218,
   "id": "5d806910",
   "metadata": {},
   "outputs": [
    {
     "data": {
      "text/html": [
       "<div>\n",
       "<style scoped>\n",
       "    .dataframe tbody tr th:only-of-type {\n",
       "        vertical-align: middle;\n",
       "    }\n",
       "\n",
       "    .dataframe tbody tr th {\n",
       "        vertical-align: top;\n",
       "    }\n",
       "\n",
       "    .dataframe thead th {\n",
       "        text-align: right;\n",
       "    }\n",
       "</style>\n",
       "<table border=\"1\" class=\"dataframe\">\n",
       "  <thead>\n",
       "    <tr style=\"text-align: right;\">\n",
       "      <th></th>\n",
       "      <th>AAPL</th>\n",
       "      <th>MSFT</th>\n",
       "      <th>ORSTED.CO</th>\n",
       "      <th>TSLA</th>\n",
       "      <th>V</th>\n",
       "      <th>^GSPC</th>\n",
       "      <th>logreturn_AAPL</th>\n",
       "      <th>logreturn_MSFT</th>\n",
       "      <th>logreturn_TSLA</th>\n",
       "      <th>logreturn_ORSTED.CO</th>\n",
       "      <th>logreturn_V</th>\n",
       "    </tr>\n",
       "    <tr>\n",
       "      <th>Date</th>\n",
       "      <th></th>\n",
       "      <th></th>\n",
       "      <th></th>\n",
       "      <th></th>\n",
       "      <th></th>\n",
       "      <th></th>\n",
       "      <th></th>\n",
       "      <th></th>\n",
       "      <th></th>\n",
       "      <th></th>\n",
       "      <th></th>\n",
       "    </tr>\n",
       "  </thead>\n",
       "  <tbody>\n",
       "    <tr>\n",
       "      <th>2025-01-01</th>\n",
       "      <td>235.432083</td>\n",
       "      <td>413.470367</td>\n",
       "      <td>278.100006</td>\n",
       "      <td>404.600006</td>\n",
       "      <td>340.660065</td>\n",
       "      <td>6040.529785</td>\n",
       "      <td>-0.059308</td>\n",
       "      <td>-0.015397</td>\n",
       "      <td>0.001880</td>\n",
       "      <td>-0.153380</td>\n",
       "      <td>0.078357</td>\n",
       "    </tr>\n",
       "    <tr>\n",
       "      <th>2025-02-01</th>\n",
       "      <td>241.258011</td>\n",
       "      <td>395.469543</td>\n",
       "      <td>315.200012</td>\n",
       "      <td>292.980011</td>\n",
       "      <td>361.500336</td>\n",
       "      <td>5954.500000</td>\n",
       "      <td>0.024444</td>\n",
       "      <td>-0.044512</td>\n",
       "      <td>-0.322795</td>\n",
       "      <td>0.125227</td>\n",
       "      <td>0.059378</td>\n",
       "    </tr>\n",
       "    <tr>\n",
       "      <th>2025-03-01</th>\n",
       "      <td>221.839096</td>\n",
       "      <td>374.702118</td>\n",
       "      <td>301.399994</td>\n",
       "      <td>259.160004</td>\n",
       "      <td>349.878906</td>\n",
       "      <td>5611.850098</td>\n",
       "      <td>-0.083915</td>\n",
       "      <td>-0.053942</td>\n",
       "      <td>-0.122659</td>\n",
       "      <td>-0.044769</td>\n",
       "      <td>-0.032676</td>\n",
       "    </tr>\n",
       "    <tr>\n",
       "      <th>2025-04-01</th>\n",
       "      <td>212.221710</td>\n",
       "      <td>394.535706</td>\n",
       "      <td>261.799988</td>\n",
       "      <td>282.160004</td>\n",
       "      <td>344.927155</td>\n",
       "      <td>5569.060059</td>\n",
       "      <td>-0.044321</td>\n",
       "      <td>0.051578</td>\n",
       "      <td>0.085029</td>\n",
       "      <td>-0.140857</td>\n",
       "      <td>-0.014254</td>\n",
       "    </tr>\n",
       "    <tr>\n",
       "      <th>2025-05-01</th>\n",
       "      <td>195.270004</td>\n",
       "      <td>450.179993</td>\n",
       "      <td>266.399994</td>\n",
       "      <td>339.339996</td>\n",
       "      <td>353.540009</td>\n",
       "      <td>5802.819824</td>\n",
       "      <td>-0.083248</td>\n",
       "      <td>0.131938</td>\n",
       "      <td>0.184528</td>\n",
       "      <td>0.017418</td>\n",
       "      <td>0.024663</td>\n",
       "    </tr>\n",
       "  </tbody>\n",
       "</table>\n",
       "</div>"
      ],
      "text/plain": [
       "                  AAPL        MSFT   ORSTED.CO        TSLA           V  \\\n",
       "Date                                                                     \n",
       "2025-01-01  235.432083  413.470367  278.100006  404.600006  340.660065   \n",
       "2025-02-01  241.258011  395.469543  315.200012  292.980011  361.500336   \n",
       "2025-03-01  221.839096  374.702118  301.399994  259.160004  349.878906   \n",
       "2025-04-01  212.221710  394.535706  261.799988  282.160004  344.927155   \n",
       "2025-05-01  195.270004  450.179993  266.399994  339.339996  353.540009   \n",
       "\n",
       "                  ^GSPC  logreturn_AAPL  logreturn_MSFT  logreturn_TSLA  \\\n",
       "Date                                                                      \n",
       "2025-01-01  6040.529785       -0.059308       -0.015397        0.001880   \n",
       "2025-02-01  5954.500000        0.024444       -0.044512       -0.322795   \n",
       "2025-03-01  5611.850098       -0.083915       -0.053942       -0.122659   \n",
       "2025-04-01  5569.060059       -0.044321        0.051578        0.085029   \n",
       "2025-05-01  5802.819824       -0.083248        0.131938        0.184528   \n",
       "\n",
       "            logreturn_ORSTED.CO  logreturn_V  \n",
       "Date                                          \n",
       "2025-01-01            -0.153380     0.078357  \n",
       "2025-02-01             0.125227     0.059378  \n",
       "2025-03-01            -0.044769    -0.032676  \n",
       "2025-04-01            -0.140857    -0.014254  \n",
       "2025-05-01             0.017418     0.024663  "
      ]
     },
     "execution_count": 218,
     "metadata": {},
     "output_type": "execute_result"
    }
   ],
   "source": [
    "#get log-return\n",
    "\n",
    "ticker = ['AAPL', 'MSFT', 'TSLA', 'ORSTED.CO', 'V']\n",
    "\n",
    "for i in range(len(ticker)):\n",
    "    data.loc[:, \"logreturn_\" + ticker[i]] = np.log(data[ticker[i]]) - np.log(data[ticker[i]].shift())\n",
    "\n",
    "data = data.dropna()\n",
    "\n",
    "data.tail()"
   ]
  },
  {
   "cell_type": "markdown",
   "id": "fe6f2826",
   "metadata": {},
   "source": [
    "# Jarque-Bera test for normality"
   ]
  },
  {
   "cell_type": "code",
   "execution_count": 219,
   "id": "c8be5d8b",
   "metadata": {},
   "outputs": [
    {
     "data": {
      "text/plain": [
       "array([1.69238776, 0.3497448 , 1.65410303, 5.61225211, 1.29152881])"
      ]
     },
     "execution_count": 219,
     "metadata": {},
     "output_type": "execute_result"
    }
   ],
   "source": [
    "JB = np.zeros((len(ticker)))\n",
    "\n",
    "for i in range(len(ticker)):\n",
    "    S = scipy.stats.skew(data[\"logreturn_\" + ticker[i]])\n",
    "    K = scipy.stats.kurtosis(data[\"logreturn_\" + ticker[i]], fisher=False)\n",
    "    N = data.shape[0]\n",
    "    JB[i] = (N / 6) * (S**2 + 0.25 * (K - 3)**2)\n",
    "\n",
    "\n",
    "JB"
   ]
  },
  {
   "cell_type": "code",
   "execution_count": 220,
   "id": "1280f735",
   "metadata": {},
   "outputs": [
    {
     "data": {
      "text/plain": [
       "array([0.57095518, 0.16043586, 0.56266313, 0.93956132, 0.47573836])"
      ]
     },
     "execution_count": 220,
     "metadata": {},
     "output_type": "execute_result"
    }
   ],
   "source": [
    "cdf = np.zeros((len(ticker)))\n",
    "\n",
    "for i in range(len(ticker)):\n",
    "    cdf[i] = scipy.stats.chi2.cdf(JB[i], 2)\n",
    "\n",
    "cdf"
   ]
  },
  {
   "cell_type": "code",
   "execution_count": 221,
   "id": "5f443511",
   "metadata": {},
   "outputs": [
    {
     "name": "stdout",
     "output_type": "stream",
     "text": [
      "AAPL: probably normal distributed\n",
      "MSFT: probably normal distributed\n",
      "TSLA: probably normal distributed\n",
      "ORSTED.CO: probably normal distributed\n",
      "V: probably normal distributed\n"
     ]
    },
    {
     "data": {
      "text/plain": [
       "array([0.42904482, 0.83956414, 0.43733687, 0.06043868, 0.52426164])"
      ]
     },
     "execution_count": 221,
     "metadata": {},
     "output_type": "execute_result"
    }
   ],
   "source": [
    "a = 0.05\n",
    "\n",
    "p = np.zeros((len(ticker)))\n",
    "\n",
    "for i in range(len(ticker)):\n",
    "    p[i] = 1 - cdf[i]\n",
    "    if p[i] > a:\n",
    "        print(ticker[i] + \": probably normal distributed\")\n",
    "    else: \n",
    "        print(ticker[i] + \": not normal distributen\")\n",
    "\n",
    "\n",
    "p"
   ]
  },
  {
   "cell_type": "markdown",
   "id": "6a5a8863",
   "metadata": {},
   "source": [
    "# Build the IOS"
   ]
  },
  {
   "cell_type": "code",
   "execution_count": 222,
   "id": "7454afe9",
   "metadata": {},
   "outputs": [
    {
     "name": "stdout",
     "output_type": "stream",
     "text": [
      "[0.24562975 0.25678778 0.3563155  0.02619606 0.18215614]\n",
      "[[0.0747 0.0314 0.0874 0.0223 0.0272]\n",
      " [0.0314 0.0382 0.0508 0.0142 0.0181]\n",
      " [0.0874 0.0508 0.3661 0.0238 0.0279]\n",
      " [0.0223 0.0142 0.0238 0.0924 0.0098]\n",
      " [0.0272 0.0181 0.0279 0.0098 0.0393]]\n"
     ]
    }
   ],
   "source": [
    "mu = np.zeros((len(ticker)))\n",
    "\n",
    "for i in range(len(ticker)):\n",
    "    mu[i] = np.mean(data[\"logreturn_\" + ticker[i]])*12 # annualized return\n",
    "\n",
    "Sigma = (np.cov(data[['logreturn_AAPL', 'logreturn_MSFT', 'logreturn_TSLA', 'logreturn_ORSTED.CO', 'logreturn_V']].T)*12).round(4) # annulized covariance matrix\n",
    "\n",
    "print(mu)\n",
    "print(Sigma)"
   ]
  },
  {
   "cell_type": "markdown",
   "id": "d2090b60",
   "metadata": {},
   "source": [
    "# Building the MV-Frontier\n",
    "\n",
    "## 1. Unconstrained"
   ]
  },
  {
   "cell_type": "code",
   "execution_count": 223,
   "id": "afa50bfc",
   "metadata": {},
   "outputs": [],
   "source": [
    "#SINGLE OPTIMIZATIONS: Objective Function, Constraint Function, Starting Values, Bounds\n",
    "\n",
    "def portfolio_variance(w):\n",
    "        #input: w as numpy column vector\n",
    "        #output: scalar\n",
    "    return (w.T@Sigma@w).item() #objective function to be minimized\n",
    "\n",
    "\n",
    "def eq_portfolio_return(w):\n",
    "    #input: numpy portfolio column vector\n",
    "    #note: mu_i is a global variable; needs to be known before calling this function\n",
    "    #output: difference between w's expected return and the target return; scalar\n",
    "    \n",
    "    return (w.T@mu).item() - mu_i #constraint to meet target expected return mu_i\n",
    "\n",
    "\n",
    "def eq_weight_sum(w): \n",
    "    #content: full investment constraint: 100% is invested in risky assets\n",
    "    #input: numpy portfolio column vector\n",
    "    #output: difference between sum of portfolio holdings and 100%=1. \n",
    "    \n",
    "    return np.sum(w) - 1\n",
    "\n",
    "\n",
    "# starting values\n",
    "w0 = [0.2, 0.2, 0.2, 0.2, 0.2]\n",
    "\n",
    "#no short-sale (bound) and minimum diversification bound\n",
    "bounds = [(0, 0.5), (0, 0.5), (0, 0.5), (0, 0.5), (0, 0.5)]\n",
    "\n",
    "\n",
    "constraints = [{'type': 'eq', 'fun': eq_portfolio_return},\n",
    "               {'type': 'eq', 'fun': eq_weight_sum}\n",
    "               ] #target return and full investment constraint"
   ]
  },
  {
   "cell_type": "code",
   "execution_count": 224,
   "id": "ec859003",
   "metadata": {},
   "outputs": [],
   "source": [
    "#Loop through y-axis (i.e. mu_i)\n",
    "\n",
    "mu_min = 0.01\n",
    "mu_max = 1\n",
    "incr = 0.001"
   ]
  },
  {
   "cell_type": "code",
   "execution_count": 225,
   "id": "7894de39",
   "metadata": {},
   "outputs": [
    {
     "data": {
      "text/plain": [
       "991"
      ]
     },
     "execution_count": 225,
     "metadata": {},
     "output_type": "execute_result"
    }
   ],
   "source": [
    "#number of evaluations\n",
    "nr_evals = int( (mu_max - mu_min) / incr + 1)\n",
    "nr_evals #number of portfolios on the MV-frontier"
   ]
  },
  {
   "cell_type": "code",
   "execution_count": 226,
   "id": "b1f7e0e0",
   "metadata": {},
   "outputs": [],
   "source": [
    "# MV-Frontier\n",
    "\n",
    "w_MV = np.zeros((nr_evals, 5))\n",
    "mu_MV = np.zeros((nr_evals,))\n",
    "sigma_MV = np.zeros((nr_evals,))\n",
    "\n",
    "mu_i = mu_min\n",
    "for i in range(0,nr_evals):\n",
    "    w_opt = scipy.optimize.minimize(portfolio_variance, w0, constraints=constraints)\n",
    "    w_MV[i,:] = w_opt.x\n",
    "    mu_MV[i] = (w_opt.x.T@mu).item() \n",
    "    sigma_MV[i] = (w_opt.x.T@Sigma@w_opt.x).item()**0.5\n",
    "    \n",
    "    mu_i = mu_i + incr"
   ]
  },
  {
   "cell_type": "code",
   "execution_count": 227,
   "id": "698880e6",
   "metadata": {},
   "outputs": [
    {
     "name": "stderr",
     "output_type": "stream",
     "text": [
      "<>:12: SyntaxWarning: invalid escape sequence '\\s'\n",
      "<>:12: SyntaxWarning: invalid escape sequence '\\s'\n",
      "/var/folders/l7/q149vsq90bb6jd1b96qw2qyc0000gn/T/ipykernel_4433/2870952613.py:12: SyntaxWarning: invalid escape sequence '\\s'\n",
      "  plt.xlabel('$\\sigma(r)$')\n"
     ]
    },
    {
     "data": {
      "image/png": "[encoded data removed]",
      "text/plain": [
       "<Figure size 1200x700 with 1 Axes>"
      ]
     },
     "metadata": {},
     "output_type": "display_data"
    }
   ],
   "source": [
    "# Plot MV-Frontier\n",
    "\n",
    "plt.figure(1, figsize=(12,7))\n",
    "\n",
    "#show the MV-frontier that obeys constraints and bounds\n",
    "plt.plot(sigma_MV, mu_MV, color='blue',label='Constrained MV-Frontier')\n",
    "\n",
    "# add single assets investment opportunities\n",
    "plt.scatter(np.diag(Sigma)**0.5, mu[:], s=20, color='black', label='Individual Assets')\n",
    "\n",
    "#descrive axis\n",
    "plt.xlabel('$\\sigma(r)$')\n",
    "plt.ylabel('$E[r]$')\n",
    "\n",
    "plt.legend()\n",
    "\n",
    "#add a title\n",
    "plt.title('Unconstrained Minimum Variance Frontier')\n",
    "plt.show()"
   ]
  },
  {
   "cell_type": "markdown",
   "id": "4f54e3cf",
   "metadata": {},
   "source": [
    "## Constrained"
   ]
  },
  {
   "cell_type": "code",
   "execution_count": 228,
   "id": "e09304dc",
   "metadata": {},
   "outputs": [],
   "source": [
    "#Loop through y-axis (i.e. mu_i)\n",
    "\n",
    "mu_min = 0.01\n",
    "mu_max = 1\n",
    "incr = 0.001"
   ]
  },
  {
   "cell_type": "code",
   "execution_count": 229,
   "id": "20900bd8",
   "metadata": {},
   "outputs": [
    {
     "data": {
      "text/plain": [
       "991"
      ]
     },
     "execution_count": 229,
     "metadata": {},
     "output_type": "execute_result"
    }
   ],
   "source": [
    "#number of evaluations\n",
    "nr_evals = int( (mu_max - mu_min) / incr + 1)\n",
    "nr_evals #number of portfolios on the MV-frontier"
   ]
  },
  {
   "cell_type": "code",
   "execution_count": 230,
   "id": "ad299521",
   "metadata": {},
   "outputs": [],
   "source": [
    "# MV-Frontier\n",
    "\n",
    "w_MV = np.zeros((nr_evals, 5))\n",
    "mu_MV = np.zeros((nr_evals,))\n",
    "sigma_MV = np.zeros((nr_evals,))\n",
    "\n",
    "mu_i = mu_min\n",
    "for i in range(0,nr_evals):\n",
    "    w_opt = scipy.optimize.minimize(portfolio_variance, w0, bounds=bounds, constraints=constraints)\n",
    "    w_MV[i,:] = w_opt.x\n",
    "    mu_MV[i] = (w_opt.x.T@mu).item()  #MU: come back here.\n",
    "    sigma_MV[i] = (w_opt.x.T@Sigma@w_opt.x).item()**0.5\n",
    "    \n",
    "    mu_i = mu_i + incr"
   ]
  },
  {
   "cell_type": "code",
   "execution_count": 231,
   "id": "e02056bc",
   "metadata": {},
   "outputs": [
    {
     "name": "stderr",
     "output_type": "stream",
     "text": [
      "<>:12: SyntaxWarning: invalid escape sequence '\\s'\n",
      "<>:12: SyntaxWarning: invalid escape sequence '\\s'\n",
      "/var/folders/l7/q149vsq90bb6jd1b96qw2qyc0000gn/T/ipykernel_4433/1086647150.py:12: SyntaxWarning: invalid escape sequence '\\s'\n",
      "  plt.xlabel('$\\sigma(r)$')\n"
     ]
    },
    {
     "data": {
      "image/png": "[encoded data removed]",
      "text/plain": [
       "<Figure size 1200x700 with 1 Axes>"
      ]
     },
     "metadata": {},
     "output_type": "display_data"
    }
   ],
   "source": [
    "# Plot MV-Frontier\n",
    "\n",
    "plt.figure(1, figsize=(12,7))\n",
    "\n",
    "#show the MV-frontier that obeys constraints and bounds\n",
    "plt.plot(sigma_MV, mu_MV, color='blue',label='Constrained MV-Frontier')\n",
    "\n",
    "# add single assets investment opportunities\n",
    "plt.scatter(np.diag(Sigma)**0.5, mu[:], s=20, color='black', label='Individual Assets')\n",
    "\n",
    "#descrive axis\n",
    "plt.xlabel('$\\sigma(r)$')\n",
    "plt.ylabel('$E[r]$')\n",
    "\n",
    "plt.legend()\n",
    "\n",
    "#add a title\n",
    "plt.title('Constrained Minimum Variance Frontier')\n",
    "plt.show()"
   ]
  },
  {
   "cell_type": "markdown",
   "id": "fc43ff20",
   "metadata": {},
   "source": [
    "# Tangency Portfolio"
   ]
  },
  {
   "cell_type": "code",
   "execution_count": 232,
   "id": "7dde2fc7",
   "metadata": {},
   "outputs": [
    {
     "data": {
      "text/plain": [
       "222"
      ]
     },
     "execution_count": 232,
     "metadata": {},
     "output_type": "execute_result"
    }
   ],
   "source": [
    "rf = 0.04146 # U.S. 1 Year Treasury\n",
    "\n",
    "SR_MV = (mu_MV - rf) / sigma_MV\n",
    "\n",
    "TP_index = np.argmax(SR_MV)\n",
    "\n",
    "TP_index"
   ]
  },
  {
   "cell_type": "code",
   "execution_count": 233,
   "id": "d3e4f32b",
   "metadata": {},
   "outputs": [
    {
     "data": {
      "text/plain": [
       "array([0.13550356, 0.5       , 0.02254912, 0.        , 0.34194732])"
      ]
     },
     "execution_count": 233,
     "metadata": {},
     "output_type": "execute_result"
    }
   ],
   "source": [
    "w_TP = w_MV[TP_index]\n",
    "w_TP"
   ]
  },
  {
   "cell_type": "code",
   "execution_count": 234,
   "id": "fcdde4de",
   "metadata": {},
   "outputs": [
    {
     "data": {
      "text/plain": [
       "0.23199999997466042"
      ]
     },
     "execution_count": 234,
     "metadata": {},
     "output_type": "execute_result"
    }
   ],
   "source": [
    "mu_TP = mu_MV[TP_index]\n",
    "mu_TP"
   ]
  },
  {
   "cell_type": "code",
   "execution_count": 235,
   "id": "b3ceabb4",
   "metadata": {},
   "outputs": [
    {
     "data": {
      "text/plain": [
       "0.17543526791697156"
      ]
     },
     "execution_count": 235,
     "metadata": {},
     "output_type": "execute_result"
    }
   ],
   "source": [
    "sigma_TP = sigma_MV[TP_index]\n",
    "sigma_TP"
   ]
  },
  {
   "cell_type": "code",
   "execution_count": 236,
   "id": "26323c7b",
   "metadata": {},
   "outputs": [
    {
     "data": {
      "text/plain": [
       "1.0860986062667712"
      ]
     },
     "execution_count": 236,
     "metadata": {},
     "output_type": "execute_result"
    }
   ],
   "source": [
    "SR_TP = (mu_TP - rf) / sigma_TP\n",
    "SR_TP"
   ]
  },
  {
   "cell_type": "markdown",
   "id": "d76d6337",
   "metadata": {},
   "source": [
    "# Optimal Complete Portfolio"
   ]
  },
  {
   "cell_type": "code",
   "execution_count": 237,
   "id": "c7a177f0",
   "metadata": {},
   "outputs": [
    {
     "data": {
      "text/plain": [
       "0.7738599393116258"
      ]
     },
     "execution_count": 237,
     "metadata": {},
     "output_type": "execute_result"
    }
   ],
   "source": [
    "A = 8\n",
    "\n",
    "y = (mu_TP - rf) / (A * (sigma_TP ** 2))\n",
    "\n",
    "y"
   ]
  },
  {
   "cell_type": "code",
   "execution_count": 238,
   "id": "ff528f4b",
   "metadata": {},
   "outputs": [],
   "source": [
    "mu_C = y*mu_TP+(1-y)*rf \n",
    "\n",
    "sigma_C = y*sigma_TP\n",
    "\n",
    "utility_C = mu_C - 0.5*A*(sigma_C**2)"
   ]
  },
  {
   "cell_type": "code",
   "execution_count": 239,
   "id": "04ea20bb",
   "metadata": {},
   "outputs": [
    {
     "name": "stderr",
     "output_type": "stream",
     "text": [
      "<>:25: SyntaxWarning: invalid escape sequence '\\s'\n",
      "<>:25: SyntaxWarning: invalid escape sequence '\\s'\n",
      "/var/folders/l7/q149vsq90bb6jd1b96qw2qyc0000gn/T/ipykernel_4433/328422057.py:25: SyntaxWarning: invalid escape sequence '\\s'\n",
      "  plt.xlabel('$\\sigma(r)$')\n"
     ]
    },
    {
     "data": {
      "image/png": "[encoded data removed]",
      "text/plain": [
       "<Figure size 1200x700 with 1 Axes>"
      ]
     },
     "metadata": {},
     "output_type": "display_data"
    }
   ],
   "source": [
    "# Plot Tangency Portfolio\n",
    "\n",
    "plt.figure(1, figsize=(12,7))\n",
    "\n",
    "#show the MV-frontier that obeys constraints and bounds\n",
    "plt.plot(sigma_MV, mu_MV, color='blue',label='Constrained MV-Frontier')\n",
    "\n",
    "# add single assets investment opportunities and risk-free asset\n",
    "plt.scatter(np.diag(Sigma)**0.5, mu, s=20, color='black', label='Individual Assets')\n",
    "plt.scatter([0], [rf], s = 20, color='green', label='$r_f$')\n",
    "plt.scatter(sigma_TP, mu_TP, s = 20, color='red', label='TP Portfolio')\n",
    "plt.scatter(sigma_C, mu_C, s = 20, color='Blue', label='Optimal Complete Portfolio')\n",
    "\n",
    "# add capital market line\n",
    "x = np.linspace(0, np.max(sigma_MV))\n",
    "y = rf + SR_TP * x\n",
    "plt.plot(x, y, color='black', label='Capital Allocation line')\n",
    "\n",
    "# add utility function\n",
    "x = np.linspace(0, np.max(sigma_MV))\n",
    "y = utility_C + 0.5*A*(x**2)\n",
    "plt.plot(x, y, color='green', label='Utility Function')\n",
    "\n",
    "#descrive axis\n",
    "plt.xlabel('$\\sigma(r)$')\n",
    "plt.ylabel('$E[r]$')\n",
    "\n",
    "\n",
    "plt.legend()\n",
    "\n",
    "#add a title\n",
    "plt.title('Tangency Portfolio')\n",
    "plt.show()"
   ]
  },
  {
   "cell_type": "markdown",
   "id": "e0d1caff",
   "metadata": {},
   "source": [
    "# Decomposing expected portfolio performance (return and risk) into systematic ans idiosyncratic components"
   ]
  },
  {
   "cell_type": "code",
   "execution_count": 240,
   "id": "3a2834a6",
   "metadata": {},
   "outputs": [],
   "source": [
    "# calculate SP500 log-return\n",
    "data['logreturn_^GSPC'] = np.log(data['^GSPC']) - np.log(data['^GSPC'].shift(1))"
   ]
  },
  {
   "cell_type": "code",
   "execution_count": 241,
   "id": "d950de67",
   "metadata": {},
   "outputs": [],
   "source": [
    "# drop nan\n",
    "data = data.dropna()"
   ]
  },
  {
   "cell_type": "code",
   "execution_count": 242,
   "id": "ddeb0cb7",
   "metadata": {},
   "outputs": [
    {
     "data": {
      "text/plain": [
       "0.0034549999999999997"
      ]
     },
     "execution_count": 242,
     "metadata": {},
     "output_type": "execute_result"
    }
   ],
   "source": [
    "# risk free return rate per month\n",
    "rf_monthly = rf / 12\n",
    "\n",
    "rf_monthly"
   ]
  },
  {
   "cell_type": "code",
   "execution_count": 243,
   "id": "559c20c9",
   "metadata": {},
   "outputs": [],
   "source": [
    "# calculate OLS Model for each stock\n",
    "\n",
    "betas = []\n",
    "alphas = []\n",
    "\n",
    "for i in range(len(ticker)):\n",
    "    y = data[\"logreturn_\" + ticker[i]] - rf_monthly # monthly stock excess reuturn\n",
    "    X = data['logreturn_^GSPC'] - rf_monthly # monthly market excess return\n",
    "    X = sm.add_constant(X)\n",
    "    model = sm.OLS(y, X).fit()\n",
    "\n",
    "    betas.append(model.params.iloc[1])\n",
    "    alphas.append(model.params.iloc[0]* 12) #annualized alpha"
   ]
  },
  {
   "cell_type": "code",
   "execution_count": 244,
   "id": "41783a3c",
   "metadata": {},
   "outputs": [
    {
     "name": "stdout",
     "output_type": "stream",
     "text": [
      " Portfolio Beta : 0.9540\n",
      " Portfolio Alpha : 0.1169\n",
      " Systematic Variance : 0.022175\n",
      " Idiosyncratic Variance : 0.153261\n"
     ]
    }
   ],
   "source": [
    "# Portfolio decomposition\n",
    "portfolio_beta = np.sum(np.array(betas) * w_TP)\n",
    "portfolio_alpha = np.sum(np.array(alphas) * w_TP)\n",
    "systematic_var = portfolio_beta**2 * np.var(data['logreturn_^GSPC']) * 12\n",
    "\n",
    "idiosyncratic_var = sigma_TP - systematic_var\n",
    "\n",
    "print ( f\" Portfolio Beta : { portfolio_beta :.4f}\")\n",
    "print ( f\" Portfolio Alpha : { portfolio_alpha :.4f}\")\n",
    "print ( f\" Systematic Variance : { systematic_var :.6f}\")\n",
    "print ( f\" Idiosyncratic Variance : { idiosyncratic_var :.6f}\")"
   ]
  },
  {
   "cell_type": "markdown",
   "id": "121f6607",
   "metadata": {},
   "source": [
    "# Expected vs. Realized Performance"
   ]
  },
  {
   "cell_type": "code",
   "execution_count": 245,
   "id": "b3b3e3c3",
   "metadata": {},
   "outputs": [],
   "source": [
    "# build train and test data set\n",
    "train_data = data.iloc[:int(len(data) * 0.7)][['logreturn_AAPL', 'logreturn_MSFT', 'logreturn_TSLA', 'logreturn_ORSTED.CO', 'logreturn_V']]\n",
    "test_data = data.iloc[-int(len(data) * 0.3):][['logreturn_AAPL', 'logreturn_MSFT', 'logreturn_TSLA', 'logreturn_ORSTED.CO', 'logreturn_V']]"
   ]
  },
  {
   "cell_type": "code",
   "execution_count": 246,
   "id": "88e49acd",
   "metadata": {},
   "outputs": [],
   "source": [
    "# calculate expected performance\n",
    "mean_train_data = train_data.mean() * 12\n",
    "sigma_train_data = train_data.cov() * 12\n",
    "\n",
    "exp_return = np.sum(mean_train_data * w_TP)\n",
    "exp_vol = np.sqrt(w_TP @ sigma_train_data @ w_TP)"
   ]
  },
  {
   "cell_type": "code",
   "execution_count": null,
   "id": "78062247",
   "metadata": {},
   "outputs": [],
   "source": [
    "# calculate realized performance\n",
    "\n",
    "realized_returns = np.sum(test_data * w_TP)\n",
    "realized_return = realized_returns.mean() * 12\n",
    "realized_vol = realized_returns.std() * np.sqrt(12)"
   ]
  },
  {
   "cell_type": "code",
   "execution_count": 249,
   "id": "66bd0fa8",
   "metadata": {},
   "outputs": [
    {
     "name": "stdout",
     "output_type": "stream",
     "text": [
      " Expected Return : 0.2186 , Realized Return :1.3833\n",
      " Expected Volatility : 0.1857 , Realized Volatility :0.5148\n"
     ]
    }
   ],
   "source": [
    "print(f\" Expected Return : { exp_return :.4f} , Realized Return :{ realized_return :.4f}\")\n",
    "\n",
    "print(f\" Expected Volatility : { exp_vol :.4f} , Realized Volatility :{ realized_vol :.4f}\")"
   ]
  }
 ],
 "metadata": {
  "kernelspec": {
   "display_name": "Python 3",
   "language": "python",
   "name": "python3"
  },
  "language_info": {
   "codemirror_mode": {
    "name": "ipython",
    "version": 3
   },
   "file_extension": ".py",
   "mimetype": "text/x-python",
   "name": "python",
   "nbconvert_exporter": "python",
   "pygments_lexer": "ipython3",
   "version": "3.12.2"
  }
 },
 "nbformat": 4,
 "nbformat_minor": 5
}
