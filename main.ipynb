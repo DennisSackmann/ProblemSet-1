{
 "cells": [
  {
   "cell_type": "markdown",
   "id": "a51beea6",
   "metadata": {},
   "source": [
    "# Problem Set 1: \"Building a Strategic Portfolio\""
   ]
  },
  {
   "cell_type": "code",
   "execution_count": 121,
   "id": "144618e1",
   "metadata": {},
   "outputs": [],
   "source": [
    "# import packages\n",
    "import pandas as pd\n",
    "import numpy as np\n",
    "import yfinance\n",
    "import matplotlib.pylab as plt\n",
    "import scipy.stats\n",
    "import statsmodels.api as sm\n",
    "from datetime import date"
   ]
  },
  {
   "cell_type": "code",
   "execution_count": 122,
   "id": "d2ace4b2",
   "metadata": {},
   "outputs": [
    {
     "name": "stderr",
     "output_type": "stream",
     "text": [
      "[*********************100%***********************]  6 of 6 completed\n"
     ]
    }
   ],
   "source": [
    "# get data from yfiance\n",
    "\n",
    "#ydata = yfinance.download(['AAPL', 'MSFT', 'TSLA', 'ORSTED.CO', 'V', '^GSPC'], interval='1mo')['Close'].dropna().to_csv('data.csv')"
   ]
  },
  {
   "cell_type": "code",
   "execution_count": 123,
   "id": "c9a034ef",
   "metadata": {},
   "outputs": [
    {
     "data": {
      "text/html": [
       "<div>\n",
       "<style scoped>\n",
       "    .dataframe tbody tr th:only-of-type {\n",
       "        vertical-align: middle;\n",
       "    }\n",
       "\n",
       "    .dataframe tbody tr th {\n",
       "        vertical-align: top;\n",
       "    }\n",
       "\n",
       "    .dataframe thead th {\n",
       "        text-align: right;\n",
       "    }\n",
       "</style>\n",
       "<table border=\"1\" class=\"dataframe\">\n",
       "  <thead>\n",
       "    <tr style=\"text-align: right;\">\n",
       "      <th></th>\n",
       "      <th>AAPL</th>\n",
       "      <th>MSFT</th>\n",
       "      <th>ORSTED.CO</th>\n",
       "      <th>TSLA</th>\n",
       "      <th>V</th>\n",
       "      <th>^GSPC</th>\n",
       "    </tr>\n",
       "    <tr>\n",
       "      <th>Date</th>\n",
       "      <th></th>\n",
       "      <th></th>\n",
       "      <th></th>\n",
       "      <th></th>\n",
       "      <th></th>\n",
       "      <th></th>\n",
       "    </tr>\n",
       "  </thead>\n",
       "  <tbody>\n",
       "    <tr>\n",
       "      <th>2016-06-01</th>\n",
       "      <td>21.849648</td>\n",
       "      <td>45.602211</td>\n",
       "      <td>210.907028</td>\n",
       "      <td>14.152000</td>\n",
       "      <td>69.670097</td>\n",
       "      <td>2098.860107</td>\n",
       "    </tr>\n",
       "    <tr>\n",
       "      <th>2016-07-01</th>\n",
       "      <td>23.817484</td>\n",
       "      <td>50.512680</td>\n",
       "      <td>237.851837</td>\n",
       "      <td>15.652667</td>\n",
       "      <td>73.314705</td>\n",
       "      <td>2173.600098</td>\n",
       "    </tr>\n",
       "    <tr>\n",
       "      <th>2016-08-01</th>\n",
       "      <td>24.249453</td>\n",
       "      <td>51.207790</td>\n",
       "      <td>232.322464</td>\n",
       "      <td>14.134000</td>\n",
       "      <td>75.991798</td>\n",
       "      <td>2170.949951</td>\n",
       "    </tr>\n",
       "    <tr>\n",
       "      <th>2016-09-01</th>\n",
       "      <td>25.977861</td>\n",
       "      <td>51.652515</td>\n",
       "      <td>241.362579</td>\n",
       "      <td>13.602000</td>\n",
       "      <td>77.817390</td>\n",
       "      <td>2168.270020</td>\n",
       "    </tr>\n",
       "    <tr>\n",
       "      <th>2016-10-01</th>\n",
       "      <td>26.090462</td>\n",
       "      <td>53.732944</td>\n",
       "      <td>235.833206</td>\n",
       "      <td>13.182000</td>\n",
       "      <td>77.638611</td>\n",
       "      <td>2126.149902</td>\n",
       "    </tr>\n",
       "  </tbody>\n",
       "</table>\n",
       "</div>"
      ],
      "text/plain": [
       "                 AAPL       MSFT   ORSTED.CO       TSLA          V  \\\n",
       "Date                                                                 \n",
       "2016-06-01  21.849648  45.602211  210.907028  14.152000  69.670097   \n",
       "2016-07-01  23.817484  50.512680  237.851837  15.652667  73.314705   \n",
       "2016-08-01  24.249453  51.207790  232.322464  14.134000  75.991798   \n",
       "2016-09-01  25.977861  51.652515  241.362579  13.602000  77.817390   \n",
       "2016-10-01  26.090462  53.732944  235.833206  13.182000  77.638611   \n",
       "\n",
       "                  ^GSPC  \n",
       "Date                     \n",
       "2016-06-01  2098.860107  \n",
       "2016-07-01  2173.600098  \n",
       "2016-08-01  2170.949951  \n",
       "2016-09-01  2168.270020  \n",
       "2016-10-01  2126.149902  "
      ]
     },
     "execution_count": 123,
     "metadata": {},
     "output_type": "execute_result"
    }
   ],
   "source": [
    "# load data from csv file\n",
    "\n",
    "data = pd.read_csv('data.csv', index_col=['Date'], date_format=['Date'])\n",
    "\n",
    "data.head()"
   ]
  },
  {
   "cell_type": "code",
   "execution_count": 124,
   "id": "5d806910",
   "metadata": {},
   "outputs": [],
   "source": [
    "# get log-return\n",
    "\n",
    "ticker = ['AAPL', 'MSFT', 'TSLA', 'ORSTED.CO', 'V']\n",
    "\n",
    "for i in range(len(ticker)):\n",
    "    data.loc[:, \"logreturn_\" + ticker[i]] = np.log(data[ticker[i]]) - np.log(data[ticker[i]].shift())"
   ]
  },
  {
   "cell_type": "code",
   "execution_count": 125,
   "id": "3c183e73",
   "metadata": {},
   "outputs": [
    {
     "data": {
      "text/html": [
       "<div>\n",
       "<style scoped>\n",
       "    .dataframe tbody tr th:only-of-type {\n",
       "        vertical-align: middle;\n",
       "    }\n",
       "\n",
       "    .dataframe tbody tr th {\n",
       "        vertical-align: top;\n",
       "    }\n",
       "\n",
       "    .dataframe thead th {\n",
       "        text-align: right;\n",
       "    }\n",
       "</style>\n",
       "<table border=\"1\" class=\"dataframe\">\n",
       "  <thead>\n",
       "    <tr style=\"text-align: right;\">\n",
       "      <th></th>\n",
       "      <th>AAPL</th>\n",
       "      <th>MSFT</th>\n",
       "      <th>ORSTED.CO</th>\n",
       "      <th>TSLA</th>\n",
       "      <th>V</th>\n",
       "      <th>^GSPC</th>\n",
       "      <th>logreturn_AAPL</th>\n",
       "      <th>logreturn_MSFT</th>\n",
       "      <th>logreturn_TSLA</th>\n",
       "      <th>logreturn_ORSTED.CO</th>\n",
       "      <th>logreturn_V</th>\n",
       "    </tr>\n",
       "    <tr>\n",
       "      <th>Date</th>\n",
       "      <th></th>\n",
       "      <th></th>\n",
       "      <th></th>\n",
       "      <th></th>\n",
       "      <th></th>\n",
       "      <th></th>\n",
       "      <th></th>\n",
       "      <th></th>\n",
       "      <th></th>\n",
       "      <th></th>\n",
       "      <th></th>\n",
       "    </tr>\n",
       "  </thead>\n",
       "  <tbody>\n",
       "    <tr>\n",
       "      <th>2016-07-01</th>\n",
       "      <td>23.817484</td>\n",
       "      <td>50.512680</td>\n",
       "      <td>237.851837</td>\n",
       "      <td>15.652667</td>\n",
       "      <td>73.314705</td>\n",
       "      <td>2173.600098</td>\n",
       "      <td>0.086235</td>\n",
       "      <td>0.102268</td>\n",
       "      <td>0.100785</td>\n",
       "      <td>0.120231</td>\n",
       "      <td>0.050990</td>\n",
       "    </tr>\n",
       "    <tr>\n",
       "      <th>2016-08-01</th>\n",
       "      <td>24.249453</td>\n",
       "      <td>51.207790</td>\n",
       "      <td>232.322464</td>\n",
       "      <td>14.134000</td>\n",
       "      <td>75.991798</td>\n",
       "      <td>2170.949951</td>\n",
       "      <td>0.017974</td>\n",
       "      <td>0.013667</td>\n",
       "      <td>-0.102058</td>\n",
       "      <td>-0.023522</td>\n",
       "      <td>0.035864</td>\n",
       "    </tr>\n",
       "    <tr>\n",
       "      <th>2016-09-01</th>\n",
       "      <td>25.977861</td>\n",
       "      <td>51.652515</td>\n",
       "      <td>241.362579</td>\n",
       "      <td>13.602000</td>\n",
       "      <td>77.817390</td>\n",
       "      <td>2168.270020</td>\n",
       "      <td>0.068851</td>\n",
       "      <td>0.008647</td>\n",
       "      <td>-0.038366</td>\n",
       "      <td>0.038174</td>\n",
       "      <td>0.023740</td>\n",
       "    </tr>\n",
       "    <tr>\n",
       "      <th>2016-10-01</th>\n",
       "      <td>26.090462</td>\n",
       "      <td>53.732944</td>\n",
       "      <td>235.833206</td>\n",
       "      <td>13.182000</td>\n",
       "      <td>77.638611</td>\n",
       "      <td>2126.149902</td>\n",
       "      <td>0.004325</td>\n",
       "      <td>0.039487</td>\n",
       "      <td>-0.031365</td>\n",
       "      <td>-0.023175</td>\n",
       "      <td>-0.002300</td>\n",
       "    </tr>\n",
       "    <tr>\n",
       "      <th>2016-11-01</th>\n",
       "      <td>25.396488</td>\n",
       "      <td>54.037849</td>\n",
       "      <td>210.204865</td>\n",
       "      <td>12.626667</td>\n",
       "      <td>72.755028</td>\n",
       "      <td>2198.810059</td>\n",
       "      <td>-0.026959</td>\n",
       "      <td>0.005658</td>\n",
       "      <td>-0.043041</td>\n",
       "      <td>-0.115042</td>\n",
       "      <td>-0.064967</td>\n",
       "    </tr>\n",
       "  </tbody>\n",
       "</table>\n",
       "</div>"
      ],
      "text/plain": [
       "                 AAPL       MSFT   ORSTED.CO       TSLA          V  \\\n",
       "Date                                                                 \n",
       "2016-07-01  23.817484  50.512680  237.851837  15.652667  73.314705   \n",
       "2016-08-01  24.249453  51.207790  232.322464  14.134000  75.991798   \n",
       "2016-09-01  25.977861  51.652515  241.362579  13.602000  77.817390   \n",
       "2016-10-01  26.090462  53.732944  235.833206  13.182000  77.638611   \n",
       "2016-11-01  25.396488  54.037849  210.204865  12.626667  72.755028   \n",
       "\n",
       "                  ^GSPC  logreturn_AAPL  logreturn_MSFT  logreturn_TSLA  \\\n",
       "Date                                                                      \n",
       "2016-07-01  2173.600098        0.086235        0.102268        0.100785   \n",
       "2016-08-01  2170.949951        0.017974        0.013667       -0.102058   \n",
       "2016-09-01  2168.270020        0.068851        0.008647       -0.038366   \n",
       "2016-10-01  2126.149902        0.004325        0.039487       -0.031365   \n",
       "2016-11-01  2198.810059       -0.026959        0.005658       -0.043041   \n",
       "\n",
       "            logreturn_ORSTED.CO  logreturn_V  \n",
       "Date                                          \n",
       "2016-07-01             0.120231     0.050990  \n",
       "2016-08-01            -0.023522     0.035864  \n",
       "2016-09-01             0.038174     0.023740  \n",
       "2016-10-01            -0.023175    -0.002300  \n",
       "2016-11-01            -0.115042    -0.064967  "
      ]
     },
     "execution_count": 125,
     "metadata": {},
     "output_type": "execute_result"
    }
   ],
   "source": [
    "# drop nan\n",
    "\n",
    "data = data.dropna()\n",
    "\n",
    "data.head()"
   ]
  },
  {
   "cell_type": "markdown",
   "id": "fe6f2826",
   "metadata": {},
   "source": [
    "# Jarque-Bera test for normality"
   ]
  },
  {
   "cell_type": "code",
   "execution_count": 126,
   "id": "c8be5d8b",
   "metadata": {},
   "outputs": [
    {
     "data": {
      "text/plain": [
       "array([1.69237043, 0.34975399, 1.65410303, 5.61225132, 1.29151882])"
      ]
     },
     "execution_count": 126,
     "metadata": {},
     "output_type": "execute_result"
    }
   ],
   "source": [
    "# JB test statistic\n",
    "\n",
    "JB = np.zeros((len(ticker)))\n",
    "\n",
    "for i in range(len(ticker)):\n",
    "    S = scipy.stats.skew(data[\"logreturn_\" + ticker[i]])\n",
    "    K = scipy.stats.kurtosis(data[\"logreturn_\" + ticker[i]], fisher=False)\n",
    "    N = data.shape[0]\n",
    "    JB[i] = (N / 6) * (S**2 + 0.25 * (K - 3)**2)\n",
    "\n",
    "\n",
    "JB"
   ]
  },
  {
   "cell_type": "code",
   "execution_count": 127,
   "id": "1280f735",
   "metadata": {},
   "outputs": [
    {
     "data": {
      "text/plain": [
       "array([0.57095146, 0.16043972, 0.56266313, 0.9395613 , 0.47573574])"
      ]
     },
     "execution_count": 127,
     "metadata": {},
     "output_type": "execute_result"
    }
   ],
   "source": [
    "# Chi-squared distribution\n",
    "\n",
    "cdf = np.zeros((len(ticker)))\n",
    "\n",
    "for i in range(len(ticker)):\n",
    "    cdf[i] = scipy.stats.chi2.cdf(JB[i], 2)\n",
    "\n",
    "cdf"
   ]
  },
  {
   "cell_type": "code",
   "execution_count": 128,
   "id": "5f443511",
   "metadata": {},
   "outputs": [
    {
     "name": "stdout",
     "output_type": "stream",
     "text": [
      "AAPL: probably normal distributed\n",
      "MSFT: probably normal distributed\n",
      "TSLA: probably normal distributed\n",
      "ORSTED.CO: probably normal distributed\n",
      "V: probably normal distributed\n"
     ]
    },
    {
     "data": {
      "text/plain": [
       "array([0.42904854, 0.83956028, 0.43733687, 0.0604387 , 0.52426426])"
      ]
     },
     "execution_count": 128,
     "metadata": {},
     "output_type": "execute_result"
    }
   ],
   "source": [
    "# p-value \n",
    "\n",
    "a = 0.05 #alpha\n",
    "\n",
    "p = np.zeros((len(ticker)))\n",
    "\n",
    "for i in range(len(ticker)):\n",
    "    p[i] = 1 - cdf[i]\n",
    "    if p[i] >= a:\n",
    "        print(ticker[i] + \": probably normal distributed\")\n",
    "    else: \n",
    "        print(ticker[i] + \": not normal distributen\")\n",
    "\n",
    "\n",
    "p"
   ]
  },
  {
   "cell_type": "markdown",
   "id": "6a5a8863",
   "metadata": {},
   "source": [
    "# Build the IOS"
   ]
  },
  {
   "cell_type": "code",
   "execution_count": 129,
   "id": "7454afe9",
   "metadata": {},
   "outputs": [
    {
     "name": "stdout",
     "output_type": "stream",
     "text": [
      "[0.24562973 0.25678781 0.3563155  0.02619606 0.18215613]\n"
     ]
    }
   ],
   "source": [
    "mu = np.zeros((len(ticker)))\n",
    "\n",
    "for i in range(len(ticker)):\n",
    "    mu[i] = np.mean(data[\"logreturn_\" + ticker[i]])*12 # annualized return\n",
    "\n",
    "Sigma = (np.cov(data[['logreturn_AAPL', 'logreturn_MSFT', 'logreturn_TSLA', 'logreturn_ORSTED.CO', 'logreturn_V']].T)*12).round(4) # annulized covariance matrix\n",
    "\n",
    "print(mu)"
   ]
  },
  {
   "cell_type": "code",
   "execution_count": 130,
   "id": "48b4e627",
   "metadata": {},
   "outputs": [
    {
     "name": "stderr",
     "output_type": "stream",
     "text": [
      "<>:12: SyntaxWarning: invalid escape sequence '\\s'\n",
      "<>:12: SyntaxWarning: invalid escape sequence '\\s'\n",
      "/var/folders/l7/q149vsq90bb6jd1b96qw2qyc0000gn/T/ipykernel_27188/1735519343.py:12: SyntaxWarning: invalid escape sequence '\\s'\n",
      "  plt.xlabel('$\\sigma(r)$')\n",
      "/var/folders/l7/q149vsq90bb6jd1b96qw2qyc0000gn/T/ipykernel_27188/1735519343.py:15: UserWarning: No artists with labels found to put in legend.  Note that artists whose label start with an underscore are ignored when legend() is called with no argument.\n",
      "  plt.legend()\n"
     ]
    },
    {
     "data": {
      "image/png": "[encoded data removed]",
      "text/plain": [
       "<Figure size 1000x500 with 1 Axes>"
      ]
     },
     "metadata": {},
     "output_type": "display_data"
    }
   ],
   "source": [
    "# Plot mean\n",
    "\n",
    "plt.figure(1, figsize=(10,5))\n",
    "\n",
    "# add single assets investment opportunities\n",
    "plt.scatter(np.diag(Sigma)**0.5, mu[:], s=20, color='black')\n",
    "\n",
    "for i in range(len(ticker)):\n",
    "    plt.text((np.diag(Sigma)**0.5)[i] + 0.005, mu[i], ticker[i])\n",
    "\n",
    "#descrive axis\n",
    "plt.xlabel('$\\sigma(r)$')\n",
    "plt.ylabel('$E[r]$')\n",
    "\n",
    "plt.legend()\n",
    "\n",
    "#add a title\n",
    "plt.title('Individual return')\n",
    "plt.show()"
   ]
  },
  {
   "cell_type": "code",
   "execution_count": 131,
   "id": "cca37b8d",
   "metadata": {},
   "outputs": [
    {
     "data": {
      "image/png": "[encoded data removed]",
      "text/plain": [
       "<Figure size 640x480 with 2 Axes>"
      ]
     },
     "metadata": {},
     "output_type": "display_data"
    }
   ],
   "source": [
    "# Plot heatmap\n",
    "\n",
    "plt.imshow(Sigma, cmap='coolwarm', interpolation='nearest')\n",
    "plt.colorbar(label='Covariance')\n",
    "plt.title('Heatmap of covariance')\n",
    "plt.xticks(np.arange(Sigma.shape[0]))\n",
    "plt.yticks(np.arange(Sigma.shape[1]))\n",
    "plt.show()"
   ]
  },
  {
   "cell_type": "markdown",
   "id": "d2090b60",
   "metadata": {},
   "source": [
    "# Building the MV-Frontier\n",
    "\n",
    "## 1. Unconstrained"
   ]
  },
  {
   "cell_type": "code",
   "execution_count": 132,
   "id": "afa50bfc",
   "metadata": {},
   "outputs": [],
   "source": [
    "#SINGLE OPTIMIZATIONS: Objective Function, Constraint Function, Starting Values, Bounds\n",
    "\n",
    "def portfolio_variance(w):\n",
    "        #input: w as numpy column vector\n",
    "        #output: scalar\n",
    "    return (w.T@Sigma@w).item() #objective function to be minimized\n",
    "\n",
    "\n",
    "def eq_portfolio_return(w):\n",
    "    #input: numpy portfolio column vector\n",
    "    #note: mu_i is a global variable; needs to be known before calling this function\n",
    "    #output: difference between w's expected return and the target return; scalar\n",
    "    \n",
    "    return (w.T@mu).item() - mu_i #constraint to meet target expected return mu_i\n",
    "\n",
    "\n",
    "def eq_weight_sum(w): \n",
    "    #content: full investment constraint: 100% is invested in risky assets\n",
    "    #input: numpy portfolio column vector\n",
    "    #output: difference between sum of portfolio holdings and 100%=1. \n",
    "    \n",
    "    return np.sum(w) - 1\n",
    "\n",
    "\n",
    "# starting values\n",
    "w0 = [0.2, 0.2, 0.2, 0.2, 0.2]\n",
    "\n",
    "#no short-sale (bound) and minimum diversification bound\n",
    "bounds = [(0, 0.5), (0, 0.5), (0, 0.5), (0, 0.5), (0, 0.5)]\n",
    "\n",
    "\n",
    "constraints = [{'type': 'eq', 'fun': eq_portfolio_return},\n",
    "               {'type': 'eq', 'fun': eq_weight_sum}\n",
    "               ] #target return and full investment constraint"
   ]
  },
  {
   "cell_type": "code",
   "execution_count": 133,
   "id": "ec859003",
   "metadata": {},
   "outputs": [],
   "source": [
    "#Loop through y-axis (i.e. mu_i)\n",
    "\n",
    "mu_min = 0.01\n",
    "mu_max = 1\n",
    "incr = 0.001"
   ]
  },
  {
   "cell_type": "code",
   "execution_count": 134,
   "id": "7894de39",
   "metadata": {},
   "outputs": [
    {
     "data": {
      "text/plain": [
       "991"
      ]
     },
     "execution_count": 134,
     "metadata": {},
     "output_type": "execute_result"
    }
   ],
   "source": [
    "#number of evaluations\n",
    "nr_evals = int( (mu_max - mu_min) / incr + 1)\n",
    "nr_evals #number of portfolios on the MV-frontier"
   ]
  },
  {
   "cell_type": "code",
   "execution_count": 135,
   "id": "b1f7e0e0",
   "metadata": {},
   "outputs": [],
   "source": [
    "# MV-Frontier\n",
    "\n",
    "w_MV = np.zeros((nr_evals, 5))\n",
    "mu_MV = np.zeros((nr_evals,))\n",
    "sigma_MV = np.zeros((nr_evals,))\n",
    "\n",
    "mu_i = mu_min\n",
    "for i in range(0,nr_evals):\n",
    "    w_opt = scipy.optimize.minimize(portfolio_variance, w0, constraints=constraints) # minimize variance for mu\n",
    "    w_MV[i,:] = w_opt.x\n",
    "    mu_MV[i] = (w_opt.x.T@mu).item() \n",
    "    sigma_MV[i] = (w_opt.x.T@Sigma@w_opt.x).item()**0.5\n",
    "    \n",
    "    mu_i = mu_i + incr"
   ]
  },
  {
   "cell_type": "code",
   "execution_count": 136,
   "id": "698880e6",
   "metadata": {},
   "outputs": [
    {
     "name": "stderr",
     "output_type": "stream",
     "text": [
      "<>:12: SyntaxWarning: invalid escape sequence '\\s'\n",
      "<>:12: SyntaxWarning: invalid escape sequence '\\s'\n",
      "/var/folders/l7/q149vsq90bb6jd1b96qw2qyc0000gn/T/ipykernel_27188/2251878233.py:12: SyntaxWarning: invalid escape sequence '\\s'\n",
      "  plt.xlabel('$\\sigma(r)$')\n"
     ]
    },
    {
     "data": {
      "image/png": "[encoded data removed]",
      "text/plain": [
       "<Figure size 1200x700 with 1 Axes>"
      ]
     },
     "metadata": {},
     "output_type": "display_data"
    }
   ],
   "source": [
    "# Plot MV-Frontier\n",
    "\n",
    "plt.figure(1, figsize=(12,7))\n",
    "\n",
    "#show the MV-frontier that obeys constraints and bounds\n",
    "plt.plot(sigma_MV, mu_MV, color='blue',label='Unconstrained MV-Frontier')\n",
    "\n",
    "# add single assets investment opportunities\n",
    "plt.scatter(np.diag(Sigma)**0.5, mu[:], s=20, color='black', label='Individual Assets')\n",
    "\n",
    "#descrive axis\n",
    "plt.xlabel('$\\sigma(r)$')\n",
    "plt.ylabel('$E[r]$')\n",
    "\n",
    "plt.legend()\n",
    "\n",
    "#add a title\n",
    "plt.title('Unconstrained Minimum Variance Frontier')\n",
    "plt.show()"
   ]
  },
  {
   "cell_type": "markdown",
   "id": "4f54e3cf",
   "metadata": {},
   "source": [
    "## Constrained"
   ]
  },
  {
   "cell_type": "code",
   "execution_count": 137,
   "id": "e09304dc",
   "metadata": {},
   "outputs": [],
   "source": [
    "#Loop through y-axis (i.e. mu_i)\n",
    "\n",
    "mu_min = 0.01\n",
    "mu_max = 1\n",
    "incr = 0.001"
   ]
  },
  {
   "cell_type": "code",
   "execution_count": 138,
   "id": "20900bd8",
   "metadata": {},
   "outputs": [
    {
     "data": {
      "text/plain": [
       "991"
      ]
     },
     "execution_count": 138,
     "metadata": {},
     "output_type": "execute_result"
    }
   ],
   "source": [
    "#number of evaluations\n",
    "nr_evals = int( (mu_max - mu_min) / incr + 1)\n",
    "nr_evals #number of portfolios on the MV-frontier"
   ]
  },
  {
   "cell_type": "code",
   "execution_count": 139,
   "id": "ad299521",
   "metadata": {},
   "outputs": [],
   "source": [
    "# MV-Frontier\n",
    "\n",
    "w_MV = np.zeros((nr_evals, 5))\n",
    "mu_MV = np.zeros((nr_evals,))\n",
    "sigma_MV = np.zeros((nr_evals,))\n",
    "\n",
    "mu_i = mu_min\n",
    "for i in range(0,nr_evals):\n",
    "    w_opt = scipy.optimize.minimize(portfolio_variance, w0, bounds=bounds, constraints=constraints) # minimize variance for mu with bounds\n",
    "    w_MV[i,:] = w_opt.x\n",
    "    mu_MV[i] = (w_opt.x.T@mu).item()\n",
    "    sigma_MV[i] = (w_opt.x.T@Sigma@w_opt.x).item()**0.5\n",
    "    \n",
    "    mu_i = mu_i + incr"
   ]
  },
  {
   "cell_type": "code",
   "execution_count": 140,
   "id": "e02056bc",
   "metadata": {},
   "outputs": [
    {
     "name": "stderr",
     "output_type": "stream",
     "text": [
      "<>:12: SyntaxWarning: invalid escape sequence '\\s'\n",
      "<>:12: SyntaxWarning: invalid escape sequence '\\s'\n",
      "/var/folders/l7/q149vsq90bb6jd1b96qw2qyc0000gn/T/ipykernel_27188/1086647150.py:12: SyntaxWarning: invalid escape sequence '\\s'\n",
      "  plt.xlabel('$\\sigma(r)$')\n"
     ]
    },
    {
     "data": {
      "image/png": "[encoded data removed]",
      "text/plain": [
       "<Figure size 1200x700 with 1 Axes>"
      ]
     },
     "metadata": {},
     "output_type": "display_data"
    }
   ],
   "source": [
    "# Plot MV-Frontier\n",
    "\n",
    "plt.figure(1, figsize=(12,7))\n",
    "\n",
    "#show the MV-frontier that obeys constraints and bounds\n",
    "plt.plot(sigma_MV, mu_MV, color='blue',label='Constrained MV-Frontier')\n",
    "\n",
    "# add single assets investment opportunities\n",
    "plt.scatter(np.diag(Sigma)**0.5, mu[:], s=20, color='black', label='Individual Assets')\n",
    "\n",
    "#descrive axis\n",
    "plt.xlabel('$\\sigma(r)$')\n",
    "plt.ylabel('$E[r]$')\n",
    "\n",
    "plt.legend()\n",
    "\n",
    "#add a title\n",
    "plt.title('Constrained Minimum Variance Frontier')\n",
    "plt.show()"
   ]
  },
  {
   "cell_type": "markdown",
   "id": "fc43ff20",
   "metadata": {},
   "source": [
    "# Tangency Portfolio"
   ]
  },
  {
   "cell_type": "code",
   "execution_count": 141,
   "id": "7dde2fc7",
   "metadata": {},
   "outputs": [
    {
     "data": {
      "text/plain": [
       "222"
      ]
     },
     "execution_count": 141,
     "metadata": {},
     "output_type": "execute_result"
    }
   ],
   "source": [
    "rf = 0.04146 # U.S. 1 Year Treasury\n",
    "\n",
    "SR_MV = (mu_MV - rf) / sigma_MV\n",
    "\n",
    "TP_index = np.argmax(SR_MV)\n",
    "\n",
    "TP_index"
   ]
  },
  {
   "cell_type": "code",
   "execution_count": 158,
   "id": "d3e4f32b",
   "metadata": {},
   "outputs": [
    {
     "data": {
      "text/plain": [
       "array([1.35503486e-01, 5.00000000e-01, 2.25491074e-02, 8.64670483e-18,\n",
       "       3.41947407e-01])"
      ]
     },
     "execution_count": 158,
     "metadata": {},
     "output_type": "execute_result"
    }
   ],
   "source": [
    "w_TP = w_MV[TP_index]\n",
    "w_TP"
   ]
  },
  {
   "cell_type": "code",
   "execution_count": 143,
   "id": "fcdde4de",
   "metadata": {},
   "outputs": [
    {
     "data": {
      "text/plain": [
       "0.231999999982429"
      ]
     },
     "execution_count": 143,
     "metadata": {},
     "output_type": "execute_result"
    }
   ],
   "source": [
    "mu_TP = mu_MV[TP_index]\n",
    "mu_TP"
   ]
  },
  {
   "cell_type": "code",
   "execution_count": 144,
   "id": "b3ceabb4",
   "metadata": {},
   "outputs": [
    {
     "data": {
      "text/plain": [
       "0.17543526125244424"
      ]
     },
     "execution_count": 144,
     "metadata": {},
     "output_type": "execute_result"
    }
   ],
   "source": [
    "sigma_TP = sigma_MV[TP_index]\n",
    "sigma_TP"
   ]
  },
  {
   "cell_type": "code",
   "execution_count": 145,
   "id": "26323c7b",
   "metadata": {},
   "outputs": [
    {
     "data": {
      "text/plain": [
       "1.0860986475703402"
      ]
     },
     "execution_count": 145,
     "metadata": {},
     "output_type": "execute_result"
    }
   ],
   "source": [
    "SR_TP = (mu_TP - rf) / sigma_TP\n",
    "SR_TP"
   ]
  },
  {
   "cell_type": "markdown",
   "id": "d76d6337",
   "metadata": {},
   "source": [
    "# Optimal Complete Portfolio"
   ]
  },
  {
   "cell_type": "code",
   "execution_count": 146,
   "id": "c7a177f0",
   "metadata": {},
   "outputs": [
    {
     "data": {
      "text/plain": [
       "0.773859998138778"
      ]
     },
     "execution_count": 146,
     "metadata": {},
     "output_type": "execute_result"
    }
   ],
   "source": [
    "A = 8 # risk aversion on (1-10) scale\n",
    "\n",
    "y = (mu_TP - rf) / (A * (sigma_TP ** 2))\n",
    "\n",
    "y"
   ]
  },
  {
   "cell_type": "code",
   "execution_count": 147,
   "id": "ff528f4b",
   "metadata": {},
   "outputs": [],
   "source": [
    "# calculate utility\n",
    "\n",
    "mu_C = y*mu_TP+(1-y)*rf \n",
    "\n",
    "sigma_C = y*sigma_TP\n",
    "\n",
    "utility_C = mu_C - 0.5*A*(sigma_C**2)"
   ]
  },
  {
   "cell_type": "code",
   "execution_count": 148,
   "id": "04ea20bb",
   "metadata": {},
   "outputs": [
    {
     "name": "stderr",
     "output_type": "stream",
     "text": [
      "<>:25: SyntaxWarning: invalid escape sequence '\\s'\n",
      "<>:25: SyntaxWarning: invalid escape sequence '\\s'\n",
      "/var/folders/l7/q149vsq90bb6jd1b96qw2qyc0000gn/T/ipykernel_27188/3474145562.py:25: SyntaxWarning: invalid escape sequence '\\s'\n",
      "  plt.xlabel('$\\sigma(r)$')\n"
     ]
    },
    {
     "data": {
      "image/png": "[encoded data removed]",
      "text/plain": [
       "<Figure size 1200x700 with 1 Axes>"
      ]
     },
     "metadata": {},
     "output_type": "display_data"
    }
   ],
   "source": [
    "# Plot Tangency Portfolio\n",
    "\n",
    "plt.figure(1, figsize=(12,7))\n",
    "\n",
    "#show the MV-frontier that obeys constraints and bounds\n",
    "plt.plot(sigma_MV, mu_MV, color='blue',label='Constrained MV-Frontier')\n",
    "\n",
    "# add single assets investment opportunities and risk-free asset\n",
    "plt.scatter(np.diag(Sigma)**0.5, mu, s=20, color='black', label='Individual Assets')\n",
    "plt.scatter([0], [rf], s = 20, color='green', label='$r_f$')\n",
    "plt.scatter(sigma_TP, mu_TP, s = 20, color='red', label='TP Portfolio')\n",
    "plt.scatter(sigma_C, mu_C, s = 20, color='blue', label='Optimal Complete Portfolio')\n",
    "\n",
    "# add capital market line\n",
    "x = np.linspace(0, np.max(sigma_MV))\n",
    "y = rf + SR_TP * x\n",
    "plt.plot(x, y, color='black', label='Capital Allocation line')\n",
    "\n",
    "# add utility function\n",
    "x = np.linspace(0, np.max(sigma_MV))\n",
    "y = utility_C + 0.5*A*(x**2)\n",
    "plt.plot(x, y, color='green', label='Utility Function')\n",
    "\n",
    "#descrive axis\n",
    "plt.xlabel('$\\sigma(r)$')\n",
    "plt.ylabel('$E[r]$')\n",
    "\n",
    "\n",
    "plt.legend()\n",
    "\n",
    "#add a title\n",
    "plt.title('Tangency Portfolio')\n",
    "plt.show()"
   ]
  },
  {
   "cell_type": "markdown",
   "id": "e0d1caff",
   "metadata": {},
   "source": [
    "# Decomposing expected portfolio performance (return and risk) into systematic ans idiosyncratic components"
   ]
  },
  {
   "cell_type": "code",
   "execution_count": 149,
   "id": "3a2834a6",
   "metadata": {},
   "outputs": [],
   "source": [
    "# calculate SP500 log-return\n",
    "data['logreturn_^GSPC'] = np.log(data['^GSPC']) - np.log(data['^GSPC'].shift(1))"
   ]
  },
  {
   "cell_type": "code",
   "execution_count": 150,
   "id": "d950de67",
   "metadata": {},
   "outputs": [],
   "source": [
    "# drop nan\n",
    "data = data.dropna()"
   ]
  },
  {
   "cell_type": "code",
   "execution_count": 151,
   "id": "ddeb0cb7",
   "metadata": {},
   "outputs": [
    {
     "data": {
      "text/plain": [
       "0.0034549999999999997"
      ]
     },
     "execution_count": 151,
     "metadata": {},
     "output_type": "execute_result"
    }
   ],
   "source": [
    "# risk free return rate per month\n",
    "rf_monthly = rf / 12\n",
    "\n",
    "rf_monthly"
   ]
  },
  {
   "cell_type": "code",
   "execution_count": 152,
   "id": "559c20c9",
   "metadata": {},
   "outputs": [
    {
     "name": "stdout",
     "output_type": "stream",
     "text": [
      "                            OLS Regression Results                            \n",
      "==============================================================================\n",
      "Dep. Variable:         logreturn_AAPL   R-squared:                       0.432\n",
      "Model:                            OLS   Adj. R-squared:                  0.427\n",
      "Method:                 Least Squares   F-statistic:                     79.13\n",
      "Date:                Sun, 25 May 2025   Prob (F-statistic):           1.96e-14\n",
      "Time:                        19:33:58   Log-Likelihood:                 149.10\n",
      "No. Observations:                 106   AIC:                            -294.2\n",
      "Df Residuals:                     104   BIC:                            -288.9\n",
      "Df Model:                           1                                         \n",
      "Covariance Type:            nonrobust                                         \n",
      "===================================================================================\n",
      "                      coef    std err          t      P>|t|      [0.025      0.975]\n",
      "-----------------------------------------------------------------------------------\n",
      "const               0.0097      0.006      1.660      0.100      -0.002       0.021\n",
      "logreturn_^GSPC     1.1474      0.129      8.896      0.000       0.892       1.403\n",
      "==============================================================================\n",
      "Omnibus:                       10.175   Durbin-Watson:                   1.902\n",
      "Prob(Omnibus):                  0.006   Jarque-Bera (JB):               11.847\n",
      "Skew:                          -0.554   Prob(JB):                      0.00268\n",
      "Kurtosis:                       4.206   Cond. No.                         22.2\n",
      "==============================================================================\n",
      "\n",
      "Notes:\n",
      "[1] Standard Errors assume that the covariance matrix of the errors is correctly specified.\n",
      "                            OLS Regression Results                            \n",
      "==============================================================================\n",
      "Dep. Variable:         logreturn_MSFT   R-squared:                       0.533\n",
      "Model:                            OLS   Adj. R-squared:                  0.528\n",
      "Method:                 Least Squares   F-statistic:                     118.6\n",
      "Date:                Sun, 25 May 2025   Prob (F-statistic):           6.84e-19\n",
      "Time:                        19:33:58   Log-Likelihood:                 195.68\n",
      "No. Observations:                 106   AIC:                            -387.4\n",
      "Df Residuals:                     104   BIC:                            -382.0\n",
      "Df Model:                           1                                         \n",
      "Covariance Type:            nonrobust                                         \n",
      "===================================================================================\n",
      "                      coef    std err          t      P>|t|      [0.025      0.975]\n",
      "-----------------------------------------------------------------------------------\n",
      "const               0.0119      0.004      3.157      0.002       0.004       0.019\n",
      "logreturn_^GSPC     0.9054      0.083     10.892      0.000       0.741       1.070\n",
      "==============================================================================\n",
      "Omnibus:                        2.636   Durbin-Watson:                   1.900\n",
      "Prob(Omnibus):                  0.268   Jarque-Bera (JB):                2.349\n",
      "Skew:                           0.365   Prob(JB):                        0.309\n",
      "Kurtosis:                       3.018   Cond. No.                         22.2\n",
      "==============================================================================\n",
      "\n",
      "Notes:\n",
      "[1] Standard Errors assume that the covariance matrix of the errors is correctly specified.\n",
      "                            OLS Regression Results                            \n",
      "==============================================================================\n",
      "Dep. Variable:         logreturn_TSLA   R-squared:                       0.217\n",
      "Model:                            OLS   Adj. R-squared:                  0.210\n",
      "Method:                 Least Squares   F-statistic:                     28.85\n",
      "Date:                Sun, 25 May 2025   Prob (F-statistic):           4.79e-07\n",
      "Time:                        19:33:58   Log-Likelihood:                 47.616\n",
      "No. Observations:                 106   AIC:                            -91.23\n",
      "Df Residuals:                     104   BIC:                            -85.91\n",
      "Df Model:                           1                                         \n",
      "Covariance Type:            nonrobust                                         \n",
      "===================================================================================\n",
      "                      coef    std err          t      P>|t|      [0.025      0.975]\n",
      "-----------------------------------------------------------------------------------\n",
      "const               0.0151      0.015      0.988      0.325      -0.015       0.045\n",
      "logreturn_^GSPC     1.8049      0.336      5.371      0.000       1.139       2.471\n",
      "==============================================================================\n",
      "Omnibus:                        0.524   Durbin-Watson:                   1.776\n",
      "Prob(Omnibus):                  0.769   Jarque-Bera (JB):                0.276\n",
      "Skew:                           0.118   Prob(JB):                        0.871\n",
      "Kurtosis:                       3.086   Cond. No.                         22.2\n",
      "==============================================================================\n",
      "\n",
      "Notes:\n",
      "[1] Standard Errors assume that the covariance matrix of the errors is correctly specified.\n",
      "                             OLS Regression Results                            \n",
      "===============================================================================\n",
      "Dep. Variable:     logreturn_ORSTED.CO   R-squared:                       0.100\n",
      "Model:                             OLS   Adj. R-squared:                  0.092\n",
      "Method:                  Least Squares   F-statistic:                     11.61\n",
      "Date:                 Sun, 25 May 2025   Prob (F-statistic):           0.000936\n",
      "Time:                         19:33:58   Log-Likelihood:                 114.07\n",
      "No. Observations:                  106   AIC:                            -224.1\n",
      "Df Residuals:                      104   BIC:                            -218.8\n",
      "Df Model:                            1                                         \n",
      "Covariance Type:             nonrobust                                         \n",
      "===================================================================================\n",
      "                      coef    std err          t      P>|t|      [0.025      0.975]\n",
      "-----------------------------------------------------------------------------------\n",
      "const              -0.0059      0.008     -0.728      0.468      -0.022       0.010\n",
      "logreturn_^GSPC     0.6115      0.180      3.407      0.001       0.256       0.968\n",
      "==============================================================================\n",
      "Omnibus:                        4.376   Durbin-Watson:                   2.005\n",
      "Prob(Omnibus):                  0.112   Jarque-Bera (JB):                3.738\n",
      "Skew:                          -0.386   Prob(JB):                        0.154\n",
      "Kurtosis:                       3.502   Cond. No.                         22.2\n",
      "==============================================================================\n",
      "\n",
      "Notes:\n",
      "[1] Standard Errors assume that the covariance matrix of the errors is correctly specified.\n",
      "                            OLS Regression Results                            \n",
      "==============================================================================\n",
      "Dep. Variable:            logreturn_V   R-squared:                       0.496\n",
      "Model:                            OLS   Adj. R-squared:                  0.491\n",
      "Method:                 Least Squares   F-statistic:                     102.2\n",
      "Date:                Sun, 25 May 2025   Prob (F-statistic):           3.87e-17\n",
      "Time:                        19:33:58   Log-Likelihood:                 189.30\n",
      "No. Observations:                 106   AIC:                            -374.6\n",
      "Df Residuals:                     104   BIC:                            -369.3\n",
      "Df Model:                           1                                         \n",
      "Covariance Type:            nonrobust                                         \n",
      "===================================================================================\n",
      "                      coef    std err          t      P>|t|      [0.025      0.975]\n",
      "-----------------------------------------------------------------------------------\n",
      "const               0.0062      0.004      1.547      0.125      -0.002       0.014\n",
      "logreturn_^GSPC     0.8923      0.088     10.108      0.000       0.717       1.067\n",
      "==============================================================================\n",
      "Omnibus:                       10.502   Durbin-Watson:                   2.224\n",
      "Prob(Omnibus):                  0.005   Jarque-Bera (JB):               10.632\n",
      "Skew:                          -0.692   Prob(JB):                      0.00491\n",
      "Kurtosis:                       3.702   Cond. No.                         22.2\n",
      "==============================================================================\n",
      "\n",
      "Notes:\n",
      "[1] Standard Errors assume that the covariance matrix of the errors is correctly specified.\n"
     ]
    }
   ],
   "source": [
    "# calculate OLS Model for each stock\n",
    "\n",
    "betas = []\n",
    "alphas = []\n",
    "\n",
    "for i in range(len(ticker)):\n",
    "    y = data[\"logreturn_\" + ticker[i]] - rf_monthly # monthly stock excess reuturn\n",
    "    X = data['logreturn_^GSPC'] - rf_monthly # monthly market excess return\n",
    "    X = sm.add_constant(X)\n",
    "    model = sm.OLS(y, X).fit()\n",
    "\n",
    "    betas.append(model.params.iloc[1])\n",
    "    alphas.append(model.params.iloc[0]* 12) # annualized alpha\n",
    "    print(model.summary())\n"
   ]
  },
  {
   "cell_type": "code",
   "execution_count": 153,
   "id": "41783a3c",
   "metadata": {},
   "outputs": [
    {
     "name": "stdout",
     "output_type": "stream",
     "text": [
      " Portfolio Beta : 0.9540\n",
      " Portfolio Alpha : 0.1169\n",
      " Systematic Variance : 0.022175\n",
      " Idiosyncratic Variance : 0.153260\n"
     ]
    }
   ],
   "source": [
    "# Portfolio decomposition\n",
    "portfolio_beta = np.sum(np.array(betas) * w_TP)\n",
    "portfolio_alpha = np.sum(np.array(alphas) * w_TP)\n",
    "systematic_var = portfolio_beta**2 * np.var(data['logreturn_^GSPC']) * 12\n",
    "\n",
    "idiosyncratic_var = sigma_TP - systematic_var\n",
    "\n",
    "print ( f\" Portfolio Beta : { portfolio_beta :.4f}\")\n",
    "print ( f\" Portfolio Alpha : { portfolio_alpha :.4f}\")\n",
    "print ( f\" Systematic Variance : { systematic_var :.6f}\")\n",
    "print ( f\" Idiosyncratic Variance : { idiosyncratic_var :.6f}\")"
   ]
  },
  {
   "cell_type": "markdown",
   "id": "121f6607",
   "metadata": {},
   "source": [
    "# Expected vs. Realized Performance"
   ]
  },
  {
   "cell_type": "code",
   "execution_count": 154,
   "id": "b3b3e3c3",
   "metadata": {},
   "outputs": [],
   "source": [
    "# build train and test data set\n",
    "train_data = data.iloc[:int(len(data) * 0.7)][['logreturn_AAPL', 'logreturn_MSFT', 'logreturn_TSLA', 'logreturn_ORSTED.CO', 'logreturn_V']] # use first 70%\n",
    "test_data = data.iloc[-int(len(data) * 0.3):][['logreturn_AAPL', 'logreturn_MSFT', 'logreturn_TSLA', 'logreturn_ORSTED.CO', 'logreturn_V']] # use last 30%"
   ]
  },
  {
   "cell_type": "code",
   "execution_count": 155,
   "id": "88e49acd",
   "metadata": {},
   "outputs": [],
   "source": [
    "# calculate expected performance\n",
    "mean_train_data = train_data.mean() * 12\n",
    "sigma_train_data = train_data.cov() * 12\n",
    "\n",
    "exp_return = np.sum(mean_train_data * w_TP)\n",
    "exp_vol = np.sqrt(w_TP @ sigma_train_data @ w_TP)"
   ]
  },
  {
   "cell_type": "code",
   "execution_count": 156,
   "id": "78062247",
   "metadata": {},
   "outputs": [],
   "source": [
    "# calculate realized performance\n",
    "\n",
    "realized_returns = np.sum(test_data * w_TP, axis=1)\n",
    "realized_return = realized_returns.mean() * 12\n",
    "realized_vol = realized_returns.std() * np.sqrt(12)"
   ]
  },
  {
   "cell_type": "code",
   "execution_count": 157,
   "id": "66bd0fa8",
   "metadata": {},
   "outputs": [
    {
     "name": "stdout",
     "output_type": "stream",
     "text": [
      " Expected Return : 0.2186 , Realized Return :0.2231\n",
      " Expected Volatility : 0.1857 , Realized Volatility :0.1501\n"
     ]
    }
   ],
   "source": [
    "print(f\" Expected Return : { exp_return :.4f} , Realized Return :{ realized_return :.4f}\")\n",
    "\n",
    "print(f\" Expected Volatility : { exp_vol :.4f} , Realized Volatility :{ realized_vol :.4f}\")"
   ]
  }
 ],
 "metadata": {
  "kernelspec": {
   "display_name": "Python 3",
   "language": "python",
   "name": "python3"
  },
  "language_info": {
   "codemirror_mode": {
    "name": "ipython",
    "version": 3
   },
   "file_extension": ".py",
   "mimetype": "text/x-python",
   "name": "python",
   "nbconvert_exporter": "python",
   "pygments_lexer": "ipython3",
   "version": "3.12.2"
  }
 },
 "nbformat": 4,
 "nbformat_minor": 5
}
