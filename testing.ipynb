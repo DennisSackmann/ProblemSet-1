{
 "cells": [
  {
   "cell_type": "markdown",
   "id": "a51beea6",
   "metadata": {},
   "source": [
    "# Problem Set 1: \"Building a Strategic Portfolio\""
   ]
  },
  {
   "cell_type": "code",
   "execution_count": 38,
   "id": "144618e1",
   "metadata": {},
   "outputs": [],
   "source": [
    "# import packages\n",
    "import pandas as pd\n",
    "import numpy as np\n",
    "import yfinance\n",
    "import matplotlib.pylab as plt\n",
    "import scipy.stats\n",
    "import statsmodels.api as sm\n",
    "from datetime import date"
   ]
  },
  {
   "cell_type": "code",
   "execution_count": null,
   "id": "d2ace4b2",
   "metadata": {},
   "outputs": [
    {
     "name": "stderr",
     "output_type": "stream",
     "text": [
      "[*********************100%***********************]  6 of 6 completed\n"
     ]
    }
   ],
   "source": [
    "# get data from yfiance\n",
    "\n",
    "#ydata = yfinance.download(['AAPL', 'GOOG', 'TSLA', 'IBE.MC', 'V', '^GSPC'], interval='1mo', start='2015-05-01')['Close'].dropna().to_csv('data.csv')"
   ]
  },
  {
   "cell_type": "code",
   "execution_count": 186,
   "id": "c9a034ef",
   "metadata": {},
   "outputs": [
    {
     "data": {
      "text/html": [
       "<div>\n",
       "<style scoped>\n",
       "    .dataframe tbody tr th:only-of-type {\n",
       "        vertical-align: middle;\n",
       "    }\n",
       "\n",
       "    .dataframe tbody tr th {\n",
       "        vertical-align: top;\n",
       "    }\n",
       "\n",
       "    .dataframe thead th {\n",
       "        text-align: right;\n",
       "    }\n",
       "</style>\n",
       "<table border=\"1\" class=\"dataframe\">\n",
       "  <thead>\n",
       "    <tr style=\"text-align: right;\">\n",
       "      <th></th>\n",
       "      <th>AAPL</th>\n",
       "      <th>GOOG</th>\n",
       "      <th>IBE.MC</th>\n",
       "      <th>TSLA</th>\n",
       "      <th>V</th>\n",
       "      <th>^GSPC</th>\n",
       "    </tr>\n",
       "    <tr>\n",
       "      <th>Date</th>\n",
       "      <th></th>\n",
       "      <th></th>\n",
       "      <th></th>\n",
       "      <th></th>\n",
       "      <th></th>\n",
       "      <th></th>\n",
       "    </tr>\n",
       "  </thead>\n",
       "  <tbody>\n",
       "    <tr>\n",
       "      <th>2015-05-01</th>\n",
       "      <td>29.057026</td>\n",
       "      <td>26.480078</td>\n",
       "      <td>4.203310</td>\n",
       "      <td>16.719999</td>\n",
       "      <td>63.940159</td>\n",
       "      <td>2107.389893</td>\n",
       "    </tr>\n",
       "    <tr>\n",
       "      <th>2015-06-01</th>\n",
       "      <td>28.092155</td>\n",
       "      <td>25.902813</td>\n",
       "      <td>4.033736</td>\n",
       "      <td>17.884001</td>\n",
       "      <td>62.625172</td>\n",
       "      <td>2063.110107</td>\n",
       "    </tr>\n",
       "    <tr>\n",
       "      <th>2015-07-01</th>\n",
       "      <td>27.167181</td>\n",
       "      <td>31.133039</td>\n",
       "      <td>4.288764</td>\n",
       "      <td>17.743334</td>\n",
       "      <td>70.263298</td>\n",
       "      <td>2103.840088</td>\n",
       "    </tr>\n",
       "    <tr>\n",
       "      <th>2015-08-01</th>\n",
       "      <td>25.254498</td>\n",
       "      <td>30.766775</td>\n",
       "      <td>4.062201</td>\n",
       "      <td>16.604000</td>\n",
       "      <td>66.495552</td>\n",
       "      <td>1972.180054</td>\n",
       "    </tr>\n",
       "    <tr>\n",
       "      <th>2015-09-01</th>\n",
       "      <td>24.815363</td>\n",
       "      <td>30.277592</td>\n",
       "      <td>3.989747</td>\n",
       "      <td>16.559999</td>\n",
       "      <td>65.072495</td>\n",
       "      <td>1920.030029</td>\n",
       "    </tr>\n",
       "  </tbody>\n",
       "</table>\n",
       "</div>"
      ],
      "text/plain": [
       "                 AAPL       GOOG    IBE.MC       TSLA          V        ^GSPC\n",
       "Date                                                                         \n",
       "2015-05-01  29.057026  26.480078  4.203310  16.719999  63.940159  2107.389893\n",
       "2015-06-01  28.092155  25.902813  4.033736  17.884001  62.625172  2063.110107\n",
       "2015-07-01  27.167181  31.133039  4.288764  17.743334  70.263298  2103.840088\n",
       "2015-08-01  25.254498  30.766775  4.062201  16.604000  66.495552  1972.180054\n",
       "2015-09-01  24.815363  30.277592  3.989747  16.559999  65.072495  1920.030029"
      ]
     },
     "execution_count": 186,
     "metadata": {},
     "output_type": "execute_result"
    }
   ],
   "source": [
    "# load data from csv file\n",
    "\n",
    "data = pd.read_csv('data.csv', index_col=['Date'], date_format=['Date'])\n",
    "\n",
    "data.head()"
   ]
  },
  {
   "cell_type": "code",
   "execution_count": 187,
   "id": "5d806910",
   "metadata": {},
   "outputs": [],
   "source": [
    "# get log-return\n",
    "\n",
    "ticker = ['AAPL', 'GOOG', 'TSLA', 'IBE.MC', 'V']\n",
    "ticker_log = ['logreturn_AAPL', 'logreturn_GOOG', 'logreturn_TSLA', 'logreturn_IBE.MC', 'logreturn_V']\n",
    "\n",
    "for i in range(len(ticker)):\n",
    "    data.loc[:, \"logreturn_\" + ticker[i]] = np.log(data[ticker[i]]) - np.log(data[ticker[i]].shift())"
   ]
  },
  {
   "cell_type": "code",
   "execution_count": 188,
   "id": "3c183e73",
   "metadata": {},
   "outputs": [
    {
     "data": {
      "text/html": [
       "<div>\n",
       "<style scoped>\n",
       "    .dataframe tbody tr th:only-of-type {\n",
       "        vertical-align: middle;\n",
       "    }\n",
       "\n",
       "    .dataframe tbody tr th {\n",
       "        vertical-align: top;\n",
       "    }\n",
       "\n",
       "    .dataframe thead th {\n",
       "        text-align: right;\n",
       "    }\n",
       "</style>\n",
       "<table border=\"1\" class=\"dataframe\">\n",
       "  <thead>\n",
       "    <tr style=\"text-align: right;\">\n",
       "      <th></th>\n",
       "      <th>AAPL</th>\n",
       "      <th>GOOG</th>\n",
       "      <th>IBE.MC</th>\n",
       "      <th>TSLA</th>\n",
       "      <th>V</th>\n",
       "      <th>^GSPC</th>\n",
       "      <th>logreturn_AAPL</th>\n",
       "      <th>logreturn_GOOG</th>\n",
       "      <th>logreturn_TSLA</th>\n",
       "      <th>logreturn_IBE.MC</th>\n",
       "      <th>logreturn_V</th>\n",
       "    </tr>\n",
       "    <tr>\n",
       "      <th>Date</th>\n",
       "      <th></th>\n",
       "      <th></th>\n",
       "      <th></th>\n",
       "      <th></th>\n",
       "      <th></th>\n",
       "      <th></th>\n",
       "      <th></th>\n",
       "      <th></th>\n",
       "      <th></th>\n",
       "      <th></th>\n",
       "      <th></th>\n",
       "    </tr>\n",
       "  </thead>\n",
       "  <tbody>\n",
       "    <tr>\n",
       "      <th>2015-06-01</th>\n",
       "      <td>28.092155</td>\n",
       "      <td>25.902813</td>\n",
       "      <td>4.033736</td>\n",
       "      <td>17.884001</td>\n",
       "      <td>62.625172</td>\n",
       "      <td>2063.110107</td>\n",
       "      <td>-0.033770</td>\n",
       "      <td>-0.022041</td>\n",
       "      <td>0.067301</td>\n",
       "      <td>-0.041179</td>\n",
       "      <td>-0.020780</td>\n",
       "    </tr>\n",
       "    <tr>\n",
       "      <th>2015-07-01</th>\n",
       "      <td>27.167181</td>\n",
       "      <td>31.133039</td>\n",
       "      <td>4.288764</td>\n",
       "      <td>17.743334</td>\n",
       "      <td>70.263298</td>\n",
       "      <td>2103.840088</td>\n",
       "      <td>-0.033481</td>\n",
       "      <td>0.183918</td>\n",
       "      <td>-0.007897</td>\n",
       "      <td>0.061306</td>\n",
       "      <td>0.115082</td>\n",
       "    </tr>\n",
       "    <tr>\n",
       "      <th>2015-08-01</th>\n",
       "      <td>25.254498</td>\n",
       "      <td>30.766775</td>\n",
       "      <td>4.062201</td>\n",
       "      <td>16.604000</td>\n",
       "      <td>66.495552</td>\n",
       "      <td>1972.180054</td>\n",
       "      <td>-0.073005</td>\n",
       "      <td>-0.011834</td>\n",
       "      <td>-0.066366</td>\n",
       "      <td>-0.054274</td>\n",
       "      <td>-0.055115</td>\n",
       "    </tr>\n",
       "    <tr>\n",
       "      <th>2015-09-01</th>\n",
       "      <td>24.815363</td>\n",
       "      <td>30.277592</td>\n",
       "      <td>3.989747</td>\n",
       "      <td>16.559999</td>\n",
       "      <td>65.072495</td>\n",
       "      <td>1920.030029</td>\n",
       "      <td>-0.017541</td>\n",
       "      <td>-0.016027</td>\n",
       "      <td>-0.002654</td>\n",
       "      <td>-0.017997</td>\n",
       "      <td>-0.021633</td>\n",
       "    </tr>\n",
       "    <tr>\n",
       "      <th>2015-10-01</th>\n",
       "      <td>26.885183</td>\n",
       "      <td>35.372959</td>\n",
       "      <td>4.358733</td>\n",
       "      <td>13.795333</td>\n",
       "      <td>72.470901</td>\n",
       "      <td>2079.360107</td>\n",
       "      <td>0.080112</td>\n",
       "      <td>0.155540</td>\n",
       "      <td>-0.182660</td>\n",
       "      <td>0.088454</td>\n",
       "      <td>0.107683</td>\n",
       "    </tr>\n",
       "  </tbody>\n",
       "</table>\n",
       "</div>"
      ],
      "text/plain": [
       "                 AAPL       GOOG    IBE.MC       TSLA          V        ^GSPC  \\\n",
       "Date                                                                            \n",
       "2015-06-01  28.092155  25.902813  4.033736  17.884001  62.625172  2063.110107   \n",
       "2015-07-01  27.167181  31.133039  4.288764  17.743334  70.263298  2103.840088   \n",
       "2015-08-01  25.254498  30.766775  4.062201  16.604000  66.495552  1972.180054   \n",
       "2015-09-01  24.815363  30.277592  3.989747  16.559999  65.072495  1920.030029   \n",
       "2015-10-01  26.885183  35.372959  4.358733  13.795333  72.470901  2079.360107   \n",
       "\n",
       "            logreturn_AAPL  logreturn_GOOG  logreturn_TSLA  logreturn_IBE.MC  \\\n",
       "Date                                                                           \n",
       "2015-06-01       -0.033770       -0.022041        0.067301         -0.041179   \n",
       "2015-07-01       -0.033481        0.183918       -0.007897          0.061306   \n",
       "2015-08-01       -0.073005       -0.011834       -0.066366         -0.054274   \n",
       "2015-09-01       -0.017541       -0.016027       -0.002654         -0.017997   \n",
       "2015-10-01        0.080112        0.155540       -0.182660          0.088454   \n",
       "\n",
       "            logreturn_V  \n",
       "Date                     \n",
       "2015-06-01    -0.020780  \n",
       "2015-07-01     0.115082  \n",
       "2015-08-01    -0.055115  \n",
       "2015-09-01    -0.021633  \n",
       "2015-10-01     0.107683  "
      ]
     },
     "execution_count": 188,
     "metadata": {},
     "output_type": "execute_result"
    }
   ],
   "source": [
    "# drop nan\n",
    "\n",
    "data = data.dropna()\n",
    "\n",
    "data.head()"
   ]
  },
  {
   "cell_type": "markdown",
   "id": "fe6f2826",
   "metadata": {},
   "source": [
    "# Jarque-Bera test for normality"
   ]
  },
  {
   "cell_type": "code",
   "execution_count": 189,
   "id": "c8be5d8b",
   "metadata": {},
   "outputs": [
    {
     "data": {
      "text/plain": [
       "array([1.77864686, 2.36576581, 2.76692817, 6.54916188, 0.77898289])"
      ]
     },
     "execution_count": 189,
     "metadata": {},
     "output_type": "execute_result"
    }
   ],
   "source": [
    "# JB test statistic\n",
    "\n",
    "JB = np.zeros((len(ticker)))\n",
    "\n",
    "for i in range(len(ticker)):\n",
    "    S = scipy.stats.skew(data[\"logreturn_\" + ticker[i]])\n",
    "    K = scipy.stats.kurtosis(data[\"logreturn_\" + ticker[i]], fisher=False)\n",
    "    N = data.shape[0]\n",
    "    JB[i] = (N / 6) * (S**2 + 0.25 * (K - 3)**2)\n",
    "\n",
    "\n",
    "JB"
   ]
  },
  {
   "cell_type": "code",
   "execution_count": 190,
   "id": "1280f735",
   "metadata": {},
   "outputs": [
    {
     "data": {
      "text/plain": [
       "array([0.58906632, 0.69360584, 0.74929143, 0.96216728, 0.32259872])"
      ]
     },
     "execution_count": 190,
     "metadata": {},
     "output_type": "execute_result"
    }
   ],
   "source": [
    "# Chi-squared distribution\n",
    "\n",
    "cdf = np.zeros((len(ticker)))\n",
    "\n",
    "for i in range(len(ticker)):\n",
    "    cdf[i] = scipy.stats.chi2.cdf(JB[i], 2)\n",
    "\n",
    "cdf"
   ]
  },
  {
   "cell_type": "code",
   "execution_count": 191,
   "id": "5f443511",
   "metadata": {},
   "outputs": [
    {
     "name": "stdout",
     "output_type": "stream",
     "text": [
      "AAPL: probably normal distributed\n",
      "GOOG: probably normal distributed\n",
      "TSLA: probably normal distributed\n",
      "IBE.MC: not normal distributen\n",
      "V: probably normal distributed\n"
     ]
    },
    {
     "data": {
      "text/plain": [
       "array([0.41093368, 0.30639416, 0.25070857, 0.03783272, 0.67740128])"
      ]
     },
     "execution_count": 191,
     "metadata": {},
     "output_type": "execute_result"
    }
   ],
   "source": [
    "# p-value \n",
    "\n",
    "a = 0.05 #alpha\n",
    "\n",
    "p = np.zeros((len(ticker)))\n",
    "\n",
    "for i in range(len(ticker)):\n",
    "    p[i] = 1 - cdf[i]\n",
    "    if p[i] >= a:\n",
    "        print(ticker[i] + \": probably normal distributed\")\n",
    "    else: \n",
    "        print(ticker[i] + \": not normal distributen\")\n",
    "\n",
    "\n",
    "p"
   ]
  },
  {
   "cell_type": "markdown",
   "id": "6a5a8863",
   "metadata": {},
   "source": [
    "# Build the IOS"
   ]
  },
  {
   "cell_type": "code",
   "execution_count": 192,
   "id": "7454afe9",
   "metadata": {},
   "outputs": [
    {
     "name": "stdout",
     "output_type": "stream",
     "text": [
      "[0.19051229 0.18569911 0.3010397  0.13500644 0.1710049 ]\n"
     ]
    }
   ],
   "source": [
    "mu = np.zeros((len(ticker)))\n",
    "\n",
    "for i in range(len(ticker)):\n",
    "    mu[i] = np.mean(data[\"logreturn_\" + ticker[i]])*12 # annualized return\n",
    "\n",
    "Sigma = (np.cov(data[ticker_log].T)*12).round(4) # annulized covariance matrix\n",
    "\n",
    "print(mu)"
   ]
  },
  {
   "cell_type": "code",
   "execution_count": 193,
   "id": "48b4e627",
   "metadata": {},
   "outputs": [
    {
     "name": "stderr",
     "output_type": "stream",
     "text": [
      "<>:12: SyntaxWarning: invalid escape sequence '\\s'\n",
      "<>:12: SyntaxWarning: invalid escape sequence '\\s'\n",
      "/var/folders/l7/q149vsq90bb6jd1b96qw2qyc0000gn/T/ipykernel_27671/1735519343.py:12: SyntaxWarning: invalid escape sequence '\\s'\n",
      "  plt.xlabel('$\\sigma(r)$')\n",
      "/var/folders/l7/q149vsq90bb6jd1b96qw2qyc0000gn/T/ipykernel_27671/1735519343.py:15: UserWarning: No artists with labels found to put in legend.  Note that artists whose label start with an underscore are ignored when legend() is called with no argument.\n",
      "  plt.legend()\n"
     ]
    },
    {
     "data": {
      "image/png": "[encoded data removed]",
      "text/plain": [
       "<Figure size 1000x500 with 1 Axes>"
      ]
     },
     "metadata": {},
     "output_type": "display_data"
    }
   ],
   "source": [
    "# Plot mean\n",
    "\n",
    "plt.figure(1, figsize=(10,5))\n",
    "\n",
    "# add single assets investment opportunities\n",
    "plt.scatter(np.diag(Sigma)**0.5, mu[:], s=20, color='black')\n",
    "\n",
    "for i in range(len(ticker)):\n",
    "    plt.text((np.diag(Sigma)**0.5)[i] + 0.005, mu[i], ticker[i])\n",
    "\n",
    "#descrive axis\n",
    "plt.xlabel('$\\sigma(r)$')\n",
    "plt.ylabel('$E[r]$')\n",
    "\n",
    "plt.legend()\n",
    "\n",
    "#add a title\n",
    "plt.title('Individual return')\n",
    "plt.show()"
   ]
  },
  {
   "cell_type": "code",
   "execution_count": 194,
   "id": "cca37b8d",
   "metadata": {},
   "outputs": [
    {
     "data": {
      "image/png": "[encoded data removed]",
      "text/plain": [
       "<Figure size 640x480 with 2 Axes>"
      ]
     },
     "metadata": {},
     "output_type": "display_data"
    }
   ],
   "source": [
    "# Plot heatmap\n",
    "\n",
    "plt.imshow(Sigma, cmap='coolwarm', interpolation='nearest')\n",
    "plt.colorbar(label='Covariance')\n",
    "plt.title('Heatmap of covariance')\n",
    "plt.xticks(np.arange(Sigma.shape[0]))\n",
    "plt.yticks(np.arange(Sigma.shape[1]))\n",
    "plt.show()"
   ]
  },
  {
   "cell_type": "markdown",
   "id": "d2090b60",
   "metadata": {},
   "source": [
    "# Building the MV-Frontier\n",
    "\n",
    "## 1. Unconstrained"
   ]
  },
  {
   "cell_type": "code",
   "execution_count": 195,
   "id": "afa50bfc",
   "metadata": {},
   "outputs": [],
   "source": [
    "#SINGLE OPTIMIZATIONS: Objective Function, Constraint Function, Starting Values, Bounds\n",
    "\n",
    "def portfolio_variance(w):\n",
    "        #input: w as numpy column vector\n",
    "        #output: scalar\n",
    "    return (w.T@Sigma@w).item() #objective function to be minimized\n",
    "\n",
    "\n",
    "def eq_portfolio_return(w):\n",
    "    #input: numpy portfolio column vector\n",
    "    #note: mu_i is a global variable; needs to be known before calling this function\n",
    "    #output: difference between w's expected return and the target return; scalar\n",
    "    \n",
    "    return (w.T@mu).item() - mu_i #constraint to meet target expected return mu_i\n",
    "\n",
    "\n",
    "def eq_weight_sum(w): \n",
    "    #content: full investment constraint: 100% is invested in risky assets\n",
    "    #input: numpy portfolio column vector\n",
    "    #output: difference between sum of portfolio holdings and 100%=1. \n",
    "    \n",
    "    return np.sum(w) - 1\n",
    "\n",
    "\n",
    "# starting values\n",
    "w0 = [0.2, 0.2, 0.2, 0.2, 0.2]\n",
    "\n",
    "#no short-sale (bound) and minimum diversification bound\n",
    "bounds = [(0, 0.5), (0, 0.5), (0, 0.5), (0, 0.5), (0, 0.5)]\n",
    "\n",
    "\n",
    "constraints = [{'type': 'eq', 'fun': eq_portfolio_return},\n",
    "               {'type': 'eq', 'fun': eq_weight_sum}\n",
    "               ] #target return and full investment constraint"
   ]
  },
  {
   "cell_type": "code",
   "execution_count": 196,
   "id": "ec859003",
   "metadata": {},
   "outputs": [],
   "source": [
    "#Loop through y-axis (i.e. mu_i)\n",
    "\n",
    "mu_min = 0.01\n",
    "mu_max = 1\n",
    "incr = 0.001"
   ]
  },
  {
   "cell_type": "code",
   "execution_count": 197,
   "id": "7894de39",
   "metadata": {},
   "outputs": [
    {
     "data": {
      "text/plain": [
       "991"
      ]
     },
     "execution_count": 197,
     "metadata": {},
     "output_type": "execute_result"
    }
   ],
   "source": [
    "#number of evaluations\n",
    "nr_evals = int( (mu_max - mu_min) / incr + 1)\n",
    "nr_evals #number of portfolios on the MV-frontier"
   ]
  },
  {
   "cell_type": "code",
   "execution_count": 198,
   "id": "b1f7e0e0",
   "metadata": {},
   "outputs": [],
   "source": [
    "# MV-Frontier\n",
    "\n",
    "w_MV = np.zeros((nr_evals, 5))\n",
    "mu_MV = np.zeros((nr_evals,))\n",
    "sigma_MV = np.zeros((nr_evals,))\n",
    "\n",
    "mu_i = mu_min\n",
    "for i in range(0,nr_evals):\n",
    "    w_opt = scipy.optimize.minimize(portfolio_variance, w0, constraints=constraints) # minimize variance for mu\n",
    "    w_MV[i,:] = w_opt.x\n",
    "    mu_MV[i] = (w_opt.x.T@mu).item() \n",
    "    sigma_MV[i] = (w_opt.x.T@Sigma@w_opt.x).item()**0.5\n",
    "    \n",
    "    mu_i = mu_i + incr"
   ]
  },
  {
   "cell_type": "code",
   "execution_count": 199,
   "id": "698880e6",
   "metadata": {},
   "outputs": [
    {
     "name": "stderr",
     "output_type": "stream",
     "text": [
      "<>:12: SyntaxWarning: invalid escape sequence '\\s'\n",
      "<>:12: SyntaxWarning: invalid escape sequence '\\s'\n",
      "/var/folders/l7/q149vsq90bb6jd1b96qw2qyc0000gn/T/ipykernel_27671/2251878233.py:12: SyntaxWarning: invalid escape sequence '\\s'\n",
      "  plt.xlabel('$\\sigma(r)$')\n"
     ]
    },
    {
     "data": {
      "image/png": "[encoded data removed]",
      "text/plain": [
       "<Figure size 1200x700 with 1 Axes>"
      ]
     },
     "metadata": {},
     "output_type": "display_data"
    }
   ],
   "source": [
    "# Plot MV-Frontier\n",
    "\n",
    "plt.figure(1, figsize=(12,7))\n",
    "\n",
    "#show the MV-frontier that obeys constraints and bounds\n",
    "plt.plot(sigma_MV, mu_MV, color='blue',label='Unconstrained MV-Frontier')\n",
    "\n",
    "# add single assets investment opportunities\n",
    "plt.scatter(np.diag(Sigma)**0.5, mu[:], s=20, color='black', label='Individual Assets')\n",
    "\n",
    "#descrive axis\n",
    "plt.xlabel('$\\sigma(r)$')\n",
    "plt.ylabel('$E[r]$')\n",
    "\n",
    "plt.legend()\n",
    "\n",
    "#add a title\n",
    "plt.title('Unconstrained Minimum Variance Frontier')\n",
    "plt.show()"
   ]
  },
  {
   "cell_type": "markdown",
   "id": "4f54e3cf",
   "metadata": {},
   "source": [
    "## Constrained"
   ]
  },
  {
   "cell_type": "code",
   "execution_count": 200,
   "id": "e09304dc",
   "metadata": {},
   "outputs": [],
   "source": [
    "#Loop through y-axis (i.e. mu_i)\n",
    "\n",
    "mu_min = 0.01\n",
    "mu_max = 1\n",
    "incr = 0.001"
   ]
  },
  {
   "cell_type": "code",
   "execution_count": 201,
   "id": "20900bd8",
   "metadata": {},
   "outputs": [
    {
     "data": {
      "text/plain": [
       "991"
      ]
     },
     "execution_count": 201,
     "metadata": {},
     "output_type": "execute_result"
    }
   ],
   "source": [
    "#number of evaluations\n",
    "nr_evals = int( (mu_max - mu_min) / incr + 1)\n",
    "nr_evals #number of portfolios on the MV-frontier"
   ]
  },
  {
   "cell_type": "code",
   "execution_count": 202,
   "id": "ad299521",
   "metadata": {},
   "outputs": [],
   "source": [
    "# MV-Frontier\n",
    "\n",
    "w_MV = np.zeros((nr_evals, 5))\n",
    "mu_MV = np.zeros((nr_evals,))\n",
    "sigma_MV = np.zeros((nr_evals,))\n",
    "\n",
    "mu_i = mu_min\n",
    "for i in range(0,nr_evals):\n",
    "    w_opt = scipy.optimize.minimize(portfolio_variance, w0, bounds=bounds, constraints=constraints) # minimize variance for mu with bounds\n",
    "    w_MV[i,:] = w_opt.x\n",
    "    mu_MV[i] = (w_opt.x.T@mu).item()\n",
    "    sigma_MV[i] = (w_opt.x.T@Sigma@w_opt.x).item()**0.5\n",
    "    \n",
    "    mu_i = mu_i + incr"
   ]
  },
  {
   "cell_type": "code",
   "execution_count": 203,
   "id": "e02056bc",
   "metadata": {},
   "outputs": [
    {
     "name": "stderr",
     "output_type": "stream",
     "text": [
      "<>:12: SyntaxWarning: invalid escape sequence '\\s'\n",
      "<>:12: SyntaxWarning: invalid escape sequence '\\s'\n",
      "/var/folders/l7/q149vsq90bb6jd1b96qw2qyc0000gn/T/ipykernel_27671/1086647150.py:12: SyntaxWarning: invalid escape sequence '\\s'\n",
      "  plt.xlabel('$\\sigma(r)$')\n"
     ]
    },
    {
     "data": {
      "image/png": "[encoded data removed]",
      "text/plain": [
       "<Figure size 1200x700 with 1 Axes>"
      ]
     },
     "metadata": {},
     "output_type": "display_data"
    }
   ],
   "source": [
    "# Plot MV-Frontier\n",
    "\n",
    "plt.figure(1, figsize=(12,7))\n",
    "\n",
    "#show the MV-frontier that obeys constraints and bounds\n",
    "plt.plot(sigma_MV, mu_MV, color='blue',label='Constrained MV-Frontier')\n",
    "\n",
    "# add single assets investment opportunities\n",
    "plt.scatter(np.diag(Sigma)**0.5, mu[:], s=20, color='black', label='Individual Assets')\n",
    "\n",
    "#descrive axis\n",
    "plt.xlabel('$\\sigma(r)$')\n",
    "plt.ylabel('$E[r]$')\n",
    "\n",
    "plt.legend()\n",
    "\n",
    "#add a title\n",
    "plt.title('Constrained Minimum Variance Frontier')\n",
    "plt.show()"
   ]
  },
  {
   "cell_type": "markdown",
   "id": "fc43ff20",
   "metadata": {},
   "source": [
    "# Tangency Portfolio"
   ]
  },
  {
   "cell_type": "code",
   "execution_count": 204,
   "id": "7dde2fc7",
   "metadata": {},
   "outputs": [
    {
     "data": {
      "text/plain": [
       "161"
      ]
     },
     "execution_count": 204,
     "metadata": {},
     "output_type": "execute_result"
    }
   ],
   "source": [
    "rf = 0.04146 # U.S. 1 Year Treasury\n",
    "\n",
    "SR_MV = (mu_MV - rf) / sigma_MV\n",
    "\n",
    "TP_index = np.argmax(SR_MV)\n",
    "\n",
    "TP_index"
   ]
  },
  {
   "cell_type": "code",
   "execution_count": 205,
   "id": "d3e4f32b",
   "metadata": {},
   "outputs": [
    {
     "data": {
      "text/plain": [
       "array([0.07381398, 0.21217878, 0.05067614, 0.30979883, 0.35353227])"
      ]
     },
     "execution_count": 205,
     "metadata": {},
     "output_type": "execute_result"
    }
   ],
   "source": [
    "w_TP = w_MV[TP_index]\n",
    "w_TP"
   ]
  },
  {
   "cell_type": "code",
   "execution_count": 206,
   "id": "fcdde4de",
   "metadata": {},
   "outputs": [
    {
     "data": {
      "text/plain": [
       "0.17099999998970683"
      ]
     },
     "execution_count": 206,
     "metadata": {},
     "output_type": "execute_result"
    }
   ],
   "source": [
    "mu_TP = mu_MV[TP_index]\n",
    "mu_TP"
   ]
  },
  {
   "cell_type": "code",
   "execution_count": 207,
   "id": "b3ceabb4",
   "metadata": {},
   "outputs": [
    {
     "data": {
      "text/plain": [
       "0.15973419753763246"
      ]
     },
     "execution_count": 207,
     "metadata": {},
     "output_type": "execute_result"
    }
   ],
   "source": [
    "sigma_TP = sigma_MV[TP_index]\n",
    "sigma_TP"
   ]
  },
  {
   "cell_type": "code",
   "execution_count": 208,
   "id": "26323c7b",
   "metadata": {},
   "outputs": [
    {
     "data": {
      "text/plain": [
       "0.8109722400501492"
      ]
     },
     "execution_count": 208,
     "metadata": {},
     "output_type": "execute_result"
    }
   ],
   "source": [
    "SR_TP = (mu_TP - rf) / sigma_TP\n",
    "SR_TP"
   ]
  },
  {
   "cell_type": "markdown",
   "id": "d76d6337",
   "metadata": {},
   "source": [
    "# Optimal Complete Portfolio"
   ]
  },
  {
   "cell_type": "code",
   "execution_count": 209,
   "id": "c7a177f0",
   "metadata": {},
   "outputs": [
    {
     "data": {
      "text/plain": [
       "0.6346263453221161"
      ]
     },
     "execution_count": 209,
     "metadata": {},
     "output_type": "execute_result"
    }
   ],
   "source": [
    "A = 8 # risk aversion on (1-10) scale\n",
    "\n",
    "y = (mu_TP - rf) / (A * (sigma_TP ** 2))\n",
    "\n",
    "y"
   ]
  },
  {
   "cell_type": "code",
   "execution_count": 210,
   "id": "ff528f4b",
   "metadata": {},
   "outputs": [],
   "source": [
    "# calculate utility\n",
    "\n",
    "mu_C = y*mu_TP+(1-y)*rf \n",
    "\n",
    "sigma_C = y*sigma_TP\n",
    "\n",
    "utility_C = mu_C - 0.5*A*(sigma_C**2)"
   ]
  },
  {
   "cell_type": "code",
   "execution_count": 211,
   "id": "04ea20bb",
   "metadata": {},
   "outputs": [
    {
     "name": "stderr",
     "output_type": "stream",
     "text": [
      "<>:24: SyntaxWarning: invalid escape sequence '\\s'\n",
      "<>:24: SyntaxWarning: invalid escape sequence '\\s'\n",
      "/var/folders/l7/q149vsq90bb6jd1b96qw2qyc0000gn/T/ipykernel_27671/667998582.py:24: SyntaxWarning: invalid escape sequence '\\s'\n",
      "  plt.xlabel('$\\sigma(r)$')\n"
     ]
    },
    {
     "data": {
      "image/png": "[encoded data removed]",
      "text/plain": [
       "<Figure size 1200x700 with 1 Axes>"
      ]
     },
     "metadata": {},
     "output_type": "display_data"
    }
   ],
   "source": [
    "# Plot Tangency Portfolio\n",
    "\n",
    "plt.figure(1, figsize=(12,7))\n",
    "\n",
    "#show the MV-frontier that obeys constraints and bounds\n",
    "plt.plot(sigma_MV, mu_MV, color='blue',label='Constrained MV-Frontier')\n",
    "\n",
    "# add single assets investment opportunities and risk-free asset\n",
    "plt.scatter([0], [rf], s = 20, color='green', label='$r_f$')\n",
    "plt.scatter(sigma_TP, mu_TP, s = 20, color='red', label='TP Portfolio')\n",
    "plt.scatter(sigma_C, mu_C, s = 20, color='blue', label='Optimal Complete Portfolio')\n",
    "\n",
    "# add capital market line\n",
    "x = np.linspace(0, np.max(sigma_MV))\n",
    "y = rf + SR_TP * x\n",
    "plt.plot(x, y, color='black', label='Capital Allocation line')\n",
    "\n",
    "# add utility function\n",
    "x = np.linspace(0, np.max(sigma_MV))\n",
    "y = utility_C + 0.5*A*(x**2)\n",
    "plt.plot(x, y, color='green', label='Utility Function')\n",
    "\n",
    "#descrive axis\n",
    "plt.xlabel('$\\sigma(r)$')\n",
    "plt.ylabel('$E[r]$')\n",
    "\n",
    "\n",
    "plt.legend()\n",
    "\n",
    "#add a title\n",
    "plt.title('Tangency Portfolio')\n",
    "plt.show()"
   ]
  },
  {
   "cell_type": "markdown",
   "id": "e0d1caff",
   "metadata": {},
   "source": [
    "# Decomposing expected portfolio performance (return and risk) into systematic ans idiosyncratic components"
   ]
  },
  {
   "cell_type": "code",
   "execution_count": 212,
   "id": "3a2834a6",
   "metadata": {},
   "outputs": [],
   "source": [
    "# calculate SP500 log-return\n",
    "data['logreturn_^GSPC'] = np.log(data['^GSPC']) - np.log(data['^GSPC'].shift(1))"
   ]
  },
  {
   "cell_type": "code",
   "execution_count": 213,
   "id": "d950de67",
   "metadata": {},
   "outputs": [],
   "source": [
    "# drop nan\n",
    "data = data.dropna()"
   ]
  },
  {
   "cell_type": "code",
   "execution_count": 214,
   "id": "ddeb0cb7",
   "metadata": {},
   "outputs": [
    {
     "data": {
      "text/plain": [
       "0.0034549999999999997"
      ]
     },
     "execution_count": 214,
     "metadata": {},
     "output_type": "execute_result"
    }
   ],
   "source": [
    "# risk free return rate per month\n",
    "rf_monthly = rf / 12\n",
    "\n",
    "rf_monthly"
   ]
  },
  {
   "cell_type": "code",
   "execution_count": 215,
   "id": "559c20c9",
   "metadata": {},
   "outputs": [],
   "source": [
    "# calculate OLS Model for each stock\n",
    "\n",
    "betas = []\n",
    "alphas = []\n",
    "\n",
    "for i in range(len(ticker)):\n",
    "    y = data[\"logreturn_\" + ticker[i]] - rf_monthly # monthly stock excess reuturn\n",
    "    X = data['logreturn_^GSPC'] - rf_monthly # monthly market excess return\n",
    "    X = sm.add_constant(X)\n",
    "    model = sm.OLS(y, X).fit()\n",
    "\n",
    "    betas.append(model.params.iloc[1])\n",
    "    alphas.append(model.params.iloc[0]* 12) # annualized alpha\n"
   ]
  },
  {
   "cell_type": "code",
   "execution_count": 216,
   "id": "41783a3c",
   "metadata": {},
   "outputs": [
    {
     "name": "stdout",
     "output_type": "stream",
     "text": [
      " Portfolio Beta : 0.8437\n",
      " Portfolio Alpha : 0.0804\n",
      " Systematic Variance : 0.016908\n",
      " Idiosyncratic Variance : 0.142826\n"
     ]
    }
   ],
   "source": [
    "# Portfolio decomposition\n",
    "portfolio_beta = np.sum(np.array(betas) * w_TP)\n",
    "portfolio_alpha = np.sum(np.array(alphas) * w_TP)\n",
    "systematic_var = portfolio_beta**2 * np.var(data['logreturn_^GSPC']) * 12\n",
    "\n",
    "idiosyncratic_var = sigma_TP - systematic_var\n",
    "\n",
    "print ( f\" Portfolio Beta : { portfolio_beta :.4f}\")\n",
    "print ( f\" Portfolio Alpha : { portfolio_alpha :.4f}\")\n",
    "print ( f\" Systematic Variance : { systematic_var :.6f}\")\n",
    "print ( f\" Idiosyncratic Variance : { idiosyncratic_var :.6f}\")"
   ]
  },
  {
   "cell_type": "markdown",
   "id": "121f6607",
   "metadata": {},
   "source": [
    "# Expected vs. Realized Performance"
   ]
  },
  {
   "cell_type": "code",
   "execution_count": 217,
   "id": "b3b3e3c3",
   "metadata": {},
   "outputs": [],
   "source": [
    "# build train and test data set\n",
    "train_data = data.iloc[:int(len(data) * 0.7)][ticker_log] # use first 70%\n",
    "test_data = data.iloc[-int(len(data) * 0.3):][ticker_log] # use last 30%"
   ]
  },
  {
   "cell_type": "code",
   "execution_count": 218,
   "id": "88e49acd",
   "metadata": {},
   "outputs": [],
   "source": [
    "# calculate expected performance\n",
    "mean_train_data = train_data.mean() * 12\n",
    "sigma_train_data = train_data.cov() * 12\n",
    "\n",
    "exp_return = np.sum(mean_train_data * w_TP)\n",
    "exp_vol = np.sqrt(w_TP @ sigma_train_data @ w_TP)"
   ]
  },
  {
   "cell_type": "code",
   "execution_count": 219,
   "id": "78062247",
   "metadata": {},
   "outputs": [],
   "source": [
    "# calculate realized performance\n",
    "\n",
    "realized_returns = np.sum(test_data * w_TP, axis=1)\n",
    "realized_return = realized_returns.mean() * 12\n",
    "realized_vol = realized_returns.std() * np.sqrt(12)"
   ]
  },
  {
   "cell_type": "code",
   "execution_count": 220,
   "id": "66bd0fa8",
   "metadata": {},
   "outputs": [
    {
     "name": "stdout",
     "output_type": "stream",
     "text": [
      " Expected Return : 0.1832 , Realized Return :0.1875\n",
      " Expected Volatility : 0.1629 , Realized Volatility :0.1468\n"
     ]
    }
   ],
   "source": [
    "print(f\" Expected Return : { exp_return :.4f} , Realized Return :{ realized_return :.4f}\")\n",
    "\n",
    "print(f\" Expected Volatility : { exp_vol :.4f} , Realized Volatility :{ realized_vol :.4f}\")"
   ]
  }
 ],
 "metadata": {
  "kernelspec": {
   "display_name": "Python 3",
   "language": "python",
   "name": "python3"
  },
  "language_info": {
   "codemirror_mode": {
    "name": "ipython",
    "version": 3
   },
   "file_extension": ".py",
   "mimetype": "text/x-python",
   "name": "python",
   "nbconvert_exporter": "python",
   "pygments_lexer": "ipython3",
   "version": "3.12.2"
  }
 },
 "nbformat": 4,
 "nbformat_minor": 5
}
