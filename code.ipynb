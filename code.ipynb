{
 "cells": [
  {
   "cell_type": "code",
   "execution_count": 3,
   "id": "af24401f",
   "metadata": {},
   "outputs": [],
   "source": [
    "import yfinance\n",
    "import pandas as pd\n",
    "import numpy as np\n",
    "import matplotlib.pylab as plt\n",
    "import scipy.stats\n",
    "import scipy.optimize\n",
    "import statsmodels.api as sm\n",
    "import matplotlib.pyplot as plt"
   ]
  },
  {
   "cell_type": "code",
   "execution_count": 4,
   "id": "9d3b3bcf",
   "metadata": {},
   "outputs": [
    {
     "ename": "KeyError",
     "evalue": "'ASML'",
     "output_type": "error",
     "traceback": [
      "\u001b[31m---------------------------------------------------------------------------\u001b[39m",
      "\u001b[31mKeyError\u001b[39m                                  Traceback (most recent call last)",
      "\u001b[36mFile \u001b[39m\u001b[32m/Library/Frameworks/Python.framework/Versions/3.12/lib/python3.12/site-packages/pandas/core/indexes/base.py:3805\u001b[39m, in \u001b[36mIndex.get_loc\u001b[39m\u001b[34m(self, key)\u001b[39m\n\u001b[32m   3804\u001b[39m \u001b[38;5;28;01mtry\u001b[39;00m:\n\u001b[32m-> \u001b[39m\u001b[32m3805\u001b[39m     \u001b[38;5;28;01mreturn\u001b[39;00m \u001b[38;5;28;43mself\u001b[39;49m\u001b[43m.\u001b[49m\u001b[43m_engine\u001b[49m\u001b[43m.\u001b[49m\u001b[43mget_loc\u001b[49m\u001b[43m(\u001b[49m\u001b[43mcasted_key\u001b[49m\u001b[43m)\u001b[49m\n\u001b[32m   3806\u001b[39m \u001b[38;5;28;01mexcept\u001b[39;00m \u001b[38;5;167;01mKeyError\u001b[39;00m \u001b[38;5;28;01mas\u001b[39;00m err:\n",
      "\u001b[36mFile \u001b[39m\u001b[32mindex.pyx:167\u001b[39m, in \u001b[36mpandas._libs.index.IndexEngine.get_loc\u001b[39m\u001b[34m()\u001b[39m\n",
      "\u001b[36mFile \u001b[39m\u001b[32mindex.pyx:196\u001b[39m, in \u001b[36mpandas._libs.index.IndexEngine.get_loc\u001b[39m\u001b[34m()\u001b[39m\n",
      "\u001b[36mFile \u001b[39m\u001b[32mpandas/_libs/hashtable_class_helper.pxi:7081\u001b[39m, in \u001b[36mpandas._libs.hashtable.PyObjectHashTable.get_item\u001b[39m\u001b[34m()\u001b[39m\n",
      "\u001b[36mFile \u001b[39m\u001b[32mpandas/_libs/hashtable_class_helper.pxi:7089\u001b[39m, in \u001b[36mpandas._libs.hashtable.PyObjectHashTable.get_item\u001b[39m\u001b[34m()\u001b[39m\n",
      "\u001b[31mKeyError\u001b[39m: 'ASML'",
      "\nThe above exception was the direct cause of the following exception:\n",
      "\u001b[31mKeyError\u001b[39m                                  Traceback (most recent call last)",
      "\u001b[36mCell\u001b[39m\u001b[36m \u001b[39m\u001b[32mIn[4]\u001b[39m\u001b[32m, line 14\u001b[39m\n\u001b[32m     10\u001b[39m ticker = [\u001b[33m'\u001b[39m\u001b[33mAAPL\u001b[39m\u001b[33m'\u001b[39m, \u001b[33m'\u001b[39m\u001b[33mMSFT\u001b[39m\u001b[33m'\u001b[39m, \u001b[33m'\u001b[39m\u001b[33mTSLA\u001b[39m\u001b[33m'\u001b[39m, \u001b[33m'\u001b[39m\u001b[33mORSTED.CO\u001b[39m\u001b[33m'\u001b[39m, \u001b[33m'\u001b[39m\u001b[33mV\u001b[39m\u001b[33m'\u001b[39m, \u001b[33m'\u001b[39m\u001b[33mASML\u001b[39m\u001b[33m'\u001b[39m, \u001b[33m'\u001b[39m\u001b[33mTMO\u001b[39m\u001b[33m'\u001b[39m, \u001b[33m'\u001b[39m\u001b[33mNVDA\u001b[39m\u001b[33m'\u001b[39m, \u001b[33m'\u001b[39m\u001b[33mAMZN\u001b[39m\u001b[33m'\u001b[39m, \u001b[33m'\u001b[39m\u001b[33mSU.PA\u001b[39m\u001b[33m'\u001b[39m]\n\u001b[32m     13\u001b[39m \u001b[38;5;28;01mfor\u001b[39;00m i \u001b[38;5;129;01min\u001b[39;00m \u001b[38;5;28mrange\u001b[39m(\u001b[38;5;28mlen\u001b[39m(ticker)):\n\u001b[32m---> \u001b[39m\u001b[32m14\u001b[39m     data.loc[:, \u001b[33m\"\u001b[39m\u001b[33mlogreturn_\u001b[39m\u001b[33m\"\u001b[39m + ticker[i]] = np.log(\u001b[43mdata\u001b[49m\u001b[43m[\u001b[49m\u001b[43mticker\u001b[49m\u001b[43m[\u001b[49m\u001b[43mi\u001b[49m\u001b[43m]\u001b[49m\u001b[43m]\u001b[49m) - np.log(data[ticker[i]].shift())\n\u001b[32m     16\u001b[39m data = data.dropna()\n\u001b[32m     18\u001b[39m data.head()\n",
      "\u001b[36mFile \u001b[39m\u001b[32m/Library/Frameworks/Python.framework/Versions/3.12/lib/python3.12/site-packages/pandas/core/frame.py:4102\u001b[39m, in \u001b[36mDataFrame.__getitem__\u001b[39m\u001b[34m(self, key)\u001b[39m\n\u001b[32m   4100\u001b[39m \u001b[38;5;28;01mif\u001b[39;00m \u001b[38;5;28mself\u001b[39m.columns.nlevels > \u001b[32m1\u001b[39m:\n\u001b[32m   4101\u001b[39m     \u001b[38;5;28;01mreturn\u001b[39;00m \u001b[38;5;28mself\u001b[39m._getitem_multilevel(key)\n\u001b[32m-> \u001b[39m\u001b[32m4102\u001b[39m indexer = \u001b[38;5;28;43mself\u001b[39;49m\u001b[43m.\u001b[49m\u001b[43mcolumns\u001b[49m\u001b[43m.\u001b[49m\u001b[43mget_loc\u001b[49m\u001b[43m(\u001b[49m\u001b[43mkey\u001b[49m\u001b[43m)\u001b[49m\n\u001b[32m   4103\u001b[39m \u001b[38;5;28;01mif\u001b[39;00m is_integer(indexer):\n\u001b[32m   4104\u001b[39m     indexer = [indexer]\n",
      "\u001b[36mFile \u001b[39m\u001b[32m/Library/Frameworks/Python.framework/Versions/3.12/lib/python3.12/site-packages/pandas/core/indexes/base.py:3812\u001b[39m, in \u001b[36mIndex.get_loc\u001b[39m\u001b[34m(self, key)\u001b[39m\n\u001b[32m   3807\u001b[39m     \u001b[38;5;28;01mif\u001b[39;00m \u001b[38;5;28misinstance\u001b[39m(casted_key, \u001b[38;5;28mslice\u001b[39m) \u001b[38;5;129;01mor\u001b[39;00m (\n\u001b[32m   3808\u001b[39m         \u001b[38;5;28misinstance\u001b[39m(casted_key, abc.Iterable)\n\u001b[32m   3809\u001b[39m         \u001b[38;5;129;01mand\u001b[39;00m \u001b[38;5;28many\u001b[39m(\u001b[38;5;28misinstance\u001b[39m(x, \u001b[38;5;28mslice\u001b[39m) \u001b[38;5;28;01mfor\u001b[39;00m x \u001b[38;5;129;01min\u001b[39;00m casted_key)\n\u001b[32m   3810\u001b[39m     ):\n\u001b[32m   3811\u001b[39m         \u001b[38;5;28;01mraise\u001b[39;00m InvalidIndexError(key)\n\u001b[32m-> \u001b[39m\u001b[32m3812\u001b[39m     \u001b[38;5;28;01mraise\u001b[39;00m \u001b[38;5;167;01mKeyError\u001b[39;00m(key) \u001b[38;5;28;01mfrom\u001b[39;00m \u001b[34;01merr\u001b[39;00m\n\u001b[32m   3813\u001b[39m \u001b[38;5;28;01mexcept\u001b[39;00m \u001b[38;5;167;01mTypeError\u001b[39;00m:\n\u001b[32m   3814\u001b[39m     \u001b[38;5;66;03m# If we have a listlike key, _check_indexing_error will raise\u001b[39;00m\n\u001b[32m   3815\u001b[39m     \u001b[38;5;66;03m#  InvalidIndexError. Otherwise we fall through and re-raise\u001b[39;00m\n\u001b[32m   3816\u001b[39m     \u001b[38;5;66;03m#  the TypeError.\u001b[39;00m\n\u001b[32m   3817\u001b[39m     \u001b[38;5;28mself\u001b[39m._check_indexing_error(key)\n",
      "\u001b[31mKeyError\u001b[39m: 'ASML'"
     ]
    }
   ],
   "source": [
    "# load data from yfinance, format in CSV-File and prepare for usage\n",
    "\n",
    "\n",
    "#yfinance.download(['AAPL', 'MSFT', 'TSLA', 'ORSTED.CO', 'V', 'ASML', 'TMO', 'NVDA', 'AMZN', 'SU.PA', '^GSPC'], interval='1mo').to_csv('combined.csv')\n",
    "#pd.read_csv('combined.csv')[['Price', 'Close', 'Close.1', 'Close.2', 'Close.3', 'Close.4', 'Close.5', 'Close.6', 'Close.7', 'Close.8', 'Close.9', 'Close.10']].dropna().to_csv('data.csv', index=False)\n",
    "\n",
    "\n",
    "data = pd.read_csv('data.csv',index_col=['Date'],date_format=['Date'])\n",
    "\n",
    "ticker = ['AAPL', 'MSFT', 'TSLA', 'ORSTED.CO', 'V', 'ASML', 'TMO', 'NVDA', 'AMZN', 'SU.PA']\n",
    "\n",
    "\n",
    "for i in range(len(ticker)):\n",
    "    data.loc[:, \"logreturn_\" + ticker[i]] = np.log(data[ticker[i]]) - np.log(data[ticker[i]].shift())\n",
    "\n",
    "data = data.dropna()\n",
    "\n",
    "data.head()\n"
   ]
  },
  {
   "cell_type": "markdown",
   "id": "287e7f8b",
   "metadata": {},
   "source": [
    "# Checking for normal distribution\n",
    "\n",
    "With an alpha of 0.05"
   ]
  },
  {
   "cell_type": "code",
   "execution_count": null,
   "id": "82948970",
   "metadata": {},
   "outputs": [
    {
     "data": {
      "text/plain": [
       "array([1.59329498, 0.28119686, 1.59635315, 4.86882638, 1.41896856,\n",
       "       0.95634183, 0.55711059, 5.32523237, 4.72522601, 0.59944983])"
      ]
     },
     "execution_count": 28,
     "metadata": {},
     "output_type": "execute_result"
    }
   ],
   "source": [
    "JB = np.zeros((len(ticker)))\n",
    "\n",
    "\n",
    "\n",
    "for i in range(len(ticker)):\n",
    "    S = scipy.stats.skew(data[\"logreturn_\" + ticker[i]])\n",
    "    K = scipy.stats.kurtosis(data[\"logreturn_\" + ticker[i]], fisher=False)\n",
    "    N = data.shape[0]\n",
    "    JB[i] = (N / 6) * (S**2 + 0.25 * (K - 3)**2)\n",
    "\n",
    "\n",
    "JB\n",
    "    "
   ]
  },
  {
   "cell_type": "code",
   "execution_count": null,
   "id": "39f9829a",
   "metadata": {},
   "outputs": [
    {
     "data": {
      "text/plain": [
       "array([0.54916213, 0.13116186, 0.54985097, 0.91235083, 0.50810219,\n",
       "       0.38008377, 0.24312358, 0.93023454, 0.90582618, 0.25897796])"
      ]
     },
     "execution_count": 29,
     "metadata": {},
     "output_type": "execute_result"
    }
   ],
   "source": [
    "cdf = np.zeros((len(ticker)))\n",
    "\n",
    "for i in range(len(ticker)):\n",
    "    cdf[i] = scipy.stats.chi2.cdf(JB[i], 2)\n",
    "\n",
    "cdf\n"
   ]
  },
  {
   "cell_type": "code",
   "execution_count": null,
   "id": "59e7819a",
   "metadata": {},
   "outputs": [
    {
     "name": "stdout",
     "output_type": "stream",
     "text": [
      "AAPL: probably normal distributed\n",
      "MSFT: probably normal distributed\n",
      "TSLA: probably normal distributed\n",
      "ORSTED.CO: probably normal distributed\n",
      "V: probably normal distributed\n",
      "ASML: probably normal distributed\n",
      "TMO: probably normal distributed\n",
      "NVDA: probably normal distributed\n",
      "AMZN: probably normal distributed\n",
      "SU.PA: probably normal distributed\n"
     ]
    },
    {
     "data": {
      "text/plain": [
       "array([0.45083787, 0.86883814, 0.45014903, 0.08764917, 0.49189781,\n",
       "       0.61991623, 0.75687642, 0.06976546, 0.09417382, 0.74102204])"
      ]
     },
     "execution_count": 30,
     "metadata": {},
     "output_type": "execute_result"
    }
   ],
   "source": [
    "a = 0.05\n",
    "\n",
    "p = np.zeros((len(ticker)))\n",
    "\n",
    "for i in range(len(ticker)):\n",
    "    p[i] = 1 - cdf[i]\n",
    "    if p[i] > a:\n",
    "        print(ticker[i] + \": probably normal distributed\")\n",
    "    else: \n",
    "        print(ticker[i] + \": not normal distributen\")\n",
    "\n",
    "p"
   ]
  },
  {
   "cell_type": "markdown",
   "id": "2e861ab3",
   "metadata": {},
   "source": [
    "## Interpretation\n",
    "\n",
    "The analysis using the Jarque-Bera test indicates, that IBE.MC and INRG.L are not normal distributed. This deviation implies a higher likelihood of extreme return outcomes than predicted by the normal distribution assumption. As a result, mean-variance optimization — which relies on variance as a complete risk measure — may underestimate the true risk of these assets."
   ]
  },
  {
   "cell_type": "markdown",
   "id": "00c90a10",
   "metadata": {},
   "source": [
    "# Build the IOS"
   ]
  },
  {
   "cell_type": "code",
   "execution_count": null,
   "id": "fc707752",
   "metadata": {},
   "outputs": [
    {
     "name": "stdout",
     "output_type": "stream",
     "text": [
      "[0.25445661 0.25780211 0.35977795 0.01542285 0.18577064 0.2360084\n",
      " 0.11780901 0.53438553 0.19608975 0.18213605]\n",
      "[[0.07358141 0.03236707 0.08864285 0.02272463 0.02718902 0.0405197\n",
      "  0.02434536 0.07297983 0.04711493 0.02885734]\n",
      " [0.03236707 0.03846375 0.05142549 0.01293582 0.01854998 0.04347657\n",
      "  0.02052974 0.05929644 0.04050126 0.02481424]\n",
      " [0.08864285 0.05142549 0.36725035 0.02183648 0.02858627 0.05801398\n",
      "  0.04460131 0.09828906 0.09136547 0.05845132]\n",
      " [0.02272463 0.01293582 0.02183648 0.09306158 0.00942402 0.03027561\n",
      "  0.02413549 0.0287825  0.01684924 0.01867476]\n",
      " [0.02718902 0.01854998 0.02858627 0.00942402 0.0394781  0.02830395\n",
      "  0.0142007  0.03079441 0.02673819 0.02052555]\n",
      " [0.0405197  0.04347657 0.05801398 0.03027561 0.02830395 0.09699875\n",
      "  0.03555406 0.09167213 0.04995898 0.0446385 ]\n",
      " [0.02434536 0.02052974 0.04460131 0.02413549 0.0142007  0.03555406\n",
      "  0.05292435 0.03541685 0.03440373 0.02472668]\n",
      " [0.07297983 0.05929644 0.09828906 0.0287825  0.03079441 0.09167213\n",
      "  0.03541685 0.22305005 0.08452441 0.05756921]\n",
      " [0.04711493 0.04050126 0.09136547 0.01684924 0.02673819 0.04995898\n",
      "  0.03440373 0.08452441 0.08959859 0.03225368]\n",
      " [0.02885734 0.02481424 0.05845132 0.01867476 0.02052555 0.0446385\n",
      "  0.02472668 0.05756921 0.03225368 0.04539143]]\n"
     ]
    }
   ],
   "source": [
    "\n",
    "mu = np.zeros((len(ticker)))\n",
    "\n",
    "for i in range(len(ticker)):\n",
    "    mu[i] = np.mean(data[\"logreturn_\" + ticker[i]])*12\n",
    "\n",
    "#Sigma = np.cov(data[['logreturn_ENEL.MI', 'logreturn_IBE.MC', 'logreturn_INRG.L', 'logreturn_ORSTED.CO', 'logreturn_RWE.DE']].T)*12\n",
    "\n",
    "\n",
    "Sigma = np.cov(data[['logreturn_AAPL', 'logreturn_MSFT', 'logreturn_TSLA', 'logreturn_ORSTED.CO', 'logreturn_V', 'logreturn_ASML', 'logreturn_TMO', 'logreturn_NVDA', 'logreturn_AMZN', 'logreturn_SU.PA']].T)*12\n",
    "\n",
    "print(mu)\n",
    "print(Sigma)\n"
   ]
  },
  {
   "cell_type": "markdown",
   "id": "dae638b6",
   "metadata": {},
   "source": [
    "# Building a Efficient Frontier\n",
    "\n",
    "## 1. unconstrained"
   ]
  },
  {
   "cell_type": "code",
   "execution_count": null,
   "id": "41e311d9",
   "metadata": {},
   "outputs": [],
   "source": [
    "def portfolio_variance(w):\n",
    "    #input: w as  numpy column vector\n",
    "    #output: scalar\n",
    "    return (w.T@Sigma@w).item()\n",
    "\n",
    "def eq_portfolio_return(w):\n",
    "    #input: numpy portfolio column vector\n",
    "    #note: mu_i is a global variable; needs to be known before calling this function\n",
    "    #output: difference between w's expected return and the target return; scalar\n",
    "    \n",
    "    return (w.T@mu).item() - mu_i #constraint to meet target expected return mu_i\n",
    "\n",
    "\n",
    "def eq_weight_sum(w): \n",
    "    #content: full investment constraint: 100% is invested in risky assets\n",
    "    #input: numpy portfolio column vector\n",
    "    #output: difference between sum of portfolio holdings and 100%=1. \n",
    "    \n",
    "    return np.sum(w) - 1\n",
    "\n",
    "#starting values\n",
    "w0 = [0.1, 0.1, 0.1, 0.1, 0.1, 0.1, 0.1, 0.1, 0.1, 0.1] #equal weight for each asset\n",
    "\n",
    "#bounds \n",
    "bounds = [(0, 1),(0, 1),(0, 1),(0, 1),(0, 1),(0, 1),(0, 1),(0, 1),(0, 1),(0, 1)]\n",
    "\n",
    "#constrains\n",
    "constraints = [{'type': 'eq', 'fun': eq_portfolio_return},\n",
    "               {'type': 'eq', 'fun': eq_weight_sum}\n",
    "               ] #target return and full investment constraint"
   ]
  },
  {
   "cell_type": "code",
   "execution_count": null,
   "id": "5cbb1a57",
   "metadata": {},
   "outputs": [],
   "source": [
    "#loop through y-axis\n",
    "\n",
    "mu_min = 0.01\n",
    "mu_max = 1\n",
    "incr = 0.001"
   ]
  },
  {
   "cell_type": "code",
   "execution_count": null,
   "id": "ea0cc5a3",
   "metadata": {},
   "outputs": [
    {
     "data": {
      "text/plain": [
       "991"
      ]
     },
     "execution_count": 34,
     "metadata": {},
     "output_type": "execute_result"
    }
   ],
   "source": [
    "#number of evaluations (i.e. number of optimizations)\n",
    "nr_evals = int( (mu_max - mu_min) / incr + 1)\n",
    "nr_evals #number of portfolios on the MV-frontier"
   ]
  },
  {
   "cell_type": "code",
   "execution_count": null,
   "id": "000b437e",
   "metadata": {},
   "outputs": [],
   "source": [
    "# MV-Frontier\n",
    "\n",
    "w_MV = np.zeros((nr_evals, 10))\n",
    "mu_MV = np.zeros((nr_evals,))\n",
    "sigma_MV = np.zeros((nr_evals,))\n",
    "\n",
    "mu_i = mu_min\n",
    "for i in range(0,nr_evals):\n",
    "    w_opt = scipy.optimize.minimize(portfolio_variance, w0, constraints=constraints)\n",
    "    w_MV[i,:] = w_opt.x\n",
    "    mu_MV[i] = (w_opt.x.T@mu).item()  #MU: come back here.\n",
    "    sigma_MV[i] = (w_opt.x.T@Sigma@w_opt.x).item()**0.5\n",
    "    \n",
    "    mu_i = mu_i + incr"
   ]
  },
  {
   "cell_type": "code",
   "execution_count": null,
   "id": "6d68474c",
   "metadata": {},
   "outputs": [
    {
     "name": "stderr",
     "output_type": "stream",
     "text": [
      "<>:12: SyntaxWarning: invalid escape sequence '\\s'\n",
      "<>:12: SyntaxWarning: invalid escape sequence '\\s'\n",
      "/var/folders/l7/q149vsq90bb6jd1b96qw2qyc0000gn/T/ipykernel_86982/852197012.py:12: SyntaxWarning: invalid escape sequence '\\s'\n",
      "  plt.xlabel('$\\sigma(r)$')\n"
     ]
    },
    {
     "data": {
      "image/png": "[encoded data removed]",
      "text/plain": [
       "<Figure size 1200x700 with 1 Axes>"
      ]
     },
     "metadata": {},
     "output_type": "display_data"
    }
   ],
   "source": [
    "# Plot MV-Frontier\n",
    "\n",
    "plt.figure(1, figsize=(12,7))\n",
    "\n",
    "#show the MV-frontier that obeys constraints and bounds\n",
    "plt.plot(sigma_MV, mu_MV, color='blue',label='Constrained MV-Frontier')\n",
    "\n",
    "# add single assets investment opportunities\n",
    "plt.scatter(np.diag(Sigma)**0.5, mu, s=20, color='black', label='Individual Assets')\n",
    "\n",
    "#descrive axis\n",
    "plt.xlabel('$\\sigma(r)$')\n",
    "plt.ylabel('$E[r]$')\n",
    "\n",
    "plt.legend()\n",
    "\n",
    "#add a title\n",
    "plt.title('Constrained Minimum Variance Frontier')\n",
    "plt.show()"
   ]
  },
  {
   "cell_type": "code",
   "execution_count": null,
   "id": "f24f108b",
   "metadata": {},
   "outputs": [
    {
     "name": "stdout",
     "output_type": "stream",
     "text": [
      "0.9999999999852317\n",
      "[-0.06994411  2.52327559  0.30336277 -0.83643947  0.81914171 -0.58482514\n",
      " -0.05901621  1.37886938 -1.59908324 -0.87534127]\n",
      "1.0\n",
      "136\n"
     ]
    }
   ],
   "source": [
    "p = 990\n",
    "\n",
    "print(mu_MV[p])\n",
    "print(w_MV[p])\n",
    "print(np.sum(w_MV[p]))\n",
    "\n",
    "print(np.argmin(sigma_MV))"
   ]
  },
  {
   "cell_type": "markdown",
   "id": "b30bcd92",
   "metadata": {},
   "source": [
    "## 2. Constrained\n",
    "To ensure realistic implementable portfolio weight, we allow no short-positions and no leverage."
   ]
  },
  {
   "cell_type": "code",
   "execution_count": null,
   "id": "7c22db8b",
   "metadata": {},
   "outputs": [],
   "source": [
    "#loop through y-axis\n",
    "\n",
    "mu_min = 0.01\n",
    "mu_max = 0.2\n",
    "incr = 0.001"
   ]
  },
  {
   "cell_type": "code",
   "execution_count": null,
   "id": "8c197e34",
   "metadata": {},
   "outputs": [
    {
     "data": {
      "text/plain": [
       "191"
      ]
     },
     "execution_count": 39,
     "metadata": {},
     "output_type": "execute_result"
    }
   ],
   "source": [
    "#number of evaluations (i.e. number of optimizations)\n",
    "nr_evals = int( (mu_max - mu_min) / incr + 1)\n",
    "nr_evals #number of portfolios on the MV-frontier"
   ]
  },
  {
   "cell_type": "code",
   "execution_count": null,
   "id": "fcb41ce1",
   "metadata": {},
   "outputs": [],
   "source": [
    "# MV-Frontier\n",
    "\n",
    "w_MV = np.zeros((nr_evals, 10))\n",
    "mu_MV = np.zeros((nr_evals,))\n",
    "sigma_MV = np.zeros((nr_evals,))\n",
    "\n",
    "mu_i = mu_min\n",
    "for i in range(0,nr_evals):\n",
    "    w_opt = scipy.optimize.minimize(portfolio_variance, w0, bounds=bounds, constraints=constraints)\n",
    "    w_MV[i,:] = w_opt.x\n",
    "    mu_MV[i] = (w_opt.x.T@mu).item()  #MU: come back here.\n",
    "    sigma_MV[i] = (w_opt.x.T@Sigma@w_opt.x).item()**0.5\n",
    "    \n",
    "    mu_i = mu_i + incr"
   ]
  },
  {
   "cell_type": "markdown",
   "id": "314cc5c6",
   "metadata": {},
   "source": [
    "# Tangency Portfolio\n",
    " As the risk-free rate, we choose Germany's 10-Year Bond with a 2.7% return."
   ]
  },
  {
   "cell_type": "code",
   "execution_count": null,
   "id": "2cac2168",
   "metadata": {},
   "outputs": [
    {
     "data": {
      "text/plain": [
       "190"
      ]
     },
     "execution_count": 41,
     "metadata": {},
     "output_type": "execute_result"
    }
   ],
   "source": [
    "rf = 0.027\n",
    "\n",
    "SR_MV = (mu_MV - rf) / sigma_MV\n",
    "\n",
    "TP_index = np.argmax(SR_MV)\n",
    "\n",
    "TP_index"
   ]
  },
  {
   "cell_type": "code",
   "execution_count": null,
   "id": "3e8f6556",
   "metadata": {},
   "outputs": [
    {
     "data": {
      "text/plain": [
       "array([0.00000000e+00, 4.34130874e-01, 1.49305393e-17, 6.01944146e-02,\n",
       "       3.32024355e-01, 0.00000000e+00, 9.57076764e-02, 0.00000000e+00,\n",
       "       0.00000000e+00, 7.79426809e-02])"
      ]
     },
     "execution_count": 42,
     "metadata": {},
     "output_type": "execute_result"
    }
   ],
   "source": [
    "w_TP = w_MV[TP_index]\n",
    "w_TP"
   ]
  },
  {
   "cell_type": "code",
   "execution_count": null,
   "id": "364909fb",
   "metadata": {},
   "outputs": [
    {
     "data": {
      "text/plain": [
       "0.19999999999094173"
      ]
     },
     "execution_count": 43,
     "metadata": {},
     "output_type": "execute_result"
    }
   ],
   "source": [
    "w_TP = w_MV[TP_index]\n",
    "w_TP"
   ]
  },
  {
   "cell_type": "code",
   "execution_count": null,
   "id": "6b57986b",
   "metadata": {},
   "outputs": [
    {
     "data": {
      "text/plain": [
       "0.15897142190975272"
      ]
     },
     "execution_count": 44,
     "metadata": {},
     "output_type": "execute_result"
    }
   ],
   "source": [
    "sigma_TP = sigma_MV[TP_index]\n",
    "sigma_TP"
   ]
  },
  {
   "cell_type": "code",
   "execution_count": null,
   "id": "8ae09b47",
   "metadata": {},
   "outputs": [
    {
     "data": {
      "text/plain": [
       "1.0882459118290642"
      ]
     },
     "execution_count": 45,
     "metadata": {},
     "output_type": "execute_result"
    }
   ],
   "source": [
    "SR_TP = (mu_TP - rf) / sigma_TP\n",
    "SR_TP"
   ]
  },
  {
   "cell_type": "code",
   "execution_count": null,
   "id": "bcee828a",
   "metadata": {},
   "outputs": [
    {
     "name": "stderr",
     "output_type": "stream",
     "text": [
      "<>:19: SyntaxWarning: invalid escape sequence '\\s'\n",
      "<>:19: SyntaxWarning: invalid escape sequence '\\s'\n",
      "/var/folders/l7/q149vsq90bb6jd1b96qw2qyc0000gn/T/ipykernel_86982/907976700.py:19: SyntaxWarning: invalid escape sequence '\\s'\n",
      "  plt.xlabel('$\\sigma(r)$')\n"
     ]
    },
    {
     "data": {
      "image/png": "[encoded data removed]",
      "text/plain": [
       "<Figure size 1200x700 with 1 Axes>"
      ]
     },
     "metadata": {},
     "output_type": "display_data"
    }
   ],
   "source": [
    "# Plot MV-Frontier\n",
    "\n",
    "plt.figure(1, figsize=(12,7))\n",
    "\n",
    "#show the MV-frontier that obeys constraints and bounds\n",
    "plt.plot(sigma_MV, mu_MV, color='blue',label='Constrained MV-Frontier')\n",
    "\n",
    "# add single assets investment opportunities and risk-free asset\n",
    "plt.scatter(np.diag(Sigma)**0.5, mu, s=20, color='black', label='Individual Assets')\n",
    "plt.scatter([0], [rf], s = 20, color='green', label='$r_f$')\n",
    "plt.scatter(sigma_TP, mu_TP, s = 20, color='red', label='TP Portfolio')\n",
    "\n",
    "# add capital market line\n",
    "x = np.linspace(0, np.max(sigma_MV))\n",
    "y = rf + SR_TP * x\n",
    "plt.plot(x, y, color='grey', label='Capital Market line')\n",
    "\n",
    "#descrive axis\n",
    "plt.xlabel('$\\sigma(r)$')\n",
    "plt.ylabel('$E[r]$')\n",
    "\n",
    "plt.legend()\n",
    "\n",
    "#add a title\n",
    "plt.title('Constrained Minimum Variance Frontier')\n",
    "plt.show()"
   ]
  },
  {
   "cell_type": "markdown",
   "id": "69287afb",
   "metadata": {},
   "source": [
    "# Optimal Complete Portfolio\n",
    "\n",
    "Ris Aversion = 3 (medium)"
   ]
  },
  {
   "cell_type": "code",
   "execution_count": null,
   "id": "5ddeb87b",
   "metadata": {},
   "outputs": [
    {
     "data": {
      "text/plain": [
       "1.369108860895584"
      ]
     },
     "execution_count": 47,
     "metadata": {},
     "output_type": "execute_result"
    }
   ],
   "source": [
    "A = 5\n",
    "\n",
    "y = (mu_TP - rf) / (A * (sigma_TP ** 2))\n",
    "\n",
    "y"
   ]
  },
  {
   "cell_type": "markdown",
   "id": "a549d4c9",
   "metadata": {},
   "source": [
    "# Decomposing expected portfolio performance (return and risk) using CAPM Model"
   ]
  },
  {
   "cell_type": "code",
   "execution_count": null,
   "id": "ee72bcce",
   "metadata": {},
   "outputs": [
    {
     "data": {
      "text/html": [
       "<div>\n",
       "<style scoped>\n",
       "    .dataframe tbody tr th:only-of-type {\n",
       "        vertical-align: middle;\n",
       "    }\n",
       "\n",
       "    .dataframe tbody tr th {\n",
       "        vertical-align: top;\n",
       "    }\n",
       "\n",
       "    .dataframe thead th {\n",
       "        text-align: right;\n",
       "    }\n",
       "</style>\n",
       "<table border=\"1\" class=\"dataframe\">\n",
       "  <thead>\n",
       "    <tr style=\"text-align: right;\">\n",
       "      <th></th>\n",
       "      <th>AAPL</th>\n",
       "      <th>AMZN</th>\n",
       "      <th>ASML</th>\n",
       "      <th>MSFT</th>\n",
       "      <th>NVDA</th>\n",
       "      <th>ORSTED.CO</th>\n",
       "      <th>SU.PA</th>\n",
       "      <th>TMO</th>\n",
       "      <th>TSLA</th>\n",
       "      <th>V</th>\n",
       "      <th>^GSPC</th>\n",
       "      <th>logreturn_AAPL</th>\n",
       "      <th>logreturn_MSFT</th>\n",
       "      <th>logreturn_TSLA</th>\n",
       "      <th>logreturn_ORSTED.CO</th>\n",
       "      <th>logreturn_V</th>\n",
       "      <th>logreturn_ASML</th>\n",
       "      <th>logreturn_TMO</th>\n",
       "      <th>logreturn_NVDA</th>\n",
       "      <th>logreturn_AMZN</th>\n",
       "      <th>logreturn_SU.PA</th>\n",
       "      <th>logreturn_sp500</th>\n",
       "    </tr>\n",
       "    <tr>\n",
       "      <th>Date</th>\n",
       "      <th></th>\n",
       "      <th></th>\n",
       "      <th></th>\n",
       "      <th></th>\n",
       "      <th></th>\n",
       "      <th></th>\n",
       "      <th></th>\n",
       "      <th></th>\n",
       "      <th></th>\n",
       "      <th></th>\n",
       "      <th></th>\n",
       "      <th></th>\n",
       "      <th></th>\n",
       "      <th></th>\n",
       "      <th></th>\n",
       "      <th></th>\n",
       "      <th></th>\n",
       "      <th></th>\n",
       "      <th></th>\n",
       "      <th></th>\n",
       "      <th></th>\n",
       "      <th></th>\n",
       "    </tr>\n",
       "  </thead>\n",
       "  <tbody>\n",
       "    <tr>\n",
       "      <th>2016-09-01</th>\n",
       "      <td>25.977859</td>\n",
       "      <td>41.865501</td>\n",
       "      <td>100.740158</td>\n",
       "      <td>51.652515</td>\n",
       "      <td>1.685230</td>\n",
       "      <td>241.362564</td>\n",
       "      <td>50.013790</td>\n",
       "      <td>155.304199</td>\n",
       "      <td>13.602000</td>\n",
       "      <td>77.817398</td>\n",
       "      <td>2168.270020</td>\n",
       "      <td>0.068851</td>\n",
       "      <td>0.008647</td>\n",
       "      <td>-0.038366</td>\n",
       "      <td>0.038174</td>\n",
       "      <td>0.023739</td>\n",
       "      <td>0.028041</td>\n",
       "      <td>0.044151</td>\n",
       "      <td>0.112535</td>\n",
       "      <td>0.084895</td>\n",
       "      <td>0.015754</td>\n",
       "      <td>-0.001235</td>\n",
       "    </tr>\n",
       "    <tr>\n",
       "      <th>2016-10-01</th>\n",
       "      <td>26.090454</td>\n",
       "      <td>39.491001</td>\n",
       "      <td>97.099625</td>\n",
       "      <td>53.732952</td>\n",
       "      <td>1.750160</td>\n",
       "      <td>235.833206</td>\n",
       "      <td>49.272366</td>\n",
       "      <td>143.705536</td>\n",
       "      <td>13.182000</td>\n",
       "      <td>77.638603</td>\n",
       "      <td>2126.149902</td>\n",
       "      <td>0.004325</td>\n",
       "      <td>0.039488</td>\n",
       "      <td>-0.031365</td>\n",
       "      <td>-0.023175</td>\n",
       "      <td>-0.002300</td>\n",
       "      <td>-0.036807</td>\n",
       "      <td>-0.077619</td>\n",
       "      <td>0.037805</td>\n",
       "      <td>-0.058389</td>\n",
       "      <td>-0.014935</td>\n",
       "      <td>-0.019617</td>\n",
       "    </tr>\n",
       "    <tr>\n",
       "      <th>2016-11-01</th>\n",
       "      <td>25.396492</td>\n",
       "      <td>37.528500</td>\n",
       "      <td>94.810478</td>\n",
       "      <td>54.037853</td>\n",
       "      <td>2.267633</td>\n",
       "      <td>210.204880</td>\n",
       "      <td>50.626266</td>\n",
       "      <td>136.942047</td>\n",
       "      <td>12.626667</td>\n",
       "      <td>72.755051</td>\n",
       "      <td>2198.810059</td>\n",
       "      <td>-0.026958</td>\n",
       "      <td>0.005658</td>\n",
       "      <td>-0.043041</td>\n",
       "      <td>-0.115042</td>\n",
       "      <td>-0.064966</td>\n",
       "      <td>-0.023858</td>\n",
       "      <td>-0.048208</td>\n",
       "      <td>0.259029</td>\n",
       "      <td>-0.050972</td>\n",
       "      <td>0.027107</td>\n",
       "      <td>0.033604</td>\n",
       "    </tr>\n",
       "    <tr>\n",
       "      <th>2016-12-01</th>\n",
       "      <td>26.751026</td>\n",
       "      <td>37.493500</td>\n",
       "      <td>103.148804</td>\n",
       "      <td>56.100174</td>\n",
       "      <td>2.629170</td>\n",
       "      <td>234.867752</td>\n",
       "      <td>53.277660</td>\n",
       "      <td>137.909668</td>\n",
       "      <td>14.246000</td>\n",
       "      <td>73.568230</td>\n",
       "      <td>2238.830078</td>\n",
       "      <td>0.051962</td>\n",
       "      <td>0.037454</td>\n",
       "      <td>0.120665</td>\n",
       "      <td>0.110940</td>\n",
       "      <td>0.011115</td>\n",
       "      <td>0.084293</td>\n",
       "      <td>0.007041</td>\n",
       "      <td>0.147932</td>\n",
       "      <td>-0.000933</td>\n",
       "      <td>0.051047</td>\n",
       "      <td>0.018037</td>\n",
       "    </tr>\n",
       "    <tr>\n",
       "      <th>2017-01-01</th>\n",
       "      <td>28.028290</td>\n",
       "      <td>41.174000</td>\n",
       "      <td>111.606636</td>\n",
       "      <td>58.366207</td>\n",
       "      <td>2.689272</td>\n",
       "      <td>228.811752</td>\n",
       "      <td>53.366302</td>\n",
       "      <td>149.098404</td>\n",
       "      <td>16.795334</td>\n",
       "      <td>77.990601</td>\n",
       "      <td>2278.870117</td>\n",
       "      <td>0.046642</td>\n",
       "      <td>0.039598</td>\n",
       "      <td>0.164625</td>\n",
       "      <td>-0.026123</td>\n",
       "      <td>0.058375</td>\n",
       "      <td>0.078808</td>\n",
       "      <td>0.078008</td>\n",
       "      <td>0.022602</td>\n",
       "      <td>0.093639</td>\n",
       "      <td>0.001662</td>\n",
       "      <td>0.017726</td>\n",
       "    </tr>\n",
       "  </tbody>\n",
       "</table>\n",
       "</div>"
      ],
      "text/plain": [
       "                 AAPL       AMZN  ...  logreturn_SU.PA  logreturn_sp500\n",
       "Date                              ...                                  \n",
       "2016-09-01  25.977859  41.865501  ...         0.015754        -0.001235\n",
       "2016-10-01  26.090454  39.491001  ...        -0.014935        -0.019617\n",
       "2016-11-01  25.396492  37.528500  ...         0.027107         0.033604\n",
       "2016-12-01  26.751026  37.493500  ...         0.051047         0.018037\n",
       "2017-01-01  28.028290  41.174000  ...         0.001662         0.017726\n",
       "\n",
       "[5 rows x 22 columns]"
      ]
     },
     "execution_count": 51,
     "metadata": {},
     "output_type": "execute_result"
    }
   ],
   "source": [
    "#get sp500 data and log-return\n",
    "\n",
    "data['logreturn_sp500'] = np.log(data['^GSPC']) - np.log(data['^GSPC'].shift())\n",
    "\n",
    "data = data.dropna()\n",
    "\n",
    "data.head()"
   ]
  }
 ],
 "metadata": {
  "kernelspec": {
   "display_name": "Python 3",
   "language": "python",
   "name": "python3"
  },
  "language_info": {
   "codemirror_mode": {
    "name": "ipython",
    "version": 3
   },
   "file_extension": ".py",
   "mimetype": "text/x-python",
   "name": "python",
   "nbconvert_exporter": "python",
   "pygments_lexer": "ipython3",
   "version": "3.12.2"
  }
 },
 "nbformat": 4,
 "nbformat_minor": 5
}
